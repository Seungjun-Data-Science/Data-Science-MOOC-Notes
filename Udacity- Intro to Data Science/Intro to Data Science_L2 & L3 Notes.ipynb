{
 "cells": [
  {
   "cell_type": "markdown",
   "metadata": {},
   "source": [
    "## 2. Data Wrangling"
   ]
  },
  {
   "cell_type": "markdown",
   "metadata": {},
   "source": [
    "### Common Data Formats\n",
    "\n",
    "- CSV\n",
    "- XML\n",
    "- JSON"
   ]
  },
  {
   "cell_type": "markdown",
   "metadata": {},
   "source": [
    "### Relational Databases"
   ]
  },
  {
   "cell_type": "markdown",
   "metadata": {},
   "source": [
    "Why is relational database useful?\n",
    "\n",
    "- It is straightforward to extract aggregated data with complex fillers\n",
    "- A database scales well\n",
    "- It ensures all data is consistently formatted\n",
    "\n",
    "use SQL to access databases"
   ]
  },
  {
   "cell_type": "markdown",
   "metadata": {},
   "source": [
    "### API (Application Programming Interface)\n",
    "\n",
    "Most widely used is (in places like Twitter):\n",
    "\n",
    "REST(Representational State Transfer)"
   ]
  },
  {
   "cell_type": "markdown",
   "metadata": {},
   "source": [
    "You usually do API call as follows:\n",
    "\n",
    "import json\n",
    "import requests\n",
    "\n",
    "url = 'xxxxx 무슨 홈페이지 주소'\n",
    "\n",
    "Make API call using requests library and load the results into a dict\n",
    "\n",
    "data = requests.get(url).text\n",
    "data = json.loads(data)"
   ]
  },
  {
   "cell_type": "markdown",
   "metadata": {},
   "source": [
    "### Sanity Check"
   ]
  },
  {
   "cell_type": "markdown",
   "metadata": {},
   "source": [
    "- Does the data make sense?\n",
    "- Is there a problem?\n",
    "- Does the data look like I expect it to?"
   ]
  },
  {
   "cell_type": "markdown",
   "metadata": {},
   "source": [
    "Pandas DataFrame describe()"
   ]
  },
  {
   "cell_type": "markdown",
   "metadata": {},
   "source": [
    "#### Why are values missing?\n",
    "\n",
    "- Occasional system errors prevent data from being recorded\n",
    "- Same subset of subjects or event types are systematically missing certain data attributes or missing entirely"
   ]
  },
  {
   "cell_type": "markdown",
   "metadata": {},
   "source": [
    "#### Dealing with missing data\n",
    "\n",
    "- Partial Deletion\n",
    "  - Listwise deletion: remove particular data point from all analyses even if some useful values were present\n",
    "  - Pairwise deletion: exclude a particular case from the analysis for tasks which are not possible with the data at hand\n",
    "- Imputation: process of approximating missing values\n",
    "  - Why impute 1 : If we just get rid of data, data is not enough\n",
    "  - Why impute 2 : Removing data could affect representativeness"
   ]
  },
  {
   "cell_type": "markdown",
   "metadata": {},
   "source": [
    "#### Imputation Methods\n",
    "\n",
    "- Fill missing values with mean (fillna method)\n",
    "- Impute using linear regression: Make an equation to predict variable missing values and then predict missing values\n",
    "  - Drawback 1: Overemphasize trends\n",
    "  - Drawback 2: Exact values for missing entries which will suggest greater certainty than we actually have"
   ]
  },
  {
   "cell_type": "markdown",
   "metadata": {},
   "source": [
    "## 3. Data Analysis"
   ]
  },
  {
   "cell_type": "markdown",
   "metadata": {
    "collapsed": true
   },
   "source": [
    "#### Statistical Rigor"
   ]
  },
  {
   "cell_type": "markdown",
   "metadata": {},
   "source": [
    "#### Significance tests\n",
    "\n",
    "- using our data, can we disprove an assumption with a pre-defined level of confidence?\n",
    "- e.g. 1,000 people in office. Favorite color? Can't check all 1,000 people, so only check 10. If 10 out of 10 polled say 'blue', blue becomes the most popular color (using smaller samples to say sth about the larger dataset)"
   ]
  },
  {
   "cell_type": "markdown",
   "metadata": {},
   "source": [
    "Why are statistical signifiance tests useful?\n",
    "\n",
    "- They provide a formalized framework for comparing and evaluating data\n",
    "- They enable us to evaluate whether perceived effects in our dataset reflect differences across the whole population"
   ]
  },
  {
   "cell_type": "markdown",
   "metadata": {},
   "source": [
    "- Many tests might make assumptions about data's distribution\n",
    "- Very common distirbution - NORMAL DISTRIBUTION (a.k.a. Gaussian distribution, Bell curve)"
   ]
  },
  {
   "cell_type": "markdown",
   "metadata": {},
   "source": [
    "#### Normal Distribution\n",
    "\n",
    "two parameters:\n",
    "- μ (mean)\n",
    "- σ (standard deviation)"
   ]
  },
  {
   "cell_type": "code",
   "execution_count": 1,
   "metadata": {
    "collapsed": true
   },
   "outputs": [],
   "source": [
    "# Normal Distribution f(x) 수식 append 필요"
   ]
  },
  {
   "cell_type": "markdown",
   "metadata": {},
   "source": [
    "#### t-test\n",
    "\n",
    "- Used for the purpose of whether to accepting or rejecting a null hypothesis\n",
    "- NULL hypothesis : A statement we are trying to disprove by running our test\n",
    "- Signficance Level: probability of rejecting the null hypothesis when it is true. For example, a significance level of 0.05 indicates a 5% risk of concluding that a difference exists when there is no actual difference.\n",
    "  - TEST statistic (T-values) : one number that helps accept or reject the null hypothesis\n",
    "\n",
    "ref) https://www.socialresearchmethods.net/kb/stat_t.php"
   ]
  },
  {
   "cell_type": "markdown",
   "metadata": {},
   "source": [
    "import scipy.stats\n",
    "\n",
    "scipy.stats.ttest_ind(list_1, list_2, equal_var = False)\n",
    "\n",
    "(parameter) equal_var : If True (default), perform a standard independent 2 sample test that assumes equal population variances [R643]. If False, perform Welch’s t-test, which does not assume equal population variance\n",
    "\n",
    "returns a tuple\n",
    "\n",
    "ref) https://docs.scipy.org/doc/scipy/reference/generated/scipy.stats.ttest_ind.html"
   ]
  },
  {
   "cell_type": "markdown",
   "metadata": {
    "collapsed": true
   },
   "source": [
    "Q.) You will be given a csv file that has three columns.  A player's name, handedness (L for lefthanded or R for righthanded) and their career batting average (called 'avg').  Write a function that will read that the csv file into a pandas data frame, and run Welch's t-test on the two cohorts defined by handedness. One cohort should be a data frame of right-handed batters. And the other cohort should be a data frame of left-handed batters. With a significance level of 95%, if there is no difference between the two cohorts, return a tuple consisting of True, and then the tuple returned by scipy.stats.ttest."
   ]
  },
  {
   "cell_type": "code",
   "execution_count": 2,
   "metadata": {
    "collapsed": false
   },
   "outputs": [],
   "source": [
    "import pandas as pd\n",
    "import numpy as np\n",
    "\n",
    "baseball_df = pd.read_csv('./baseball_stats.csv')"
   ]
  },
  {
   "cell_type": "code",
   "execution_count": 3,
   "metadata": {
    "collapsed": false,
    "scrolled": true
   },
   "outputs": [
    {
     "name": "stdout",
     "output_type": "stream",
     "text": [
      "<class 'pandas.core.frame.DataFrame'>\n",
      "RangeIndex: 18177 entries, 0 to 18176\n",
      "Data columns (total 6 columns):\n",
      "name          18177 non-null object\n",
      "handedness    16974 non-null object\n",
      "height        18177 non-null object\n",
      "weight        18177 non-null object\n",
      "avg           18177 non-null float64\n",
      "HR            18177 non-null int64\n",
      "dtypes: float64(1), int64(1), object(4)\n",
      "memory usage: 852.1+ KB\n"
     ]
    }
   ],
   "source": [
    "baseball_df.info()"
   ]
  },
  {
   "cell_type": "code",
   "execution_count": 4,
   "metadata": {
    "collapsed": false
   },
   "outputs": [
    {
     "data": {
      "text/html": [
       "<div>\n",
       "<table border=\"1\" class=\"dataframe\">\n",
       "  <thead>\n",
       "    <tr style=\"text-align: right;\">\n",
       "      <th></th>\n",
       "      <th>name</th>\n",
       "      <th>handedness</th>\n",
       "      <th>height</th>\n",
       "      <th>weight</th>\n",
       "      <th>avg</th>\n",
       "      <th>HR</th>\n",
       "    </tr>\n",
       "  </thead>\n",
       "  <tbody>\n",
       "    <tr>\n",
       "      <th>0</th>\n",
       "      <td>Brandon Hyde</td>\n",
       "      <td>R</td>\n",
       "      <td>75</td>\n",
       "      <td>210</td>\n",
       "      <td>0.000</td>\n",
       "      <td>0</td>\n",
       "    </tr>\n",
       "    <tr>\n",
       "      <th>1</th>\n",
       "      <td>Carey Selph</td>\n",
       "      <td>R</td>\n",
       "      <td>69</td>\n",
       "      <td>175</td>\n",
       "      <td>0.277</td>\n",
       "      <td>0</td>\n",
       "    </tr>\n",
       "    <tr>\n",
       "      <th>2</th>\n",
       "      <td>Philip Nastu</td>\n",
       "      <td>L</td>\n",
       "      <td>74</td>\n",
       "      <td>180</td>\n",
       "      <td>0.040</td>\n",
       "      <td>0</td>\n",
       "    </tr>\n",
       "    <tr>\n",
       "      <th>3</th>\n",
       "      <td>Kent Hrbek</td>\n",
       "      <td>L</td>\n",
       "      <td>76</td>\n",
       "      <td>200</td>\n",
       "      <td>0.282</td>\n",
       "      <td>293</td>\n",
       "    </tr>\n",
       "    <tr>\n",
       "      <th>4</th>\n",
       "      <td>Bill Risley</td>\n",
       "      <td>R</td>\n",
       "      <td>74</td>\n",
       "      <td>215</td>\n",
       "      <td>0.000</td>\n",
       "      <td>0</td>\n",
       "    </tr>\n",
       "  </tbody>\n",
       "</table>\n",
       "</div>"
      ],
      "text/plain": [
       "           name handedness height weight    avg   HR\n",
       "0  Brandon Hyde          R     75    210  0.000    0\n",
       "1   Carey Selph          R     69    175  0.277    0\n",
       "2  Philip Nastu          L     74    180  0.040    0\n",
       "3    Kent Hrbek          L     76    200  0.282  293\n",
       "4   Bill Risley          R     74    215  0.000    0"
      ]
     },
     "execution_count": 4,
     "metadata": {},
     "output_type": "execute_result"
    }
   ],
   "source": [
    "baseball_df.head()"
   ]
  },
  {
   "cell_type": "code",
   "execution_count": 5,
   "metadata": {
    "collapsed": true
   },
   "outputs": [],
   "source": [
    "right_batter_df = \\\n",
    "baseball_df.loc[baseball_df.handedness == 'R']\n",
    "\n",
    "left_batter_df = \\\n",
    "baseball_df.loc[baseball_df.handedness == 'L']"
   ]
  },
  {
   "cell_type": "code",
   "execution_count": 6,
   "metadata": {
    "collapsed": false,
    "scrolled": true
   },
   "outputs": [],
   "source": [
    "import scipy.stats\n",
    "\n",
    "result = \\\n",
    "scipy.stats.ttest_ind(right_batter_df['avg'], left_batter_df['avg'], \n",
    "                      equal_var = False)"
   ]
  },
  {
   "cell_type": "code",
   "execution_count": 7,
   "metadata": {
    "collapsed": false
   },
   "outputs": [
    {
     "name": "stdout",
     "output_type": "stream",
     "text": [
      "False Ttest_indResult(statistic=-9.9357022262420944, pvalue=3.8102742258887383e-23)\n"
     ]
    }
   ],
   "source": [
    "# significance level : 95%\n",
    "\n",
    "if result[1] <= .05:\n",
    "    print(False, result)\n",
    "else:\n",
    "    print(True, result)"
   ]
  },
  {
   "cell_type": "markdown",
   "metadata": {},
   "source": [
    "### When data is non-normal"
   ]
  },
  {
   "cell_type": "markdown",
   "metadata": {},
   "source": [
    "#### Shapiro-Wilk Test (Checking whether data is Gaussian)\n",
    "\n",
    "w,p = scipy.stats.shapiro(data)\n",
    "\n",
    "w: test statistic\n",
    "p: p-value"
   ]
  },
  {
   "cell_type": "markdown",
   "metadata": {
    "collapsed": true
   },
   "source": [
    "Non-parametric test: A statistical test that does not assume our data is drawn from any particular underlying probability distribution\n",
    "\n",
    "#### Mann-Whitney u test\n",
    "\n",
    "Tests null hypothesis that two populations are the same\n",
    "\n",
    "u,p = scipy.stats.mannwhitneyu(x,y)\n",
    "\n",
    "u: mann-whitney statistics\n",
    "p: p-value\n",
    "\n",
    "http://docs.scipy.org/doc/scipy/reference/generated/scipy.stats.mannwhitneyu.html\n",
    "\n",
    "http://docs.scipy.org/doc/numpy/reference/generated/numpy.mean.html"
   ]
  },
  {
   "cell_type": "markdown",
   "metadata": {},
   "source": [
    "### Machine learning\n",
    "\n",
    "A branch of artificial intelligence focused on constructing systems and learnf rom large amounts of data to make predictions"
   ]
  },
  {
   "cell_type": "markdown",
   "metadata": {},
   "source": [
    "#### Statistics v.s. Machine Leaerning\n",
    "\n",
    "What is the difference between statistics and machine learning\n",
    "\n",
    "Not much.... However...\n",
    "- Statistics is focused on analyzing existing data, and drawing valid conclusions\n",
    "- Machine learning is foucused on making predictions"
   ]
  },
  {
   "cell_type": "markdown",
   "metadata": {},
   "source": [
    "#### Types of Machine Learning\n",
    "- Supervised Learning\n",
    "  - Have training samples with input and output\n",
    "  - Predict output for future input-only data\n",
    "  - Classification\n",
    "  - Regression\n",
    " \n",
    "- Unsupervised Learning\n",
    "  - Trying to understand the structure of the data\n",
    "  - Clustering"
   ]
  },
  {
   "cell_type": "markdown",
   "metadata": {},
   "source": [
    "#### Predicting with Regression\n",
    "\n",
    "Predicting lifetime number of home-runs(HRs)\n",
    "\n",
    "Can we write an equation that takes a bunch of info (e.g. height, weight, birth year, position) and predict HR?\n",
    "\n",
    "Input data -> Model -> Predictions"
   ]
  },
  {
   "cell_type": "markdown",
   "metadata": {},
   "source": [
    "Gradient Descent & Cost Function"
   ]
  },
  {
   "cell_type": "code",
   "execution_count": 8,
   "metadata": {
    "collapsed": true
   },
   "outputs": [],
   "source": [
    "# cost function 관련 수식들 모두 append 필요"
   ]
  },
  {
   "cell_type": "markdown",
   "metadata": {},
   "source": [
    "Q.) Write code here that performs num_iterations updates to the elements of theta. times. Every time you compute the cost for a given list of thetas, append it to cost_history. You may use the helper function like \"compute_cost\" listed below"
   ]
  },
  {
   "cell_type": "code",
   "execution_count": 9,
   "metadata": {
    "collapsed": true
   },
   "outputs": [],
   "source": [
    "import numpy as np\n",
    "import pandas as pd\n",
    "\n",
    "def compute_cost(features, values, theta):\n",
    "    \"\"\"\n",
    "    Compute the cost of a list of parameters, theta, given a list of features \n",
    "    (input data points) and values (output data points).\n",
    "    \"\"\"\n",
    "    m = len(values)\n",
    "    sum_of_square_errors = numpy.square(numpy.dot(features, theta) - values).sum()\n",
    "    cost = sum_of_square_errors / (2*m)\n",
    "\n",
    "    return cost\n",
    "\n",
    "def gradient_descent(features, values, theta, alpha, num_iterations):\n",
    "    \"\"\"\n",
    "    Perform gradient descent given a data set with an arbitrary number of features.\n",
    "    \"\"\"\n",
    "    cost_history = []\n",
    "    \n",
    "    for i in range(num_iterations):\n",
    "        predicted_values = numpy.dot(features, theta)\n",
    "        theta = theta - alpha / m * np.dot((predicted_values - value), features)\n",
    "        cost = compute_cost(features, values, theta)\n",
    "        cost_history.append(cost)\n",
    "    return theta, pandas.Series(cost_history)\n"
   ]
  },
  {
   "cell_type": "markdown",
   "metadata": {},
   "source": [
    "#### Coefficient of Determination (Checking whether model is effective) "
   ]
  },
  {
   "cell_type": "markdown",
   "metadata": {
    "collapsed": true
   },
   "source": [
    "- R^2 closer to 1 : better the model, closer it is to zero, poorer our model"
   ]
  },
  {
   "cell_type": "markdown",
   "metadata": {},
   "source": [
    "Q.) Write a function that, given two input numpy arrays, 'data', and 'predictions,' returns the coefficient of determination, R^2, for the model that produced predictions. Numpy has a couple of functions -- np.mean() and np.sum() -- that you might find useful, but you don't have to use them"
   ]
  },
  {
   "cell_type": "code",
   "execution_count": 11,
   "metadata": {
    "collapsed": true
   },
   "outputs": [],
   "source": [
    "import numpy as np\n",
    "\n",
    "def compute_r_squared(data, predictions):\n",
    "    r_squared = 1 - ((predictions* - data)**2).sum() / \\\n",
    "    ((data - np.mean(data))**2).sum()\n",
    "    return r_squared"
   ]
  },
  {
   "cell_type": "markdown",
   "metadata": {},
   "source": [
    "Additional Considerations\n",
    "\n",
    "- Other types of linear regression\n",
    "  - Ordinary least squares regression: Always guaranteed to find the optimal outcome whereas gradient descent is not\n",
    "- Parameter Estimation: What are the confidence intervals on our parameters?\n",
    "- Under / Overfitting\n",
    "- Multiple local minima : use various different random initial thetas / seed random values for repeatability for restoration purposes "
   ]
  },
  {
   "cell_type": "markdown",
   "metadata": {},
   "source": [
    "### Problem Set 3"
   ]
  },
  {
   "cell_type": "code",
   "execution_count": 32,
   "metadata": {
    "collapsed": false
   },
   "outputs": [],
   "source": [
    "turnstile_data_weather_df = \\\n",
    "pd.read_csv('./turnstile_data_master_with_weather.csv')"
   ]
  },
  {
   "cell_type": "code",
   "execution_count": 33,
   "metadata": {
    "collapsed": false,
    "scrolled": true
   },
   "outputs": [
    {
     "name": "stdout",
     "output_type": "stream",
     "text": [
      "<class 'pandas.core.frame.DataFrame'>\n",
      "RangeIndex: 131951 entries, 0 to 131950\n",
      "Data columns (total 22 columns):\n",
      "Unnamed: 0         131951 non-null int64\n",
      "UNIT               131951 non-null object\n",
      "DATEn              131951 non-null object\n",
      "TIMEn              131951 non-null object\n",
      "Hour               131951 non-null int64\n",
      "DESCn              131951 non-null object\n",
      "ENTRIESn_hourly    131951 non-null float64\n",
      "EXITSn_hourly      131951 non-null float64\n",
      "maxpressurei       131951 non-null float64\n",
      "maxdewpti          131951 non-null float64\n",
      "mindewpti          131951 non-null float64\n",
      "minpressurei       131951 non-null float64\n",
      "meandewpti         131951 non-null float64\n",
      "meanpressurei      131951 non-null float64\n",
      "fog                131951 non-null float64\n",
      "rain               131951 non-null float64\n",
      "meanwindspdi       131951 non-null float64\n",
      "mintempi           131951 non-null float64\n",
      "meantempi          131951 non-null float64\n",
      "maxtempi           131951 non-null float64\n",
      "precipi            131951 non-null float64\n",
      "thunder            131951 non-null float64\n",
      "dtypes: float64(16), int64(2), object(4)\n",
      "memory usage: 22.1+ MB\n"
     ]
    }
   ],
   "source": [
    "turnstile_data_weather_df.info()"
   ]
  },
  {
   "cell_type": "code",
   "execution_count": 37,
   "metadata": {
    "collapsed": false,
    "scrolled": true
   },
   "outputs": [
    {
     "data": {
      "text/plain": [
       "<matplotlib.legend.Legend at 0xab87c88>"
      ]
     },
     "execution_count": 37,
     "metadata": {},
     "output_type": "execute_result"
    },
    {
     "data": {
      "image/png": "[encoded data removed]",
      "text/plain": [
       "<matplotlib.figure.Figure at 0x9f8f2e8>"
      ]
     },
     "metadata": {},
     "output_type": "display_data"
    }
   ],
   "source": [
    "%matplotlib inline\n",
    "import matplotlib\n",
    "import matplotlib.pyplot as plt\n",
    "plt.style.use('seaborn-deep')\n",
    "\n",
    "entries_hourly_rain = turnstile_data_weather_df.\\\n",
    "loc[turnstile_data_weather_df.rain==1, 'ENTRIESn_hourly']\n",
    "    \n",
    "entries_hourly_norain = turnstile_data_weather_df.\\\n",
    "             loc[turnstile_data_weather_df.rain==0, 'ENTRIESn_hourly']\n",
    "\n",
    "plt.hist([entries_hourly_rain,entries_hourly_norain], \n",
    "         bins=23, alpha=0.7, label=['rain', 'no rain'])\n",
    "plt.legend(loc='upper right')\n",
    "\n",
    "# non-normal distribution"
   ]
  },
  {
   "cell_type": "markdown",
   "metadata": {},
   "source": [
    "Q.)  You will want to take the means and run the Mann Whitney U-test on the ENTRIESn_hourly column in the turnstile_weather dataframe. This function should return:\n",
    "- The mean of entries with rain\n",
    "- The mean of entries without rain\n",
    "- The Mann-Whitney U-statistic and p-value comparing the number of entries with rain and the number of entries without rain. You should feel free to use scipy's Mann-Whitney implementation, and you might also find it useful to use numpy's mean function.\n",
    "\n",
    "https://docs.scipy.org/doc/scipy/reference/generated/scipy.stats.mannwhitneyu.html"
   ]
  },
  {
   "cell_type": "code",
   "execution_count": 39,
   "metadata": {
    "collapsed": false,
    "scrolled": true
   },
   "outputs": [
    {
     "name": "stdout",
     "output_type": "stream",
     "text": [
      "1105.4463767458733\n",
      "1090.278780151855\n",
      "1924409167.0 0.0193096344138\n"
     ]
    }
   ],
   "source": [
    "print(entries_hourly_rain.mean())\n",
    "print(entries_hourly_norain.mean())\n",
    "\n",
    "u,p =\\\n",
    "scipy.stats.mannwhitneyu(entries_hourly_rain, entries_hourly_norain)\n",
    "\n",
    "print(u,p)"
   ]
  },
  {
   "cell_type": "markdown",
   "metadata": {},
   "source": [
    "Q.) Use Linear Regression\n",
    "Using the information stored in the dataframe, let's predict the ridership of the NYC subway using linear regression with gradient descent\n",
    "Your prediction should have a R^2 value of 0.40 or better. You need to experiment using various input features contained in the dataframe. Select features (in the predictions procedure) and make predictions."
   ]
  },
  {
   "cell_type": "code",
   "execution_count": 45,
   "metadata": {
    "collapsed": false
   },
   "outputs": [],
   "source": [
    "import numpy as np\n",
    "import pandas as pd\n",
    "\n",
    "def normalize_features(df):\n",
    "    \"\"\"\n",
    "    Normalize the features in the data set.\n",
    "    \"\"\"\n",
    "    mu = df.mean()\n",
    "    sigma = df.std()\n",
    "    \n",
    "    if (sigma == 0).any():\n",
    "        raise Exception(\"One or more features had the same value for all samples, \\\n",
    "        and thus could \" + \"not be normalized. Please do not include features \\\n",
    "        with only a single value \" + \"in your model.\")\n",
    "    df_normalized = (df - df.mean()) / df.std()\n",
    "\n",
    "    return df_normalized, mu, sigma\n",
    "\n",
    "def compute_cost(features, values, theta):\n",
    "    \"\"\"\n",
    "    Compute the cost function given a set of features / values, \n",
    "    and the values for our thetas.\n",
    "    \"\"\"\n",
    "    \n",
    "    m = len(values)\n",
    "    sum_of_square_errors = np.square(np.dot(features, theta) - values).sum()\n",
    "    cost = sum_of_square_errors / (2*m)\n",
    "\n",
    "    return cost\n",
    "\n",
    "def gradient_descent(features, values, theta, alpha, num_iterations):\n",
    "    \"\"\"\n",
    "    Perform gradient descent given a data set with an arbitrary number of features.\n",
    "    \n",
    "    This can be the same gradient descent code as in the lesson #3 exercises,\n",
    "    but feel free to implement your own.\n",
    "    \"\"\"\n",
    "    \n",
    "    m = len(values)\n",
    "    cost_history = []\n",
    "\n",
    "    for i in range(num_iterations):\n",
    "        predicted_values = np.dot(features, theta)\n",
    "        theta = theta - alpha / m * np.dot((predicted_values - values), features)\n",
    "        cost = compute_cost(features, values, theta)\n",
    "        cost_history.append(cost)\n",
    "    return theta, pd.Series(cost_history)"
   ]
  },
  {
   "cell_type": "code",
   "execution_count": 50,
   "metadata": {
    "collapsed": true
   },
   "outputs": [],
   "source": [
    "\n",
    "def predictions(dataframe):    \n",
    "    # Select Features (try different features!)\n",
    "    features = dataframe[['rain', 'precipi', 'Hour', 'meantempi']]\n",
    "    \n",
    "    # Add UNIT to features using dummy variables\n",
    "    dummy_units = pd.get_dummies(dataframe['UNIT'], prefix='unit')\n",
    "    features = features.join(dummy_units)\n",
    "    \n",
    "    # Values\n",
    "    values = dataframe['ENTRIESn_hourly']\n",
    "    m = len(values)\n",
    "\n",
    "    features, mu, sigma = normalize_features(features)\n",
    "    features['ones'] = np.ones(m) # Add a column of 1s (y intercept)\n",
    "    \n",
    "    # Convert features and values to numpy arrays\n",
    "    features_array = np.array(features)\n",
    "    values_array = np.array(values)\n",
    "\n",
    "    # Set values for alpha, number of iterations.\n",
    "    alpha = 0.1 # please feel free to change this value\n",
    "    num_iterations = 75 # please feel free to change this value\n",
    "\n",
    "    # Initialize theta, perform gradient descent\n",
    "    theta_gradient_descent = np.zeros(len(features.columns))\n",
    "    theta_gradient_descent, cost_history = \\\n",
    "    gradient_descent(features_array, values_array, theta_gradient_descent, \n",
    "                     alpha, num_iterations)\n",
    "\n",
    "    # plot = plot_cost_history(alpha, cost_history)\n",
    "    plot = None\n",
    "    \n",
    "    predictions = np.dot(features_array, theta_gradient_descent)\n",
    "    return predictions, plot\n",
    "\n",
    "\n",
    "def plot_cost_history(alpha, cost_history):\n",
    "    \"\"\"This function is for viewing the plot of your cost history\"\"\"\n",
    "    cost_df = pd.DataFrame({\n",
    "      'Cost_History': cost_history,\n",
    "      'Iteration': range(len(cost_history))\n",
    "   })\n",
    "    return ggplot(cost_df, aes('Iteration', 'Cost_History')) + \\\n",
    "    geom_point() + ggtitle('Cost History for alpha = %.3f' % alpha )"
   ]
  },
  {
   "cell_type": "code",
   "execution_count": 51,
   "metadata": {
    "collapsed": false
   },
   "outputs": [
    {
     "data": {
      "text/plain": [
       "(array([ 3379.34466358,  3648.71075058,  3918.07683757, ...,   856.38536737,\n",
       "          856.38536737,   856.38536737]), None)"
      ]
     },
     "execution_count": 51,
     "metadata": {},
     "output_type": "execute_result"
    }
   ],
   "source": [
    "predictions(turnstile_data_weather_df)"
   ]
  },
  {
   "cell_type": "markdown",
   "metadata": {
    "collapsed": true
   },
   "source": [
    "Q.) Using the same methods that we used to plot a histogram of entries\n",
    "per hour for our data, why don't you make a histogram of the residuals\n",
    "(that is, the difference between the original hourly entry data and the predicted values). Try different bin-widths for your histogram. Based on this residual histogram, do you have any insight into how our model performed?  Reading a bit on this webpage might be useful:\n",
    "http://www.itl.nist.gov/div898/handbook/pri/section2/pri24.htm"
   ]
  },
  {
   "cell_type": "code",
   "execution_count": 67,
   "metadata": {
    "collapsed": false,
    "scrolled": true
   },
   "outputs": [
    {
     "data": {
      "text/plain": [
       "<matplotlib.axes._subplots.AxesSubplot at 0xe27c278>"
      ]
     },
     "execution_count": 67,
     "metadata": {},
     "output_type": "execute_result"
    },
    {
     "data": {
      "image/png": "[encoded data removed]",
      "text/plain": [
       "<matplotlib.figure.Figure at 0xc6dd2b0>"
      ]
     },
     "metadata": {},
     "output_type": "display_data"
    }
   ],
   "source": [
    "# plot residuals\n",
    "\n",
    "import numpy as np\n",
    "import scipy\n",
    "import matplotlib.pyplot as plt\n",
    "%matplotlib inline\n",
    "\n",
    "(turnstile_data_weather_df['ENTRIESn_hourly'] -\n",
    " predictions(turnstile_data_weather_df)[0]).hist(bins=20)"
   ]
  }
 ],
 "metadata": {
  "anaconda-cloud": {},
  "kernelspec": {
   "display_name": "Python 3",
   "language": "python",
   "name": "python3"
  },
  "language_info": {
   "codemirror_mode": {
    "name": "ipython",
    "version": 3
   },
   "file_extension": ".py",
   "mimetype": "text/x-python",
   "name": "python",
   "nbconvert_exporter": "python",
   "pygments_lexer": "ipython3",
   "version": "3.5.3"
  }
 },
 "nbformat": 4,
 "nbformat_minor": 0
}
