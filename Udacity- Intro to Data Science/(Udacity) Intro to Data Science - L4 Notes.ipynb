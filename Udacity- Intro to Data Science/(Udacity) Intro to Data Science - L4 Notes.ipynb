{
 "cells": [
  {
   "cell_type": "markdown",
   "metadata": {},
   "source": [
    "## 4. Data Visualization"
   ]
  },
  {
   "cell_type": "markdown",
   "metadata": {},
   "source": [
    "### What is information visualization?\n",
    "\n",
    "- Effective communication of complex quantitative ideas\n",
    "  - clarity\n",
    "  - precision\n",
    "  - efficiency\n",
    "\n",
    "- Helps you nptoe things about data (correlations, trends, etc.) that might go unnoticed\n",
    "\n",
    "- can highlight aspects of data, or \"tell a story\""
   ]
  },
  {
   "cell_type": "markdown",
   "metadata": {},
   "source": [
    "(e.g.) Tableau Visualization : Napoleon's March to Russia\n",
    "What information can be drawn from this visualization?\n",
    "- size of the army\n",
    "- location of the army\n",
    "- direction of army\n",
    "- temperature on various dates during retreat"
   ]
  },
  {
   "cell_type": "markdown",
   "metadata": {},
   "source": [
    "#### Components of effective visualization\n",
    "- Visual Cues / Visual Encoding\n",
    "  - Encoding data with shapes/color/sizes\n",
    "- Coordinate Systems\n",
    "- Scale/Data Types (Types of Scale : Numeric, Categorial, Time Series)\n",
    "- Context\n",
    "  - Clarify what values represent\n",
    "  - Explain how to interpret data\n",
    "  - Titles axis labels, annotations"
   ]
  },
  {
   "cell_type": "markdown",
   "metadata": {},
   "source": [
    "### Visual Encodings"
   ]
  },
  {
   "cell_type": "markdown",
   "metadata": {},
   "source": [
    "- Position\n",
    "- Length\n",
    "- Angle Direction\n",
    "- Shape\n",
    "- Area/Volume\n",
    "- Color\n",
    "  - Hue\n",
    "  - Saturation"
   ]
  },
  {
   "cell_type": "code",
   "execution_count": 287,
   "metadata": {
    "collapsed": true
   },
   "outputs": [],
   "source": [
    "# 그림들 append 필요"
   ]
  },
  {
   "cell_type": "markdown",
   "metadata": {},
   "source": [
    "#### Perception of visual cues\n",
    "\n",
    "Most accurate visual encodings to the least accurate one\n",
    "\n",
    "- rank 1: Position\n",
    "- rank 2: Angle\n",
    "- rank 3: Area\n",
    "- rank 4: Saturation"
   ]
  },
  {
   "cell_type": "code",
   "execution_count": 288,
   "metadata": {
    "collapsed": true
   },
   "outputs": [],
   "source": [
    "# position-length-angle.... (more accurate-least accurate)\n",
    "# 그림 append ㄱㄱ"
   ]
  },
  {
   "cell_type": "markdown",
   "metadata": {},
   "source": [
    "### Plotting in Python\n",
    "\n",
    "- Many packages\n",
    "  - Matplotlib\n",
    "  - ggplot\n",
    "- why ggplot?\n",
    "  - Looks nicer\n",
    "  - Grammer of Graphics"
   ]
  },
  {
   "cell_type": "markdown",
   "metadata": {},
   "source": [
    "#### Grammer of Graphics (ggplot)\n",
    "- plots convey information through aesthetics\n",
    "  - x-position, y-position etc.\n",
    "- Elements in a plot are geometric shapes\n",
    "  - points, lines, bars\n",
    "  - size, color"
   ]
  },
  {
   "cell_type": "markdown",
   "metadata": {},
   "source": [
    "#### ggplot plotting process\n",
    "\n",
    "- step1 : create plot\n",
    "  - ggplot(data, aes(xvar, yvar) + geom_point( ) + geom_line( )\n",
    "- step2 : Represnet data with geometric objects\n",
    "  - ggplot(data, aes(xvar, yvar)) + geom_point(color='coral'/+geom-line(color='coral')\n",
    "- step3 : Adding some labels for context\n",
    "  - ggplot(data, aes(xvar, yvar)) + geom_point(color='coral'/+geom-line(color='coral') + ggtitle('title') + xlab('x-label') + ylab('y-label')\n",
    "- step4: print(ggplot(data, aes(xvar, yvar))"
   ]
  },
  {
   "cell_type": "markdown",
   "metadata": {},
   "source": [
    "Q.) A csv file will be passed in as an argument which contains two columns -- 'HR' (the number of homerun hits) and 'yearID' (the year in which the homeruns were hit). Fill out the body of this function, lineplot, to use the passed-in csv file, hr_year.csv, and create a chart with points connected by lines, both colored 'red', showing the number of HR by year. You will want to first load the csv file into a pandas dataframe and use the pandas dataframe along with ggplot to create your visualization."
   ]
  },
  {
   "cell_type": "code",
   "execution_count": 289,
   "metadata": {
    "collapsed": true
   },
   "outputs": [],
   "source": [
    "import pandas as pd\n",
    "import numpy as np\n",
    "from ggplot import *\n",
    "\n",
    "df_year_hr = pd.read_csv('./hr_year.csv')"
   ]
  },
  {
   "cell_type": "code",
   "execution_count": 290,
   "metadata": {
    "collapsed": false,
    "scrolled": true
   },
   "outputs": [
    {
     "name": "stdout",
     "output_type": "stream",
     "text": [
      "<class 'pandas.core.frame.DataFrame'>\n",
      "RangeIndex: 142 entries, 0 to 141\n",
      "Data columns (total 3 columns):\n",
      "Unnamed: 0    142 non-null int64\n",
      "yearID        142 non-null int64\n",
      "HR            142 non-null int64\n",
      "dtypes: int64(3)\n",
      "memory usage: 3.4 KB\n"
     ]
    }
   ],
   "source": [
    "df_year_hr.info()"
   ]
  },
  {
   "cell_type": "code",
   "execution_count": 291,
   "metadata": {
    "collapsed": false
   },
   "outputs": [
    {
     "data": {
      "image/png": "[encoded data removed]",
      "text/plain": [
       "<matplotlib.figure.Figure at 0xb614a20>"
      ]
     },
     "metadata": {},
     "output_type": "display_data"
    },
    {
     "data": {
      "text/plain": [
       "<ggplot: (11932925)>"
      ]
     },
     "execution_count": 291,
     "metadata": {},
     "output_type": "execute_result"
    }
   ],
   "source": [
    "%matplotlib inline\n",
    "\n",
    "ggplot(df_year_hr, aes('yearID', 'HR'))+\\\n",
    "geom_point(color='red') + geom_line(color='red')+ \\\n",
    "ggtitle('Number of Yearly Homeruns') + xlab('year')+\\\n",
    "ylab('Num of Homeruns')"
   ]
  },
  {
   "cell_type": "markdown",
   "metadata": {},
   "source": [
    "### Data Types"
   ]
  },
  {
   "cell_type": "markdown",
   "metadata": {},
   "source": [
    "- Numeric data\n",
    "  - A measurement (e.g. height, weight) or count (e.g. HR or hits)\n",
    "  - Discrete and Continuous\n",
    "    - Discrete : whole number (e.g. 10, 34, 25)\n",
    "    - Continuous : any number within range\n",
    "\n",
    "- Categorical data\n",
    "  - represent characteristics (e.g. position, team, hometown, handedness)\n",
    "  - can take on numerical values, but they don't have mathematical meaning\n",
    "  - ordinal data : categories with some orders or ranking (e.g. Very low, low, average, high, very high)\n",
    "  \n",
    "- Time Series data\n",
    "  - Data collected via repeated measurements over time\n",
    "  - (e.g.) Average HR / players over many years"
   ]
  },
  {
   "cell_type": "markdown",
   "metadata": {},
   "source": [
    "### Scales"
   ]
  },
  {
   "cell_type": "code",
   "execution_count": 292,
   "metadata": {
    "collapsed": true
   },
   "outputs": [],
   "source": [
    "# NSW Health system 그림 append"
   ]
  },
  {
   "cell_type": "markdown",
   "metadata": {},
   "source": [
    "when used incorrectly, scales can misguide or confuse readers\n",
    "\n",
    "- Inconsistent scale\n",
    "  - 4 stick people = 43,000 nurses\n",
    "  - increase in 28 stick = increase in 3,000 nurses(?!!)"
   ]
  },
  {
   "cell_type": "markdown",
   "metadata": {},
   "source": [
    "### Plotting with ggplot"
   ]
  },
  {
   "cell_type": "markdown",
   "metadata": {},
   "source": [
    "Q.) Write a function, lineplot_compare, that will read a csv file called hr_by_team_year_sf_la.csv and plot it using pandas and ggplot. This csv file has three columns: yearID, HR, and teamID. The data in the file gives the total number of home runs hit each year by the SF Giants (teamID == 'SFN') and the LA Dodgers (teamID == \"LAN\"). Produce a visualization comparing the total home runs by year of the two teams.\n",
    "Note that to differentiate between multiple categories on the same plot in ggplot, we can pass color in with the other arguments to aes, rather than in our geometry functions. For example, ggplot(data, aes(xvar, yvar, color=category_var)). This might help you in this exercise."
   ]
  },
  {
   "cell_type": "code",
   "execution_count": 293,
   "metadata": {
    "collapsed": false
   },
   "outputs": [],
   "source": [
    "df_hr_year_sf_la = pd.read_csv('./hr_by_team_year_sf_la.csv')"
   ]
  },
  {
   "cell_type": "code",
   "execution_count": 294,
   "metadata": {
    "collapsed": false
   },
   "outputs": [
    {
     "data": {
      "text/html": [
       "<div>\n",
       "<table border=\"1\" class=\"dataframe\">\n",
       "  <thead>\n",
       "    <tr style=\"text-align: right;\">\n",
       "      <th></th>\n",
       "      <th>Unnamed: 0</th>\n",
       "      <th>teamID</th>\n",
       "      <th>yearID</th>\n",
       "      <th>HR</th>\n",
       "    </tr>\n",
       "  </thead>\n",
       "  <tbody>\n",
       "    <tr>\n",
       "      <th>0</th>\n",
       "      <td>1320</td>\n",
       "      <td>LAN</td>\n",
       "      <td>1958</td>\n",
       "      <td>172</td>\n",
       "    </tr>\n",
       "    <tr>\n",
       "      <th>1</th>\n",
       "      <td>1325</td>\n",
       "      <td>SFN</td>\n",
       "      <td>1958</td>\n",
       "      <td>170</td>\n",
       "    </tr>\n",
       "    <tr>\n",
       "      <th>2</th>\n",
       "      <td>1336</td>\n",
       "      <td>LAN</td>\n",
       "      <td>1959</td>\n",
       "      <td>148</td>\n",
       "    </tr>\n",
       "    <tr>\n",
       "      <th>3</th>\n",
       "      <td>1341</td>\n",
       "      <td>SFN</td>\n",
       "      <td>1959</td>\n",
       "      <td>167</td>\n",
       "    </tr>\n",
       "    <tr>\n",
       "      <th>4</th>\n",
       "      <td>1352</td>\n",
       "      <td>LAN</td>\n",
       "      <td>1960</td>\n",
       "      <td>126</td>\n",
       "    </tr>\n",
       "  </tbody>\n",
       "</table>\n",
       "</div>"
      ],
      "text/plain": [
       "   Unnamed: 0 teamID  yearID   HR\n",
       "0        1320    LAN    1958  172\n",
       "1        1325    SFN    1958  170\n",
       "2        1336    LAN    1959  148\n",
       "3        1341    SFN    1959  167\n",
       "4        1352    LAN    1960  126"
      ]
     },
     "execution_count": 294,
     "metadata": {},
     "output_type": "execute_result"
    }
   ],
   "source": [
    "df_hr_year_sf_la.head()"
   ]
  },
  {
   "cell_type": "code",
   "execution_count": 295,
   "metadata": {
    "collapsed": false
   },
   "outputs": [
    {
     "data": {
      "image/png": "[encoded data removed]",
      "text/plain": [
       "<matplotlib.figure.Figure at 0xf0d4438>"
      ]
     },
     "metadata": {},
     "output_type": "display_data"
    },
    {
     "data": {
      "text/plain": [
       "<ggplot: (-9223372036838992661)>"
      ]
     },
     "execution_count": 295,
     "metadata": {},
     "output_type": "execute_result"
    }
   ],
   "source": [
    "ggplot(df_hr_year_sf_la, aes('yearID', 'HR', color='teamID'))+\\\n",
    "geom_point() + geom_line() + ggtitle('Total HRs by Year') +\\\n",
    "xlab('Year') + ylab('HR')"
   ]
  },
  {
   "cell_type": "markdown",
   "metadata": {},
   "source": [
    "### Visualizing Time Series Data"
   ]
  },
  {
   "cell_type": "markdown",
   "metadata": {},
   "source": [
    "#### Scatter Plot\n",
    "- Shortcoming : Can't really detect the change from year to year\n",
    "\n",
    "#### Line Chart\n",
    "- Mitigate some shortcomings of scatter plot\n",
    "- Emphasize trends\n",
    "- Focus on year to year variability, not overall trends\n",
    "\n",
    "#### LOESS Curves\n",
    "- Emphasize \"long term\" trends\n",
    "- LOESS-weighted regression\n",
    "- Easier to take a quick look at chart and understand big picture"
   ]
  },
  {
   "cell_type": "markdown",
   "metadata": {},
   "source": [
    "#### Multivariate\n",
    "- Use additional encoding\n",
    "- Use various sizes of markers (e.g. larger dots: higher or more intense)\n",
    "- Additional color / saturation"
   ]
  },
  {
   "cell_type": "markdown",
   "metadata": {},
   "source": [
    "## Data Visualization Exercise"
   ]
  },
  {
   "cell_type": "markdown",
   "metadata": {},
   "source": [
    "Use turnstile_weather along with ggplot to make a data visualization. You should feel free to implement something that we discussed in class (e.g., scatterplots, line plots, or histograms) or attempt to implement something more advanced if you'd like. Here are some suggestions for things to investigate and illustrate:\n",
    "* Ridership by time of day or day of week\n",
    "* How ridership varies based on Subway station (UNIT)\n",
    "* Which stations have more exits or entries at different times of day (You can use UNIT as a proxy for subway station.)"
   ]
  },
  {
   "cell_type": "code",
   "execution_count": 296,
   "metadata": {
    "collapsed": true
   },
   "outputs": [],
   "source": [
    "df_subway_weather = \\\n",
    "pd.read_csv('./turnstile_data_master_with_weather.csv')"
   ]
  },
  {
   "cell_type": "code",
   "execution_count": 297,
   "metadata": {
    "collapsed": false,
    "scrolled": true
   },
   "outputs": [
    {
     "name": "stdout",
     "output_type": "stream",
     "text": [
      "<class 'pandas.core.frame.DataFrame'>\n",
      "RangeIndex: 131951 entries, 0 to 131950\n",
      "Data columns (total 22 columns):\n",
      "Unnamed: 0         131951 non-null int64\n",
      "UNIT               131951 non-null object\n",
      "DATEn              131951 non-null object\n",
      "TIMEn              131951 non-null object\n",
      "Hour               131951 non-null int64\n",
      "DESCn              131951 non-null object\n",
      "ENTRIESn_hourly    131951 non-null float64\n",
      "EXITSn_hourly      131951 non-null float64\n",
      "maxpressurei       131951 non-null float64\n",
      "maxdewpti          131951 non-null float64\n",
      "mindewpti          131951 non-null float64\n",
      "minpressurei       131951 non-null float64\n",
      "meandewpti         131951 non-null float64\n",
      "meanpressurei      131951 non-null float64\n",
      "fog                131951 non-null float64\n",
      "rain               131951 non-null float64\n",
      "meanwindspdi       131951 non-null float64\n",
      "mintempi           131951 non-null float64\n",
      "meantempi          131951 non-null float64\n",
      "maxtempi           131951 non-null float64\n",
      "precipi            131951 non-null float64\n",
      "thunder            131951 non-null float64\n",
      "dtypes: float64(16), int64(2), object(4)\n",
      "memory usage: 22.1+ MB\n"
     ]
    }
   ],
   "source": [
    "df_subway_weather.info()"
   ]
  },
  {
   "cell_type": "markdown",
   "metadata": {},
   "source": [
    "Q.) Make visualization for ridership by time of day"
   ]
  },
  {
   "cell_type": "code",
   "execution_count": 298,
   "metadata": {
    "collapsed": false,
    "scrolled": true
   },
   "outputs": [],
   "source": [
    "df_subway_weather_hour =\\\n",
    "df_subway_weather.groupby('Hour',as_index = False)\\\n",
    "[('ENTRIESn_hourly', 'EXITSn_hourly')].sum()"
   ]
  },
  {
   "cell_type": "code",
   "execution_count": 299,
   "metadata": {
    "collapsed": false,
    "scrolled": true
   },
   "outputs": [
    {
     "data": {
      "text/html": [
       "<div>\n",
       "<table border=\"1\" class=\"dataframe\">\n",
       "  <thead>\n",
       "    <tr style=\"text-align: right;\">\n",
       "      <th></th>\n",
       "      <th>Hour</th>\n",
       "      <th>ENTRIESn_hourly</th>\n",
       "      <th>EXITSn_hourly</th>\n",
       "    </tr>\n",
       "  </thead>\n",
       "  <tbody>\n",
       "    <tr>\n",
       "      <th>0</th>\n",
       "      <td>0</td>\n",
       "      <td>10808140.0</td>\n",
       "      <td>9522985.0</td>\n",
       "    </tr>\n",
       "    <tr>\n",
       "      <th>1</th>\n",
       "      <td>1</td>\n",
       "      <td>4968660.0</td>\n",
       "      <td>4615409.0</td>\n",
       "    </tr>\n",
       "    <tr>\n",
       "      <th>2</th>\n",
       "      <td>2</td>\n",
       "      <td>428132.0</td>\n",
       "      <td>273820.0</td>\n",
       "    </tr>\n",
       "    <tr>\n",
       "      <th>3</th>\n",
       "      <td>3</td>\n",
       "      <td>81347.0</td>\n",
       "      <td>72219.0</td>\n",
       "    </tr>\n",
       "    <tr>\n",
       "      <th>4</th>\n",
       "      <td>4</td>\n",
       "      <td>2438467.0</td>\n",
       "      <td>2556316.0</td>\n",
       "    </tr>\n",
       "    <tr>\n",
       "      <th>5</th>\n",
       "      <td>5</td>\n",
       "      <td>1179772.0</td>\n",
       "      <td>1124041.0</td>\n",
       "    </tr>\n",
       "    <tr>\n",
       "      <th>6</th>\n",
       "      <td>6</td>\n",
       "      <td>182794.0</td>\n",
       "      <td>120416.0</td>\n",
       "    </tr>\n",
       "    <tr>\n",
       "      <th>7</th>\n",
       "      <td>7</td>\n",
       "      <td>383688.0</td>\n",
       "      <td>291643.0</td>\n",
       "    </tr>\n",
       "    <tr>\n",
       "      <th>8</th>\n",
       "      <td>8</td>\n",
       "      <td>5494724.0</td>\n",
       "      <td>3673731.0</td>\n",
       "    </tr>\n",
       "    <tr>\n",
       "      <th>9</th>\n",
       "      <td>9</td>\n",
       "      <td>11040951.0</td>\n",
       "      <td>6874857.0</td>\n",
       "    </tr>\n",
       "    <tr>\n",
       "      <th>10</th>\n",
       "      <td>10</td>\n",
       "      <td>1315487.0</td>\n",
       "      <td>1350124.0</td>\n",
       "    </tr>\n",
       "    <tr>\n",
       "      <th>11</th>\n",
       "      <td>11</td>\n",
       "      <td>646283.0</td>\n",
       "      <td>791386.0</td>\n",
       "    </tr>\n",
       "    <tr>\n",
       "      <th>12</th>\n",
       "      <td>12</td>\n",
       "      <td>22813370.0</td>\n",
       "      <td>18721794.0</td>\n",
       "    </tr>\n",
       "    <tr>\n",
       "      <th>13</th>\n",
       "      <td>13</td>\n",
       "      <td>9410492.0</td>\n",
       "      <td>8035890.0</td>\n",
       "    </tr>\n",
       "    <tr>\n",
       "      <th>14</th>\n",
       "      <td>14</td>\n",
       "      <td>1164714.0</td>\n",
       "      <td>1105709.0</td>\n",
       "    </tr>\n",
       "    <tr>\n",
       "      <th>15</th>\n",
       "      <td>15</td>\n",
       "      <td>447312.0</td>\n",
       "      <td>407167.0</td>\n",
       "    </tr>\n",
       "    <tr>\n",
       "      <th>16</th>\n",
       "      <td>16</td>\n",
       "      <td>17336942.0</td>\n",
       "      <td>13502370.0</td>\n",
       "    </tr>\n",
       "    <tr>\n",
       "      <th>17</th>\n",
       "      <td>17</td>\n",
       "      <td>12692994.0</td>\n",
       "      <td>9474939.0</td>\n",
       "    </tr>\n",
       "    <tr>\n",
       "      <th>18</th>\n",
       "      <td>18</td>\n",
       "      <td>1688747.0</td>\n",
       "      <td>1367086.0</td>\n",
       "    </tr>\n",
       "    <tr>\n",
       "      <th>19</th>\n",
       "      <td>19</td>\n",
       "      <td>834832.0</td>\n",
       "      <td>657746.0</td>\n",
       "    </tr>\n",
       "    <tr>\n",
       "      <th>20</th>\n",
       "      <td>20</td>\n",
       "      <td>24505496.0</td>\n",
       "      <td>19886795.0</td>\n",
       "    </tr>\n",
       "    <tr>\n",
       "      <th>21</th>\n",
       "      <td>21</td>\n",
       "      <td>13121000.0</td>\n",
       "      <td>11324625.0</td>\n",
       "    </tr>\n",
       "    <tr>\n",
       "      <th>22</th>\n",
       "      <td>22</td>\n",
       "      <td>1202310.0</td>\n",
       "      <td>973539.0</td>\n",
       "    </tr>\n",
       "    <tr>\n",
       "      <th>23</th>\n",
       "      <td>23</td>\n",
       "      <td>345673.0</td>\n",
       "      <td>301526.0</td>\n",
       "    </tr>\n",
       "  </tbody>\n",
       "</table>\n",
       "</div>"
      ],
      "text/plain": [
       "    Hour  ENTRIESn_hourly  EXITSn_hourly\n",
       "0      0       10808140.0      9522985.0\n",
       "1      1        4968660.0      4615409.0\n",
       "2      2         428132.0       273820.0\n",
       "3      3          81347.0        72219.0\n",
       "4      4        2438467.0      2556316.0\n",
       "5      5        1179772.0      1124041.0\n",
       "6      6         182794.0       120416.0\n",
       "7      7         383688.0       291643.0\n",
       "8      8        5494724.0      3673731.0\n",
       "9      9       11040951.0      6874857.0\n",
       "10    10        1315487.0      1350124.0\n",
       "11    11         646283.0       791386.0\n",
       "12    12       22813370.0     18721794.0\n",
       "13    13        9410492.0      8035890.0\n",
       "14    14        1164714.0      1105709.0\n",
       "15    15         447312.0       407167.0\n",
       "16    16       17336942.0     13502370.0\n",
       "17    17       12692994.0      9474939.0\n",
       "18    18        1688747.0      1367086.0\n",
       "19    19         834832.0       657746.0\n",
       "20    20       24505496.0     19886795.0\n",
       "21    21       13121000.0     11324625.0\n",
       "22    22        1202310.0       973539.0\n",
       "23    23         345673.0       301526.0"
      ]
     },
     "execution_count": 299,
     "metadata": {},
     "output_type": "execute_result"
    }
   ],
   "source": [
    "df_subway_weather_hour"
   ]
  },
  {
   "cell_type": "code",
   "execution_count": 300,
   "metadata": {
    "collapsed": true
   },
   "outputs": [],
   "source": [
    "def hour_map(x):\n",
    "    if x < 4:\n",
    "        result = '0~3'\n",
    "    elif x >= 4 and x < 8:\n",
    "        result = '4~7'\n",
    "    elif x >= 8 and x < 12:\n",
    "        result = '8~11'\n",
    "    elif x >= 12 and x < 16:\n",
    "        result = '12~15'\n",
    "    elif x >= 16 and x < 20:\n",
    "        result = '16~19'\n",
    "    elif x>=20 and x < 24:\n",
    "        result = '20~23'\n",
    "    return result"
   ]
  },
  {
   "cell_type": "code",
   "execution_count": 301,
   "metadata": {
    "collapsed": false
   },
   "outputs": [],
   "source": [
    "df_subway_weather_hour['Hour_Group'] =\\\n",
    "df_subway_weather_hour.Hour.map(hour_map)"
   ]
  },
  {
   "cell_type": "code",
   "execution_count": 302,
   "metadata": {
    "collapsed": false,
    "scrolled": true
   },
   "outputs": [
    {
     "data": {
      "text/html": [
       "<div>\n",
       "<table border=\"1\" class=\"dataframe\">\n",
       "  <thead>\n",
       "    <tr style=\"text-align: right;\">\n",
       "      <th></th>\n",
       "      <th>Hour</th>\n",
       "      <th>ENTRIESn_hourly</th>\n",
       "      <th>EXITSn_hourly</th>\n",
       "      <th>Hour_Group</th>\n",
       "    </tr>\n",
       "  </thead>\n",
       "  <tbody>\n",
       "    <tr>\n",
       "      <th>0</th>\n",
       "      <td>0</td>\n",
       "      <td>10808140.0</td>\n",
       "      <td>9522985.0</td>\n",
       "      <td>0~3</td>\n",
       "    </tr>\n",
       "    <tr>\n",
       "      <th>1</th>\n",
       "      <td>1</td>\n",
       "      <td>4968660.0</td>\n",
       "      <td>4615409.0</td>\n",
       "      <td>0~3</td>\n",
       "    </tr>\n",
       "    <tr>\n",
       "      <th>2</th>\n",
       "      <td>2</td>\n",
       "      <td>428132.0</td>\n",
       "      <td>273820.0</td>\n",
       "      <td>0~3</td>\n",
       "    </tr>\n",
       "    <tr>\n",
       "      <th>3</th>\n",
       "      <td>3</td>\n",
       "      <td>81347.0</td>\n",
       "      <td>72219.0</td>\n",
       "      <td>0~3</td>\n",
       "    </tr>\n",
       "    <tr>\n",
       "      <th>4</th>\n",
       "      <td>4</td>\n",
       "      <td>2438467.0</td>\n",
       "      <td>2556316.0</td>\n",
       "      <td>4~7</td>\n",
       "    </tr>\n",
       "    <tr>\n",
       "      <th>5</th>\n",
       "      <td>5</td>\n",
       "      <td>1179772.0</td>\n",
       "      <td>1124041.0</td>\n",
       "      <td>4~7</td>\n",
       "    </tr>\n",
       "    <tr>\n",
       "      <th>6</th>\n",
       "      <td>6</td>\n",
       "      <td>182794.0</td>\n",
       "      <td>120416.0</td>\n",
       "      <td>4~7</td>\n",
       "    </tr>\n",
       "    <tr>\n",
       "      <th>7</th>\n",
       "      <td>7</td>\n",
       "      <td>383688.0</td>\n",
       "      <td>291643.0</td>\n",
       "      <td>4~7</td>\n",
       "    </tr>\n",
       "    <tr>\n",
       "      <th>8</th>\n",
       "      <td>8</td>\n",
       "      <td>5494724.0</td>\n",
       "      <td>3673731.0</td>\n",
       "      <td>8~11</td>\n",
       "    </tr>\n",
       "    <tr>\n",
       "      <th>9</th>\n",
       "      <td>9</td>\n",
       "      <td>11040951.0</td>\n",
       "      <td>6874857.0</td>\n",
       "      <td>8~11</td>\n",
       "    </tr>\n",
       "    <tr>\n",
       "      <th>10</th>\n",
       "      <td>10</td>\n",
       "      <td>1315487.0</td>\n",
       "      <td>1350124.0</td>\n",
       "      <td>8~11</td>\n",
       "    </tr>\n",
       "    <tr>\n",
       "      <th>11</th>\n",
       "      <td>11</td>\n",
       "      <td>646283.0</td>\n",
       "      <td>791386.0</td>\n",
       "      <td>8~11</td>\n",
       "    </tr>\n",
       "    <tr>\n",
       "      <th>12</th>\n",
       "      <td>12</td>\n",
       "      <td>22813370.0</td>\n",
       "      <td>18721794.0</td>\n",
       "      <td>12~15</td>\n",
       "    </tr>\n",
       "    <tr>\n",
       "      <th>13</th>\n",
       "      <td>13</td>\n",
       "      <td>9410492.0</td>\n",
       "      <td>8035890.0</td>\n",
       "      <td>12~15</td>\n",
       "    </tr>\n",
       "    <tr>\n",
       "      <th>14</th>\n",
       "      <td>14</td>\n",
       "      <td>1164714.0</td>\n",
       "      <td>1105709.0</td>\n",
       "      <td>12~15</td>\n",
       "    </tr>\n",
       "    <tr>\n",
       "      <th>15</th>\n",
       "      <td>15</td>\n",
       "      <td>447312.0</td>\n",
       "      <td>407167.0</td>\n",
       "      <td>12~15</td>\n",
       "    </tr>\n",
       "    <tr>\n",
       "      <th>16</th>\n",
       "      <td>16</td>\n",
       "      <td>17336942.0</td>\n",
       "      <td>13502370.0</td>\n",
       "      <td>16~19</td>\n",
       "    </tr>\n",
       "    <tr>\n",
       "      <th>17</th>\n",
       "      <td>17</td>\n",
       "      <td>12692994.0</td>\n",
       "      <td>9474939.0</td>\n",
       "      <td>16~19</td>\n",
       "    </tr>\n",
       "    <tr>\n",
       "      <th>18</th>\n",
       "      <td>18</td>\n",
       "      <td>1688747.0</td>\n",
       "      <td>1367086.0</td>\n",
       "      <td>16~19</td>\n",
       "    </tr>\n",
       "    <tr>\n",
       "      <th>19</th>\n",
       "      <td>19</td>\n",
       "      <td>834832.0</td>\n",
       "      <td>657746.0</td>\n",
       "      <td>16~19</td>\n",
       "    </tr>\n",
       "    <tr>\n",
       "      <th>20</th>\n",
       "      <td>20</td>\n",
       "      <td>24505496.0</td>\n",
       "      <td>19886795.0</td>\n",
       "      <td>20~23</td>\n",
       "    </tr>\n",
       "    <tr>\n",
       "      <th>21</th>\n",
       "      <td>21</td>\n",
       "      <td>13121000.0</td>\n",
       "      <td>11324625.0</td>\n",
       "      <td>20~23</td>\n",
       "    </tr>\n",
       "    <tr>\n",
       "      <th>22</th>\n",
       "      <td>22</td>\n",
       "      <td>1202310.0</td>\n",
       "      <td>973539.0</td>\n",
       "      <td>20~23</td>\n",
       "    </tr>\n",
       "    <tr>\n",
       "      <th>23</th>\n",
       "      <td>23</td>\n",
       "      <td>345673.0</td>\n",
       "      <td>301526.0</td>\n",
       "      <td>20~23</td>\n",
       "    </tr>\n",
       "  </tbody>\n",
       "</table>\n",
       "</div>"
      ],
      "text/plain": [
       "    Hour  ENTRIESn_hourly  EXITSn_hourly Hour_Group\n",
       "0      0       10808140.0      9522985.0        0~3\n",
       "1      1        4968660.0      4615409.0        0~3\n",
       "2      2         428132.0       273820.0        0~3\n",
       "3      3          81347.0        72219.0        0~3\n",
       "4      4        2438467.0      2556316.0        4~7\n",
       "5      5        1179772.0      1124041.0        4~7\n",
       "6      6         182794.0       120416.0        4~7\n",
       "7      7         383688.0       291643.0        4~7\n",
       "8      8        5494724.0      3673731.0       8~11\n",
       "9      9       11040951.0      6874857.0       8~11\n",
       "10    10        1315487.0      1350124.0       8~11\n",
       "11    11         646283.0       791386.0       8~11\n",
       "12    12       22813370.0     18721794.0      12~15\n",
       "13    13        9410492.0      8035890.0      12~15\n",
       "14    14        1164714.0      1105709.0      12~15\n",
       "15    15         447312.0       407167.0      12~15\n",
       "16    16       17336942.0     13502370.0      16~19\n",
       "17    17       12692994.0      9474939.0      16~19\n",
       "18    18        1688747.0      1367086.0      16~19\n",
       "19    19         834832.0       657746.0      16~19\n",
       "20    20       24505496.0     19886795.0      20~23\n",
       "21    21       13121000.0     11324625.0      20~23\n",
       "22    22        1202310.0       973539.0      20~23\n",
       "23    23         345673.0       301526.0      20~23"
      ]
     },
     "execution_count": 302,
     "metadata": {},
     "output_type": "execute_result"
    }
   ],
   "source": [
    "df_subway_weather_hour"
   ]
  },
  {
   "cell_type": "code",
   "execution_count": 303,
   "metadata": {
    "collapsed": false
   },
   "outputs": [],
   "source": [
    "df_subway_weather_hourgroup =\\\n",
    "df_subway_weather_hour.groupby('Hour_Group', as_index=False).sum()"
   ]
  },
  {
   "cell_type": "code",
   "execution_count": 304,
   "metadata": {
    "collapsed": false
   },
   "outputs": [
    {
     "data": {
      "text/html": [
       "<div>\n",
       "<table border=\"1\" class=\"dataframe\">\n",
       "  <thead>\n",
       "    <tr style=\"text-align: right;\">\n",
       "      <th></th>\n",
       "      <th>Hour_Group</th>\n",
       "      <th>Hour</th>\n",
       "      <th>ENTRIESn_hourly</th>\n",
       "      <th>EXITSn_hourly</th>\n",
       "    </tr>\n",
       "  </thead>\n",
       "  <tbody>\n",
       "    <tr>\n",
       "      <th>0</th>\n",
       "      <td>0~3</td>\n",
       "      <td>6</td>\n",
       "      <td>16286279.0</td>\n",
       "      <td>14484433.0</td>\n",
       "    </tr>\n",
       "    <tr>\n",
       "      <th>1</th>\n",
       "      <td>12~15</td>\n",
       "      <td>54</td>\n",
       "      <td>33835888.0</td>\n",
       "      <td>28270560.0</td>\n",
       "    </tr>\n",
       "    <tr>\n",
       "      <th>2</th>\n",
       "      <td>16~19</td>\n",
       "      <td>70</td>\n",
       "      <td>32553515.0</td>\n",
       "      <td>25002141.0</td>\n",
       "    </tr>\n",
       "    <tr>\n",
       "      <th>3</th>\n",
       "      <td>20~23</td>\n",
       "      <td>86</td>\n",
       "      <td>39174479.0</td>\n",
       "      <td>32486485.0</td>\n",
       "    </tr>\n",
       "    <tr>\n",
       "      <th>4</th>\n",
       "      <td>4~7</td>\n",
       "      <td>22</td>\n",
       "      <td>4184721.0</td>\n",
       "      <td>4092416.0</td>\n",
       "    </tr>\n",
       "    <tr>\n",
       "      <th>5</th>\n",
       "      <td>8~11</td>\n",
       "      <td>38</td>\n",
       "      <td>18497445.0</td>\n",
       "      <td>12690098.0</td>\n",
       "    </tr>\n",
       "  </tbody>\n",
       "</table>\n",
       "</div>"
      ],
      "text/plain": [
       "  Hour_Group  Hour  ENTRIESn_hourly  EXITSn_hourly\n",
       "0        0~3     6       16286279.0     14484433.0\n",
       "1      12~15    54       33835888.0     28270560.0\n",
       "2      16~19    70       32553515.0     25002141.0\n",
       "3      20~23    86       39174479.0     32486485.0\n",
       "4        4~7    22        4184721.0      4092416.0\n",
       "5       8~11    38       18497445.0     12690098.0"
      ]
     },
     "execution_count": 304,
     "metadata": {},
     "output_type": "execute_result"
    }
   ],
   "source": [
    "df_subway_weather_hourgroup"
   ]
  },
  {
   "cell_type": "code",
   "execution_count": 305,
   "metadata": {
    "collapsed": false,
    "scrolled": false
   },
   "outputs": [
    {
     "data": {
      "image/png": "[encoded data removed]",
      "text/plain": [
       "<matplotlib.figure.Figure at 0xee1de80>"
      ]
     },
     "metadata": {},
     "output_type": "display_data"
    },
    {
     "data": {
      "text/plain": [
       "<ggplot: (15605091)>"
      ]
     },
     "execution_count": 305,
     "metadata": {},
     "output_type": "execute_result"
    }
   ],
   "source": [
    "ggplot(df_subway_weather_hourgroup, \n",
    "       aes('ENTRIESn_hourly', 'EXITSn_hourly', color='Hour_Group'))+ \\\n",
    "geom_point(alpha=0.8) + ggtitle('Hourly Entries and Exits') + \\\n",
    "xlab('Entries') + ylab('Exits')"
   ]
  },
  {
   "cell_type": "markdown",
   "metadata": {},
   "source": [
    "Q.) Visualization : How did the maximum daily entry mean change throughout the month (May 2011)"
   ]
  },
  {
   "cell_type": "code",
   "execution_count": 306,
   "metadata": {
    "collapsed": false,
    "scrolled": true
   },
   "outputs": [
    {
     "name": "stdout",
     "output_type": "stream",
     "text": [
      "<class 'pandas.core.frame.DataFrame'>\n",
      "RangeIndex: 131951 entries, 0 to 131950\n",
      "Data columns (total 22 columns):\n",
      "Unnamed: 0         131951 non-null int64\n",
      "UNIT               131951 non-null object\n",
      "DATEn              131951 non-null object\n",
      "TIMEn              131951 non-null object\n",
      "Hour               131951 non-null int64\n",
      "DESCn              131951 non-null object\n",
      "ENTRIESn_hourly    131951 non-null float64\n",
      "EXITSn_hourly      131951 non-null float64\n",
      "maxpressurei       131951 non-null float64\n",
      "maxdewpti          131951 non-null float64\n",
      "mindewpti          131951 non-null float64\n",
      "minpressurei       131951 non-null float64\n",
      "meandewpti         131951 non-null float64\n",
      "meanpressurei      131951 non-null float64\n",
      "fog                131951 non-null float64\n",
      "rain               131951 non-null float64\n",
      "meanwindspdi       131951 non-null float64\n",
      "mintempi           131951 non-null float64\n",
      "meantempi          131951 non-null float64\n",
      "maxtempi           131951 non-null float64\n",
      "precipi            131951 non-null float64\n",
      "thunder            131951 non-null float64\n",
      "dtypes: float64(16), int64(2), object(4)\n",
      "memory usage: 22.1+ MB\n"
     ]
    }
   ],
   "source": [
    "df_subway_weather.info()"
   ]
  },
  {
   "cell_type": "code",
   "execution_count": 307,
   "metadata": {
    "collapsed": false
   },
   "outputs": [],
   "source": [
    "df_subway_weather.drop(labels=['Unnamed: 0'], axis=1, inplace=True)"
   ]
  },
  {
   "cell_type": "code",
   "execution_count": 308,
   "metadata": {
    "collapsed": true
   },
   "outputs": [],
   "source": [
    "df_subway_weather['DATEn'] =\\\n",
    "pd.to_datetime(df_subway_weather.DATEn, errors='coerce')"
   ]
  },
  {
   "cell_type": "code",
   "execution_count": 309,
   "metadata": {
    "collapsed": false,
    "scrolled": true
   },
   "outputs": [],
   "source": [
    "df_subway_unit_date_entrymean =\\\n",
    "df_subway_weather.groupby(['UNIT', 'DATEn'], as_index=False).ENTRIESn_hourly.\\\n",
    "agg({'daily_entry_mean': np.mean})"
   ]
  },
  {
   "cell_type": "code",
   "execution_count": 316,
   "metadata": {
    "collapsed": false,
    "scrolled": true
   },
   "outputs": [],
   "source": [
    "df_subway_unit_date_entrymean.sort_values(by=['daily_entry_mean'], inplace=True)"
   ]
  },
  {
   "cell_type": "code",
   "execution_count": 317,
   "metadata": {
    "collapsed": true
   },
   "outputs": [],
   "source": [
    "df_subway_unit_date_entrymean_max =\\\n",
    "df_subway_unit_date_entrymean.groupby(['DATEn']).last()"
   ]
  },
  {
   "cell_type": "code",
   "execution_count": 318,
   "metadata": {
    "collapsed": false,
    "scrolled": true
   },
   "outputs": [
    {
     "data": {
      "text/html": [
       "<div>\n",
       "<table border=\"1\" class=\"dataframe\">\n",
       "  <thead>\n",
       "    <tr style=\"text-align: right;\">\n",
       "      <th></th>\n",
       "      <th>UNIT</th>\n",
       "      <th>daily_entry_mean</th>\n",
       "    </tr>\n",
       "    <tr>\n",
       "      <th>DATEn</th>\n",
       "      <th></th>\n",
       "      <th></th>\n",
       "    </tr>\n",
       "  </thead>\n",
       "  <tbody>\n",
       "    <tr>\n",
       "      <th>2011-05-01</th>\n",
       "      <td>R170</td>\n",
       "      <td>8987.000000</td>\n",
       "    </tr>\n",
       "    <tr>\n",
       "      <th>2011-05-02</th>\n",
       "      <td>R170</td>\n",
       "      <td>14792.500000</td>\n",
       "    </tr>\n",
       "    <tr>\n",
       "      <th>2011-05-03</th>\n",
       "      <td>R179</td>\n",
       "      <td>13111.166667</td>\n",
       "    </tr>\n",
       "    <tr>\n",
       "      <th>2011-05-04</th>\n",
       "      <td>R046</td>\n",
       "      <td>12407.500000</td>\n",
       "    </tr>\n",
       "    <tr>\n",
       "      <th>2011-05-05</th>\n",
       "      <td>R170</td>\n",
       "      <td>15890.857143</td>\n",
       "    </tr>\n",
       "    <tr>\n",
       "      <th>2011-05-06</th>\n",
       "      <td>R022</td>\n",
       "      <td>13141.000000</td>\n",
       "    </tr>\n",
       "    <tr>\n",
       "      <th>2011-05-07</th>\n",
       "      <td>R170</td>\n",
       "      <td>12175.142857</td>\n",
       "    </tr>\n",
       "    <tr>\n",
       "      <th>2011-05-08</th>\n",
       "      <td>R170</td>\n",
       "      <td>9226.714286</td>\n",
       "    </tr>\n",
       "    <tr>\n",
       "      <th>2011-05-09</th>\n",
       "      <td>R055</td>\n",
       "      <td>10337.666667</td>\n",
       "    </tr>\n",
       "    <tr>\n",
       "      <th>2011-05-10</th>\n",
       "      <td>R170</td>\n",
       "      <td>15257.625000</td>\n",
       "    </tr>\n",
       "    <tr>\n",
       "      <th>2011-05-11</th>\n",
       "      <td>R022</td>\n",
       "      <td>14132.333333</td>\n",
       "    </tr>\n",
       "    <tr>\n",
       "      <th>2011-05-12</th>\n",
       "      <td>R046</td>\n",
       "      <td>13173.833333</td>\n",
       "    </tr>\n",
       "    <tr>\n",
       "      <th>2011-05-13</th>\n",
       "      <td>R022</td>\n",
       "      <td>11627.333333</td>\n",
       "    </tr>\n",
       "    <tr>\n",
       "      <th>2011-05-14</th>\n",
       "      <td>R033</td>\n",
       "      <td>9620.833333</td>\n",
       "    </tr>\n",
       "    <tr>\n",
       "      <th>2011-05-15</th>\n",
       "      <td>R273</td>\n",
       "      <td>11379.500000</td>\n",
       "    </tr>\n",
       "    <tr>\n",
       "      <th>2011-05-16</th>\n",
       "      <td>R170</td>\n",
       "      <td>10606.800000</td>\n",
       "    </tr>\n",
       "    <tr>\n",
       "      <th>2011-05-17</th>\n",
       "      <td>R170</td>\n",
       "      <td>14952.142857</td>\n",
       "    </tr>\n",
       "    <tr>\n",
       "      <th>2011-05-18</th>\n",
       "      <td>R170</td>\n",
       "      <td>12378.555556</td>\n",
       "    </tr>\n",
       "    <tr>\n",
       "      <th>2011-05-19</th>\n",
       "      <td>R046</td>\n",
       "      <td>12062.166667</td>\n",
       "    </tr>\n",
       "    <tr>\n",
       "      <th>2011-05-20</th>\n",
       "      <td>R022</td>\n",
       "      <td>13418.833333</td>\n",
       "    </tr>\n",
       "    <tr>\n",
       "      <th>2011-05-21</th>\n",
       "      <td>R170</td>\n",
       "      <td>13500.714286</td>\n",
       "    </tr>\n",
       "    <tr>\n",
       "      <th>2011-05-22</th>\n",
       "      <td>R170</td>\n",
       "      <td>9636.125000</td>\n",
       "    </tr>\n",
       "    <tr>\n",
       "      <th>2011-05-23</th>\n",
       "      <td>R170</td>\n",
       "      <td>14098.857143</td>\n",
       "    </tr>\n",
       "    <tr>\n",
       "      <th>2011-05-24</th>\n",
       "      <td>R170</td>\n",
       "      <td>18083.500000</td>\n",
       "    </tr>\n",
       "    <tr>\n",
       "      <th>2011-05-25</th>\n",
       "      <td>R170</td>\n",
       "      <td>14519.125000</td>\n",
       "    </tr>\n",
       "    <tr>\n",
       "      <th>2011-05-26</th>\n",
       "      <td>R046</td>\n",
       "      <td>15411.833333</td>\n",
       "    </tr>\n",
       "    <tr>\n",
       "      <th>2011-05-27</th>\n",
       "      <td>R170</td>\n",
       "      <td>14430.875000</td>\n",
       "    </tr>\n",
       "    <tr>\n",
       "      <th>2011-05-28</th>\n",
       "      <td>R170</td>\n",
       "      <td>12971.166667</td>\n",
       "    </tr>\n",
       "    <tr>\n",
       "      <th>2011-05-29</th>\n",
       "      <td>R170</td>\n",
       "      <td>9042.000000</td>\n",
       "    </tr>\n",
       "    <tr>\n",
       "      <th>2011-05-30</th>\n",
       "      <td>R170</td>\n",
       "      <td>8283.142857</td>\n",
       "    </tr>\n",
       "  </tbody>\n",
       "</table>\n",
       "</div>"
      ],
      "text/plain": [
       "            UNIT  daily_entry_mean\n",
       "DATEn                             \n",
       "2011-05-01  R170       8987.000000\n",
       "2011-05-02  R170      14792.500000\n",
       "2011-05-03  R179      13111.166667\n",
       "2011-05-04  R046      12407.500000\n",
       "2011-05-05  R170      15890.857143\n",
       "2011-05-06  R022      13141.000000\n",
       "2011-05-07  R170      12175.142857\n",
       "2011-05-08  R170       9226.714286\n",
       "2011-05-09  R055      10337.666667\n",
       "2011-05-10  R170      15257.625000\n",
       "2011-05-11  R022      14132.333333\n",
       "2011-05-12  R046      13173.833333\n",
       "2011-05-13  R022      11627.333333\n",
       "2011-05-14  R033       9620.833333\n",
       "2011-05-15  R273      11379.500000\n",
       "2011-05-16  R170      10606.800000\n",
       "2011-05-17  R170      14952.142857\n",
       "2011-05-18  R170      12378.555556\n",
       "2011-05-19  R046      12062.166667\n",
       "2011-05-20  R022      13418.833333\n",
       "2011-05-21  R170      13500.714286\n",
       "2011-05-22  R170       9636.125000\n",
       "2011-05-23  R170      14098.857143\n",
       "2011-05-24  R170      18083.500000\n",
       "2011-05-25  R170      14519.125000\n",
       "2011-05-26  R046      15411.833333\n",
       "2011-05-27  R170      14430.875000\n",
       "2011-05-28  R170      12971.166667\n",
       "2011-05-29  R170       9042.000000\n",
       "2011-05-30  R170       8283.142857"
      ]
     },
     "execution_count": 318,
     "metadata": {},
     "output_type": "execute_result"
    }
   ],
   "source": [
    "df_subway_unit_date_entrymean_max"
   ]
  },
  {
   "cell_type": "code",
   "execution_count": 320,
   "metadata": {
    "collapsed": true
   },
   "outputs": [],
   "source": [
    "df_subway_unit_date_entrymean_max = \\\n",
    "df_subway_unit_date_entrymean_max.reset_index()"
   ]
  },
  {
   "cell_type": "code",
   "execution_count": 333,
   "metadata": {
    "collapsed": false,
    "scrolled": true
   },
   "outputs": [
    {
     "data": {
      "image/png": "[encoded data removed]",
      "text/plain": [
       "<matplotlib.figure.Figure at 0xc163128>"
      ]
     },
     "metadata": {},
     "output_type": "display_data"
    },
    {
     "data": {
      "text/plain": [
       "<ggplot: (12185790)>"
      ]
     },
     "execution_count": 333,
     "metadata": {},
     "output_type": "execute_result"
    }
   ],
   "source": [
    "ggplot(df_subway_unit_date_entrymean_max, aes('DATEn', 'daily_entry_mean'))+ \\\n",
    "geom_point(color='green') + geom_line()+ ggtitle('Highest Daily Mean of Entries') + \\\n",
    "xlab('Date') + ylab('Highest Mean of Entries')"
   ]
  }
 ],
 "metadata": {
  "kernelspec": {
   "display_name": "Python [Root]",
   "language": "python",
   "name": "Python [Root]"
  },
  "language_info": {
   "codemirror_mode": {
    "name": "ipython",
    "version": 3
   },
   "file_extension": ".py",
   "mimetype": "text/x-python",
   "name": "python",
   "nbconvert_exporter": "python",
   "pygments_lexer": "ipython3",
   "version": "3.5.2"
  }
 },
 "nbformat": 4,
 "nbformat_minor": 0
}
