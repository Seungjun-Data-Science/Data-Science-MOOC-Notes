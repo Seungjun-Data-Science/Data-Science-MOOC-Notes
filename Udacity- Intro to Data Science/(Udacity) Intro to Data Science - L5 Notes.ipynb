{
 "cells": [
  {
   "cell_type": "markdown",
   "metadata": {},
   "source": [
    "## 5. MapReduce"
   ]
  },
  {
   "cell_type": "markdown",
   "metadata": {},
   "source": [
    "#### Big Data\n",
    "\n",
    "(e.g.) Google : trying to catalog and index all books in the world. Simply too much data to handle in one disk. That's when we use MapReduce\n",
    "\n",
    "#### Other examples of MapReduce Applications\n",
    "- Discover new oil reserves\n",
    "- Power an e-commerce website\n",
    "- Identify malware and cyber attack patterns for online security\n",
    "- Help doctors answer questions about patients' health"
   ]
  },
  {
   "cell_type": "markdown",
   "metadata": {},
   "source": [
    "#### Basics of MapReduce\n",
    "\n",
    "- Parallel programming model for processing large datasets across a cluster of computers\n",
    "- High Level Computation performed by two functions \"mapper & reducer\"\n",
    "- Google catalog & index example...\n",
    "  - step1: Assuming that each book is a separate document, we send each document to many mappers which each perform the same mapping on their respective documents and produce a series of intermediate key-value pairs\n",
    "  - step2: We shuffle all these intermediate results and send all key value pairs of the same key to the same reducer for processing\n",
    "  - step3: Each reducer can produce one final key for each key"
   ]
  },
  {
   "cell_type": "markdown",
   "metadata": {},
   "source": [
    "### Basic MapReduce - Word Count\n",
    "\n",
    "\"Alice was beginning to get very tired of sitting by her sister on the bank, and of having nothing to do...\""
   ]
  },
  {
   "cell_type": "markdown",
   "metadata": {},
   "source": [
    "For this exercise, write a program that serially counts the number of occurrences of each word in the book Alice in Wonderland. The text of Alice in Wonderland will be fed into your program line-by-line. Your program needs to take each line and do the following:\n",
    "- Tokenize the line into string tokens by whitespace\n",
    "  - Example: \"Hello, World!\" should be converted into \"Hello,\" and \"World!\"\n",
    "- Remove all punctuation\n",
    "  - Example: \"Hello,\" and \"World!\" should be converted into \"Hello\" and \"World\"\n",
    "- Make all letters lowercase\n",
    "  - Example: \"Hello\" and \"World\" should be converted to \"hello\" and \"world\"\n",
    "    \n",
    "- Store the the number of times that a word appears in Alice in Wonderland in the word_counts dictionary, and then *print* (don't return) that dictionary\n",
    "- In this exercise, print statements will be considered your final output. Because of this, printing a debug statement will cause the grader to break. Instead, you can use the logging module which we've configured for you. For example: logging.info(\"My debugging message\")\n",
    "- The logging module can be used to give you more control over your debugging or other messages than you can get by printing them. Messages logged via the logger we configured will be saved to a file. If you click \"Test Run\", then you will see the contents of that file once your program has finished running.\n",
    "- The logging module also has other capabilities; see https://docs.python.org/2/library/logging.html for more information."
   ]
  },
  {
   "cell_type": "code",
   "execution_count": 71,
   "metadata": {
    "collapsed": false,
    "scrolled": true
   },
   "outputs": [
    {
     "name": "stdout",
     "output_type": "stream",
     "text": [
      "{'and': 1, 'get': 1, 'by': 1, 'beginning': 1, 'her': 1, 'alice': 1, 'the': 1, 'on': 1, 'tired': 1, 'very': 1, 'sitting': 1, 'to': 2, 'nothing': 1, 'of': 2, 'having': 1, 'bank': 1, 'sister': 1, 'do': 1, 'was': 1}\n"
     ]
    }
   ],
   "source": [
    "import string\n",
    "\n",
    "def word_count(lst):\n",
    "    word_counts = {} # initialize an empty dictionary\n",
    "    data = line.strip().split(\" \")\n",
    "    for i in data:\n",
    "        key = i.translate(str.maketrans('','', string.punctuation)).lower()\n",
    "        if key in word_counts:\n",
    "            word_counts[key] += 1 \n",
    "        else:\n",
    "            word_counts[key] = 1\n",
    "    print(word_counts)\n",
    "\n",
    "word_lst =\\\n",
    "\"Alice was beginning to get very tired of sitting by her sister \\\n",
    "on the bank, and of having nothing to do...\"\n",
    "\n",
    "word_count(word_lst)"
   ]
  },
  {
   "cell_type": "markdown",
   "metadata": {},
   "source": [
    "#### Mapper"
   ]
  },
  {
   "cell_type": "code",
   "execution_count": 74,
   "metadata": {
    "collapsed": true
   },
   "outputs": [],
   "source": [
    "import sys\n",
    "import string\n",
    "\n",
    "def mapper():\n",
    "    for line in sys.stdin:\n",
    "        data = line.strip().split(\" \")\n",
    "        for i in data:\n",
    "            cleaned_data =\\\n",
    "            i.translate(str.maketrans('','',string.punctuation)).lower()\n",
    "            print(\"{}\\t{}\".format(cleaned_data,1))"
   ]
  },
  {
   "cell_type": "markdown",
   "metadata": {},
   "source": [
    "e.g. \"Hello, my name is Dave. Dave is my name.\"\n",
    "\n",
    "위에 있는 예시 mapper에 돌리면...\n",
    "(hello, 1) (my, 1) (name, 1) (is, 1) (dave, 1) (dave, 1) (is, 1) (my, 1) (name, 1)\n",
    "\n",
    "이렇게 mapper로 출력된 key-value pair를 Multiple Reducers 로 넘긴다"
   ]
  },
  {
   "cell_type": "markdown",
   "metadata": {},
   "source": [
    "#### Reducer"
   ]
  },
  {
   "cell_type": "code",
   "execution_count": 3,
   "metadata": {
    "collapsed": true
   },
   "outputs": [],
   "source": [
    "import sys\n",
    "\n",
    "def reducer():\n",
    "    word_count = 0\n",
    "    old_key = None\n",
    "    \n",
    "    for line in sys.stdin:\n",
    "        data = line.strip().split(\"\\t\")\n",
    "        if len(data) != 2:\n",
    "            continue\n",
    "        this_key, count = data\n",
    "        if old_key and old_key != this_key:\n",
    "            print(\"{}\\t{}\".format(old_key, word_count))\n",
    "            word_count = 0\n",
    "    \n",
    "        old_key = this_key\n",
    "        word_count += float(count)\n",
    "    \n",
    "    if old_key != None:\n",
    "        print(\"{}\\t{}\".format(old_key, word_count))"
   ]
  },
  {
   "cell_type": "markdown",
   "metadata": {},
   "source": [
    "### Aadhaar Data - Map Reduce"
   ]
  },
  {
   "cell_type": "code",
   "execution_count": 4,
   "metadata": {
    "collapsed": true
   },
   "outputs": [],
   "source": [
    "import sys\n",
    "import string\n",
    "\n",
    "def mapper():\n",
    "    for line in sys.stdin:\n",
    "        data = line.strip().split(\",\")\n",
    "        if len(data) != 12 or data[0] == 'Registrar':\n",
    "            continue\n",
    "        print(\"{}\\t{}\".format(data[3], data[8]))"
   ]
  },
  {
   "cell_type": "code",
   "execution_count": 5,
   "metadata": {
    "collapsed": true
   },
   "outputs": [],
   "source": [
    "def reducer():\n",
    "    aadhaar_generated = 0\n",
    "    old_key = None\n",
    "    \n",
    "    for line in sys.stdin:\n",
    "        data = line.strip().split(\"\\t\")\n",
    "        \n",
    "        if len(data) != 2:\n",
    "            continue\n",
    "        this_key, count = data\n",
    "        \n",
    "        # If this is a new key, let's print the final key-value pair\n",
    "        if old_key and old_key != this_key:\n",
    "            print(\"{}\\t{}\".format(old_key, aadhaar_generated))\n",
    "            \n",
    "            aadhaar_generated = 0\n",
    "        \n",
    "        old_key = this_key\n",
    "        aadhaar_generated += float(count)\n",
    "    \n",
    "    if old_key != None:\n",
    "        print(\"{}\\t{}\".format(old_key, aadhaar_generated))"
   ]
  },
  {
   "cell_type": "markdown",
   "metadata": {
    "collapsed": true
   },
   "source": [
    "#### Mapreduce Programming Model\n",
    "\n",
    "Hadoop based products\n",
    "- Hive(FB)\n",
    "- Pig(Yahoo)"
   ]
  },
  {
   "cell_type": "code",
   "execution_count": null,
   "metadata": {
    "collapsed": true
   },
   "outputs": [],
   "source": []
  },
  {
   "cell_type": "code",
   "execution_count": null,
   "metadata": {
    "collapsed": true
   },
   "outputs": [],
   "source": []
  },
  {
   "cell_type": "code",
   "execution_count": null,
   "metadata": {
    "collapsed": true
   },
   "outputs": [],
   "source": []
  },
  {
   "cell_type": "code",
   "execution_count": null,
   "metadata": {
    "collapsed": true
   },
   "outputs": [],
   "source": []
  },
  {
   "cell_type": "code",
   "execution_count": null,
   "metadata": {
    "collapsed": true
   },
   "outputs": [],
   "source": []
  },
  {
   "cell_type": "code",
   "execution_count": null,
   "metadata": {
    "collapsed": true
   },
   "outputs": [],
   "source": []
  },
  {
   "cell_type": "code",
   "execution_count": null,
   "metadata": {
    "collapsed": true
   },
   "outputs": [],
   "source": []
  },
  {
   "cell_type": "code",
   "execution_count": null,
   "metadata": {
    "collapsed": true
   },
   "outputs": [],
   "source": []
  },
  {
   "cell_type": "code",
   "execution_count": null,
   "metadata": {
    "collapsed": true
   },
   "outputs": [],
   "source": []
  },
  {
   "cell_type": "code",
   "execution_count": null,
   "metadata": {
    "collapsed": true
   },
   "outputs": [],
   "source": []
  },
  {
   "cell_type": "code",
   "execution_count": null,
   "metadata": {
    "collapsed": true
   },
   "outputs": [],
   "source": []
  },
  {
   "cell_type": "code",
   "execution_count": null,
   "metadata": {
    "collapsed": true
   },
   "outputs": [],
   "source": []
  },
  {
   "cell_type": "code",
   "execution_count": null,
   "metadata": {
    "collapsed": true
   },
   "outputs": [],
   "source": []
  },
  {
   "cell_type": "code",
   "execution_count": null,
   "metadata": {
    "collapsed": true
   },
   "outputs": [],
   "source": []
  },
  {
   "cell_type": "code",
   "execution_count": null,
   "metadata": {
    "collapsed": true
   },
   "outputs": [],
   "source": []
  },
  {
   "cell_type": "code",
   "execution_count": null,
   "metadata": {
    "collapsed": true
   },
   "outputs": [],
   "source": []
  },
  {
   "cell_type": "code",
   "execution_count": null,
   "metadata": {
    "collapsed": true
   },
   "outputs": [],
   "source": []
  },
  {
   "cell_type": "code",
   "execution_count": null,
   "metadata": {
    "collapsed": true
   },
   "outputs": [],
   "source": []
  },
  {
   "cell_type": "code",
   "execution_count": null,
   "metadata": {
    "collapsed": true
   },
   "outputs": [],
   "source": []
  },
  {
   "cell_type": "code",
   "execution_count": null,
   "metadata": {
    "collapsed": true
   },
   "outputs": [],
   "source": []
  },
  {
   "cell_type": "code",
   "execution_count": null,
   "metadata": {
    "collapsed": true
   },
   "outputs": [],
   "source": []
  },
  {
   "cell_type": "code",
   "execution_count": null,
   "metadata": {
    "collapsed": true
   },
   "outputs": [],
   "source": []
  },
  {
   "cell_type": "code",
   "execution_count": null,
   "metadata": {
    "collapsed": true
   },
   "outputs": [],
   "source": []
  },
  {
   "cell_type": "code",
   "execution_count": null,
   "metadata": {
    "collapsed": true
   },
   "outputs": [],
   "source": []
  },
  {
   "cell_type": "code",
   "execution_count": null,
   "metadata": {
    "collapsed": true
   },
   "outputs": [],
   "source": []
  },
  {
   "cell_type": "code",
   "execution_count": null,
   "metadata": {
    "collapsed": true
   },
   "outputs": [],
   "source": []
  },
  {
   "cell_type": "code",
   "execution_count": null,
   "metadata": {
    "collapsed": true
   },
   "outputs": [],
   "source": []
  },
  {
   "cell_type": "code",
   "execution_count": null,
   "metadata": {
    "collapsed": true
   },
   "outputs": [],
   "source": []
  },
  {
   "cell_type": "code",
   "execution_count": null,
   "metadata": {
    "collapsed": true
   },
   "outputs": [],
   "source": []
  },
  {
   "cell_type": "code",
   "execution_count": null,
   "metadata": {
    "collapsed": true
   },
   "outputs": [],
   "source": []
  },
  {
   "cell_type": "code",
   "execution_count": null,
   "metadata": {
    "collapsed": true
   },
   "outputs": [],
   "source": []
  },
  {
   "cell_type": "code",
   "execution_count": null,
   "metadata": {
    "collapsed": true
   },
   "outputs": [],
   "source": []
  },
  {
   "cell_type": "code",
   "execution_count": null,
   "metadata": {
    "collapsed": true
   },
   "outputs": [],
   "source": []
  },
  {
   "cell_type": "code",
   "execution_count": null,
   "metadata": {
    "collapsed": true
   },
   "outputs": [],
   "source": []
  },
  {
   "cell_type": "code",
   "execution_count": null,
   "metadata": {
    "collapsed": true
   },
   "outputs": [],
   "source": []
  },
  {
   "cell_type": "code",
   "execution_count": null,
   "metadata": {
    "collapsed": true
   },
   "outputs": [],
   "source": []
  },
  {
   "cell_type": "code",
   "execution_count": null,
   "metadata": {
    "collapsed": true
   },
   "outputs": [],
   "source": []
  },
  {
   "cell_type": "code",
   "execution_count": null,
   "metadata": {
    "collapsed": true
   },
   "outputs": [],
   "source": []
  },
  {
   "cell_type": "code",
   "execution_count": null,
   "metadata": {
    "collapsed": true
   },
   "outputs": [],
   "source": []
  },
  {
   "cell_type": "code",
   "execution_count": null,
   "metadata": {
    "collapsed": true
   },
   "outputs": [],
   "source": []
  },
  {
   "cell_type": "code",
   "execution_count": null,
   "metadata": {
    "collapsed": true
   },
   "outputs": [],
   "source": []
  },
  {
   "cell_type": "code",
   "execution_count": null,
   "metadata": {
    "collapsed": true
   },
   "outputs": [],
   "source": []
  },
  {
   "cell_type": "code",
   "execution_count": null,
   "metadata": {
    "collapsed": true
   },
   "outputs": [],
   "source": []
  },
  {
   "cell_type": "code",
   "execution_count": null,
   "metadata": {
    "collapsed": true
   },
   "outputs": [],
   "source": []
  },
  {
   "cell_type": "code",
   "execution_count": null,
   "metadata": {
    "collapsed": true
   },
   "outputs": [],
   "source": []
  },
  {
   "cell_type": "code",
   "execution_count": null,
   "metadata": {
    "collapsed": true
   },
   "outputs": [],
   "source": []
  },
  {
   "cell_type": "code",
   "execution_count": null,
   "metadata": {
    "collapsed": true
   },
   "outputs": [],
   "source": []
  },
  {
   "cell_type": "code",
   "execution_count": null,
   "metadata": {
    "collapsed": true
   },
   "outputs": [],
   "source": []
  },
  {
   "cell_type": "code",
   "execution_count": null,
   "metadata": {
    "collapsed": true
   },
   "outputs": [],
   "source": []
  },
  {
   "cell_type": "code",
   "execution_count": null,
   "metadata": {
    "collapsed": true
   },
   "outputs": [],
   "source": []
  },
  {
   "cell_type": "code",
   "execution_count": null,
   "metadata": {
    "collapsed": true
   },
   "outputs": [],
   "source": []
  },
  {
   "cell_type": "code",
   "execution_count": null,
   "metadata": {
    "collapsed": true
   },
   "outputs": [],
   "source": []
  },
  {
   "cell_type": "code",
   "execution_count": null,
   "metadata": {
    "collapsed": true
   },
   "outputs": [],
   "source": []
  },
  {
   "cell_type": "code",
   "execution_count": null,
   "metadata": {
    "collapsed": true
   },
   "outputs": [],
   "source": []
  },
  {
   "cell_type": "code",
   "execution_count": null,
   "metadata": {
    "collapsed": true
   },
   "outputs": [],
   "source": []
  },
  {
   "cell_type": "code",
   "execution_count": null,
   "metadata": {
    "collapsed": true
   },
   "outputs": [],
   "source": []
  },
  {
   "cell_type": "code",
   "execution_count": null,
   "metadata": {
    "collapsed": true
   },
   "outputs": [],
   "source": []
  },
  {
   "cell_type": "code",
   "execution_count": null,
   "metadata": {
    "collapsed": true
   },
   "outputs": [],
   "source": []
  }
 ],
 "metadata": {
  "anaconda-cloud": {},
  "kernelspec": {
   "display_name": "Python [Root]",
   "language": "python",
   "name": "Python [Root]"
  },
  "language_info": {
   "codemirror_mode": {
    "name": "ipython",
    "version": 3
   },
   "file_extension": ".py",
   "mimetype": "text/x-python",
   "name": "python",
   "nbconvert_exporter": "python",
   "pygments_lexer": "ipython3",
   "version": "3.5.2"
  }
 },
 "nbformat": 4,
 "nbformat_minor": 0
}
