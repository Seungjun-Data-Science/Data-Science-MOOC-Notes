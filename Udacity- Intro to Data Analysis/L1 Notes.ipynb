{
 "cells": [
  {
   "cell_type": "markdown",
   "metadata": {},
   "source": [
    "# (Udacity) Intro to Data Analysis"
   ]
  },
  {
   "cell_type": "markdown",
   "metadata": {},
   "source": [
    "## 1. Data Analysis Process"
   ]
  },
  {
   "cell_type": "raw",
   "metadata": {},
   "source": [
    "Problems solved by Data Analysis\n",
    "\n",
    "(e.g.)\n",
    "- Netflix : personalized movie recommendations\n",
    "- Facebook : newsfeed ranking algorithm\n",
    "- Pharmeceutical companies : Use ML to find the most effective chemical compound for drug making"
   ]
  },
  {
   "cell_type": "raw",
   "metadata": {
    "collapsed": true
   },
   "source": [
    "Data Analysis Process\n",
    "\n",
    "1단계: Question phase (Data Analysis로 해결하고 싶은 문제, 사안, 질문은 무엇인가)\n",
    "\n",
    "2단계: Wrangling \n",
    "- Data Acquisition\n",
    "- Data Cleansing\n",
    "\n",
    "3단계: Exploration\n",
    "- Building intuition\n",
    "- Find patterns\n",
    "\n",
    "4단계: Drawing Conclusion Phase\n",
    "Predict : Which movies users will like\n",
    "Conclude: Users are less likely to click certain articles\n",
    "(Statistics & Machine Learning)\n",
    "\n",
    "5단계: Communication Phase"
   ]
  },
  {
   "cell_type": "raw",
   "metadata": {
    "collapsed": true
   },
   "source": [
    "\"Data Acquisition\"\n",
    "\n",
    "- Downloading files\n",
    "- Accessing an API\n",
    "- Scraping a Web Page\n",
    "- Combine data from different formats\n",
    "\n",
    "\"Data Format\"\n",
    "- CSV (Comma Separated Values)\n",
    "Like a spreadsheet with no formulas\n",
    "Easy to process with code (unlike .xlsx)"
   ]
  },
  {
   "cell_type": "markdown",
   "metadata": {},
   "source": [
    "### CSV"
   ]
  },
  {
   "cell_type": "raw",
   "metadata": {
    "collapsed": true
   },
   "source": [
    "## representing a CSV as list of rows\n",
    "\n",
    "# Option 1: Each row is a list\n",
    "csv = [['A1', 'A2', 'A3'],\n",
    "      ['B2', 'B2', 'B3']]\n",
    "\n",
    "# Option 2: Each row is a dictionary\n",
    "csv= [{'name1': 'A1', 'name2': 'A2', 'name3': 'A3'},\n",
    "     {'name1': 'B1', 'name2': 'B2', 'name3': 'B3'}]"
   ]
  },
  {
   "cell_type": "raw",
   "metadata": {},
   "source": [
    "\"Sample CSV info\"\n",
    "\n",
    "https://storage.googleapis.com/supplemental_media/udacityu/5430778793/table_descriptions.txt"
   ]
  },
  {
   "cell_type": "code",
   "execution_count": 11,
   "metadata": {
    "collapsed": false
   },
   "outputs": [
    {
     "data": {
      "text/plain": [
       "{'account_key': '448',\n",
       " 'cancel_date': '2015-01-14',\n",
       " 'days_to_cancel': '65',\n",
       " 'is_canceled': 'True',\n",
       " 'is_udacity': 'True',\n",
       " 'join_date': '2014-11-10',\n",
       " 'status': 'canceled'}"
      ]
     },
     "execution_count": 11,
     "metadata": {},
     "output_type": "execute_result"
    }
   ],
   "source": [
    "import unicodecsv\n",
    "\n",
    "enrollments = []\n",
    "f = open('enrollments.csv', 'rb')\n",
    "reader = unicodecsv.DictReader(f)\n",
    "# Dictreader : This means each row of csv is a dictionary\n",
    "\n",
    "for row in reader:\n",
    "    enrollments.append(row)\n",
    "\n",
    "f.close()\n",
    "\n",
    "enrollments[0]"
   ]
  },
  {
   "cell_type": "code",
   "execution_count": 12,
   "metadata": {
    "collapsed": false
   },
   "outputs": [
    {
     "data": {
      "text/plain": [
       "{'account_key': '448',\n",
       " 'cancel_date': '2015-01-14',\n",
       " 'days_to_cancel': '65',\n",
       " 'is_canceled': 'True',\n",
       " 'is_udacity': 'True',\n",
       " 'join_date': '2014-11-10',\n",
       " 'status': 'canceled'}"
      ]
     },
     "execution_count": 12,
     "metadata": {},
     "output_type": "execute_result"
    }
   ],
   "source": [
    "# Same with above but code is more concise\n",
    "\n",
    "import unicodecsv\n",
    "\n",
    "enrollments = []\n",
    "with open('enrollments.csv', 'rb') as f:\n",
    "    reader = unicodecsv.DictReader(f)\n",
    "# Dictreader : This means each row of csv is a dictionary\n",
    "\n",
    "    for row in reader:\n",
    "        enrollments.append(row)\n",
    "\n",
    "enrollments[0]"
   ]
  },
  {
   "cell_type": "code",
   "execution_count": 13,
   "metadata": {
    "collapsed": false
   },
   "outputs": [
    {
     "data": {
      "text/plain": [
       "{'account_key': '448',\n",
       " 'cancel_date': '2015-01-14',\n",
       " 'days_to_cancel': '65',\n",
       " 'is_canceled': 'True',\n",
       " 'is_udacity': 'True',\n",
       " 'join_date': '2014-11-10',\n",
       " 'status': 'canceled'}"
      ]
     },
     "execution_count": 13,
     "metadata": {},
     "output_type": "execute_result"
    }
   ],
   "source": [
    "# Same with above but even more concise\n",
    "\n",
    "import unicodecsv\n",
    "\n",
    "with open('enrollments.csv', 'rb') as f:\n",
    "    reader = unicodecsv.DictReader(f)\n",
    "    enrollments = list(reader)\n",
    "# Dictreader : This means each row of csv is a dictionary\n",
    "\n",
    "enrollments[0]"
   ]
  },
  {
   "cell_type": "code",
   "execution_count": 14,
   "metadata": {
    "collapsed": false
   },
   "outputs": [
    {
     "data": {
      "text/plain": [
       "({'acct': '0',\n",
       "  'lessons_completed': '0.0',\n",
       "  'num_courses_visited': '1.0',\n",
       "  'projects_completed': '0.0',\n",
       "  'total_minutes_visited': '11.6793745',\n",
       "  'utc_date': '2015-01-09'},\n",
       " {'account_key': '256',\n",
       "  'assigned_rating': 'UNGRADED',\n",
       "  'completion_date': '2015-01-16',\n",
       "  'creation_date': '2015-01-14',\n",
       "  'lesson_key': '3176718735',\n",
       "  'processing_state': 'EVALUATED'})"
      ]
     },
     "execution_count": 14,
     "metadata": {},
     "output_type": "execute_result"
    }
   ],
   "source": [
    "### Quiz\n",
    "## Read in the data from daily_engagement.csv and project_submissions.csv \n",
    "## and store the results in the below variables.\n",
    "## Then look at the first row of each table.\n",
    "\n",
    "with open('daily_engagement.csv', 'rb') as f:\n",
    "    reader = unicodecsv.DictReader(f)\n",
    "    daily_engagement = list(reader)\n",
    "\n",
    "with open('project_submissions.csv', 'rb') as f:\n",
    "    reader = unicodecsv.DictReader(f)\n",
    "    project_submissions = list(reader)\n",
    "\n",
    "daily_engagement[0], project_submissions[0]"
   ]
  },
  {
   "cell_type": "markdown",
   "metadata": {},
   "source": [
    "### Fixing Data Types"
   ]
  },
  {
   "cell_type": "code",
   "execution_count": 15,
   "metadata": {
    "collapsed": false
   },
   "outputs": [
    {
     "data": {
      "text/plain": [
       "{'account_key': '448',\n",
       " 'cancel_date': datetime.datetime(2015, 1, 14, 0, 0),\n",
       " 'days_to_cancel': 65,\n",
       " 'is_canceled': True,\n",
       " 'is_udacity': True,\n",
       " 'join_date': datetime.datetime(2014, 11, 10, 0, 0),\n",
       " 'status': 'canceled'}"
      ]
     },
     "execution_count": 15,
     "metadata": {},
     "output_type": "execute_result"
    }
   ],
   "source": [
    "from datetime import datetime as dt\n",
    "\n",
    "# Takes a date as a string, and returns a Python datetime object. \n",
    "# If there is no date given, returns None\n",
    "def parse_date(date):\n",
    "    if date == '':\n",
    "        return None\n",
    "    else:\n",
    "        return dt.strptime(date, '%Y-%m-%d')\n",
    "    \n",
    "# Takes a string which is either an empty string or represents an integer,\n",
    "# and returns an int or None.\n",
    "def parse_maybe_int(i):\n",
    "    if i == '':\n",
    "        return None\n",
    "    else:\n",
    "        return int(i)\n",
    "\n",
    "# Clean up the data types in the enrollments table\n",
    "for enrollment in enrollments:\n",
    "    enrollment['cancel_date'] = parse_date(enrollment['cancel_date'])\n",
    "    enrollment['days_to_cancel'] = parse_maybe_int(enrollment['days_to_cancel'])\n",
    "    enrollment['is_canceled'] = enrollment['is_canceled'] == 'True'\n",
    "    enrollment['is_udacity'] = enrollment['is_udacity'] == 'True'\n",
    "    enrollment['join_date'] = parse_date(enrollment['join_date'])\n",
    "    \n",
    "enrollments[0]"
   ]
  },
  {
   "cell_type": "code",
   "execution_count": 16,
   "metadata": {
    "collapsed": false
   },
   "outputs": [
    {
     "data": {
      "text/plain": [
       "{'acct': '0',\n",
       " 'lessons_completed': 0,\n",
       " 'num_courses_visited': 1,\n",
       " 'projects_completed': 0,\n",
       " 'total_minutes_visited': 11.6793745,\n",
       " 'utc_date': datetime.datetime(2015, 1, 9, 0, 0)}"
      ]
     },
     "execution_count": 16,
     "metadata": {},
     "output_type": "execute_result"
    }
   ],
   "source": [
    "# Clean up the data types in the engagement table\n",
    "for engagement_record in daily_engagement:\n",
    "    engagement_record['lessons_completed'] = int(float(engagement_record['lessons_completed']))\n",
    "    engagement_record['num_courses_visited'] = int(float(engagement_record['num_courses_visited']))\n",
    "    engagement_record['projects_completed'] = int(float(engagement_record['projects_completed']))\n",
    "    engagement_record['total_minutes_visited'] = float(engagement_record['total_minutes_visited'])\n",
    "    engagement_record['utc_date'] = parse_date(engagement_record['utc_date'])\n",
    "    \n",
    "daily_engagement[0]"
   ]
  },
  {
   "cell_type": "code",
   "execution_count": 17,
   "metadata": {
    "collapsed": false
   },
   "outputs": [
    {
     "data": {
      "text/plain": [
       "{'account_key': '256',\n",
       " 'assigned_rating': 'UNGRADED',\n",
       " 'completion_date': datetime.datetime(2015, 1, 16, 0, 0),\n",
       " 'creation_date': datetime.datetime(2015, 1, 14, 0, 0),\n",
       " 'lesson_key': '3176718735',\n",
       " 'processing_state': 'EVALUATED'}"
      ]
     },
     "execution_count": 17,
     "metadata": {},
     "output_type": "execute_result"
    }
   ],
   "source": [
    "# Clean up the data types in the submissions table\n",
    "for submission in project_submissions:\n",
    "    submission['completion_date'] = parse_date(submission['completion_date'])\n",
    "    submission['creation_date'] = parse_date(submission['creation_date'])\n",
    "\n",
    "project_submissions[0]"
   ]
  },
  {
   "cell_type": "markdown",
   "metadata": {},
   "source": [
    "### Investigating Data & Wrangling Data"
   ]
  },
  {
   "cell_type": "code",
   "execution_count": 18,
   "metadata": {
    "collapsed": false
   },
   "outputs": [
    {
     "name": "stdout",
     "output_type": "stream",
     "text": [
      "1640\n",
      "1302\n"
     ]
    }
   ],
   "source": [
    "## Find the total number of rows and the number of unique students (account keys)in each table.\n",
    "\n",
    "enrollment_num_rows = len(enrollments)\n",
    "print(enrollment_num_rows)\n",
    "\n",
    "enrollment_unique_students = set()\n",
    "for enrollment in enrollments:\n",
    "    enrollment_unique_students.add(enrollment['account_key'])\n",
    "    \n",
    "enrollment_num_unique_students = len(enrollment_unique_students)\n",
    "print(enrollment_num_unique_students)\n",
    "\n",
    "# Why the difference btw these two numbers? It's because there are students who enroll, cancel and then re-enroll courses"
   ]
  },
  {
   "cell_type": "code",
   "execution_count": 19,
   "metadata": {
    "collapsed": false
   },
   "outputs": [
    {
     "name": "stdout",
     "output_type": "stream",
     "text": [
      "136240\n",
      "1237\n"
     ]
    }
   ],
   "source": [
    "engagement_num_rows = len(daily_engagement)\n",
    "print(engagement_num_rows)\n",
    "\n",
    "engagement_unique_students = set()\n",
    "for engagement_record in daily_engagement:\n",
    "    engagement_unique_students.add(engagement_record['acct'])\n",
    "    \n",
    "engagement_num_unique_students = len(engagement_unique_students)\n",
    "\n",
    "print(engagement_num_unique_students)"
   ]
  },
  {
   "cell_type": "code",
   "execution_count": 20,
   "metadata": {
    "collapsed": false
   },
   "outputs": [
    {
     "name": "stdout",
     "output_type": "stream",
     "text": [
      "3642\n",
      "743\n"
     ]
    }
   ],
   "source": [
    "submission_num_rows = len(project_submissions)\n",
    "print(submission_num_rows)\n",
    "\n",
    "submission_unique_students = set()\n",
    "for submission in project_submissions:\n",
    "    submission_unique_students.add(submission['account_key'])\n",
    "    \n",
    "submission_num_unique_students = len(submission_unique_students)\n",
    "\n",
    "print(submission_num_unique_students)"
   ]
  },
  {
   "cell_type": "raw",
   "metadata": {},
   "source": [
    "여기서 생각해봐야할 질문 & 문제들\n",
    "\n",
    "1. Why are there more unique students in enrollment than engagement table? (1302 v.s. 1237)\n",
    "\n",
    "2. Column named 'account_key' in two tables and 'acct' in third... so it's confusing!"
   ]
  },
  {
   "cell_type": "raw",
   "metadata": {},
   "source": [
    "## Fixing  problem number 2 stated above\n",
    "# Rename the \"acct\" column in the daily_engagement table to \"account_key\"."
   ]
  },
  {
   "cell_type": "code",
   "execution_count": 21,
   "metadata": {
    "collapsed": true
   },
   "outputs": [],
   "source": [
    "for engagement_record in daily_engagement:\n",
    "    engagement_record['account_key'] = engagement_record['acct']\n",
    "    del engagement_record['acct']"
   ]
  },
  {
   "cell_type": "code",
   "execution_count": 22,
   "metadata": {
    "collapsed": false
   },
   "outputs": [
    {
     "data": {
      "text/plain": [
       "'0'"
      ]
     },
     "execution_count": 22,
     "metadata": {},
     "output_type": "execute_result"
    }
   ],
   "source": [
    "daily_engagement[0]['account_key']\n",
    "# daily_engagement의 첫 번째 row 에서 'account_key'에 해당하는 value 존재하는지 확인!"
   ]
  },
  {
   "cell_type": "raw",
   "metadata": {
    "collapsed": true
   },
   "source": [
    "## Fixing problem number 1 stated above\n",
    "\n",
    "Why are students missing from daily_engagement?\n",
    "\n",
    "1. Identify unexpected data points\n",
    "\n",
    "- Any enrollment record with no corresponding engagement data\n",
    "\n",
    "2. Print out one or a few surprising(unexpected) data points\n",
    "\n",
    "3. Fix any problems you find\n",
    "- More investigation may be necessary\n",
    "- OR there might not be a problem \n",
    "(repeat steps 1,2,3 until no problems are found)"
   ]
  },
  {
   "cell_type": "code",
   "execution_count": 23,
   "metadata": {
    "collapsed": false
   },
   "outputs": [
    {
     "name": "stdout",
     "output_type": "stream",
     "text": [
      "{'days_to_cancel': 0, 'is_udacity': False, 'account_key': '1219', 'cancel_date': datetime.datetime(2014, 11, 12, 0, 0), 'status': 'canceled', 'join_date': datetime.datetime(2014, 11, 12, 0, 0), 'is_canceled': True}\n"
     ]
    }
   ],
   "source": [
    "for enrollment in enrollments:\n",
    "    student = enrollment['account_key']\n",
    "    if student not in engagement_unique_students:\n",
    "        print(enrollment)\n",
    "        break"
   ]
  },
  {
   "cell_type": "raw",
   "metadata": {},
   "source": [
    "enrollment의 고유 식별 번호인 'account_key'가 unique_engagement_students에 없는 data만 print했을 때 위와 같은 결과를 얻을 수 있다. 무엇을 발견할 수 있는가? cancel_date 와 join_date가 동일하며, days_to_cancel이 '0'이다. 즉 course 신청하자마자 그 당일에 취소한 case로 인해 data가 missing 했다는 사실을 유추할 수 있다."
   ]
  },
  {
   "cell_type": "raw",
   "metadata": {},
   "source": [
    "그 밖에 문제가 되는 data가 있는가? enrollment에는 등록되어 있는데 unique_engagement_students에는 기록되지 않은 위와 같은 같은 학생들 중에서 join_date와 cancel_date가 일치하지 않는 경우는 없는가?"
   ]
  },
  {
   "cell_type": "code",
   "execution_count": 24,
   "metadata": {
    "collapsed": false
   },
   "outputs": [
    {
     "name": "stdout",
     "output_type": "stream",
     "text": [
      "3\n"
     ]
    }
   ],
   "source": [
    "num_problem_students = 0\n",
    "\n",
    "for enrollment in enrollments:\n",
    "    student = enrollment['account_key']\n",
    "    if student not in engagement_unique_students \\\n",
    "    and enrollment['join_date'] != enrollment['cancel_date']:\n",
    "        num_problem_students += 1\n",
    "print(num_problem_students)"
   ]
  },
  {
   "cell_type": "code",
   "execution_count": 25,
   "metadata": {
    "collapsed": false
   },
   "outputs": [
    {
     "name": "stdout",
     "output_type": "stream",
     "text": [
      "{'days_to_cancel': 59, 'is_udacity': True, 'account_key': '1304', 'cancel_date': datetime.datetime(2015, 3, 10, 0, 0), 'status': 'canceled', 'join_date': datetime.datetime(2015, 1, 10, 0, 0), 'is_canceled': True}\n",
      "{'days_to_cancel': 99, 'is_udacity': True, 'account_key': '1304', 'cancel_date': datetime.datetime(2015, 6, 17, 0, 0), 'status': 'canceled', 'join_date': datetime.datetime(2015, 3, 10, 0, 0), 'is_canceled': True}\n",
      "{'days_to_cancel': None, 'is_udacity': True, 'account_key': '1101', 'cancel_date': None, 'status': 'current', 'join_date': datetime.datetime(2015, 2, 25, 0, 0), 'is_canceled': False}\n"
     ]
    }
   ],
   "source": [
    "# 위에서 발견한 outlier 3개의 data를 print 한다\n",
    "\n",
    "num_problem_students = 0\n",
    "\n",
    "for enrollment in enrollments:\n",
    "    student = enrollment['account_key']\n",
    "    if student not in engagement_unique_students \\\n",
    "    and enrollment['join_date'] != enrollment['cancel_date']:\n",
    "        num_problem_students += 1\n",
    "        print(enrollment)"
   ]
  },
  {
   "cell_type": "raw",
   "metadata": {},
   "source": [
    "위 결과에서 알 수 있듯이 3개의 outlier data가 공통적으로 is_udacity가 True라는 사실을 알 수 있다. 이는 이 data 3개가 \"udacity test account\"라는 것을 의미한다."
   ]
  },
  {
   "cell_type": "code",
   "execution_count": 26,
   "metadata": {
    "collapsed": false
   },
   "outputs": [
    {
     "data": {
      "text/plain": [
       "6"
      ]
     },
     "execution_count": 26,
     "metadata": {},
     "output_type": "execute_result"
    }
   ],
   "source": [
    "# Find out the number of test accounts \n",
    "\n",
    "udacity_test_accounts = set()\n",
    "for enrollment in enrollments:\n",
    "    if enrollment['is_udacity']:\n",
    "        udacity_test_accounts.add(enrollment['account_key'])\n",
    "len(udacity_test_accounts)\n",
    "\n",
    "# test account가 6개라는 사실을 도출해낼 수 있다!"
   ]
  },
  {
   "cell_type": "code",
   "execution_count": 27,
   "metadata": {
    "collapsed": true
   },
   "outputs": [],
   "source": [
    "# Create function which only stores non-udacity test accounts\n",
    "\n",
    "def remove_udacity_accounts(data):\n",
    "    non_udacity_data = []\n",
    "    for data_point in data:\n",
    "        if data_point['account_key'] not in udacity_test_accounts:\n",
    "            non_udacity_data.append(data_point)\n",
    "    return non_udacity_data"
   ]
  },
  {
   "cell_type": "code",
   "execution_count": 28,
   "metadata": {
    "collapsed": false
   },
   "outputs": [
    {
     "name": "stdout",
     "output_type": "stream",
     "text": [
      "1622\n",
      "135656\n",
      "3634\n"
     ]
    }
   ],
   "source": [
    "non_udacity_enrollments = remove_udacity_accounts(enrollments)\n",
    "non_udacity_engagement = remove_udacity_accounts(daily_engagement)\n",
    "non_udacity_submissions = remove_udacity_accounts(project_submissions)\n",
    "\n",
    "print(len(non_udacity_enrollments))\n",
    "print(len(non_udacity_engagement))\n",
    "print(len(non_udacity_submissions))"
   ]
  },
  {
   "cell_type": "markdown",
   "metadata": {
    "collapsed": true
   },
   "source": [
    "### Data Exploration Phase"
   ]
  },
  {
   "cell_type": "raw",
   "metadata": {},
   "source": [
    "<< Exploration Phase >>\n",
    "Question : How do the numbers in the daily engagement table differ for students who pass the first project?\n",
    "\n",
    "Problems:\n",
    "\n",
    "1. This will include data from after the project submission\n",
    "2. This compares data from different lengths of time\n",
    "3. Includes engagement in courses not related to the first project(since it's measuring all engagement in the Nanodegress overall)\n",
    "\n",
    "Revision: Therefore, we will look at engagement from first week, and exclude students who cancel within a week\n",
    "\n",
    "Create a dictionary of students who either:\n",
    "- haven't canceled yet (days_to_cancel == None)\n",
    "- stayed enrolled more than 7 days (days_to_cancel > 7)"
   ]
  },
  {
   "cell_type": "code",
   "execution_count": 29,
   "metadata": {
    "collapsed": false
   },
   "outputs": [
    {
     "data": {
      "text/plain": [
       "995"
      ]
     },
     "execution_count": 29,
     "metadata": {},
     "output_type": "execute_result"
    }
   ],
   "source": [
    "# Key : account_key / values : enrollment dates\n",
    "\n",
    "paid_students = dict()\n",
    "for enrollment in non_udacity_enrollments:\n",
    "    account_key = enrollment['account_key']\n",
    "    enrollment_date = enrollment['join_date']\n",
    "    if enrollment['days_to_cancel'] == None or enrollment['days_to_cancel'] > 7:\n",
    "        paid_students[account_key] = enrollment_date\n",
    "\n",
    "len(paid_students) "
   ]
  },
  {
   "cell_type": "code",
   "execution_count": 30,
   "metadata": {
    "collapsed": false
   },
   "outputs": [
    {
     "data": {
      "text/plain": [
       "995"
      ]
     },
     "execution_count": 30,
     "metadata": {},
     "output_type": "execute_result"
    }
   ],
   "source": [
    "# But there may be students who have canceled courses and re-enrolled in that course\n",
    "# In that case, we may want to choose \"the most recent enrollment date\"\n",
    "\n",
    "paid_students = dict()\n",
    "for enrollment in non_udacity_enrollments:\n",
    "    account_key = enrollment['account_key']\n",
    "    enrollment_date = enrollment['join_date']\n",
    "    if enrollment['days_to_cancel'] == None or enrollment['days_to_cancel'] > 7:\n",
    "        paid_students[account_key] = enrollment_date\n",
    "        \n",
    "        if account_key not in paid_students or \\\n",
    "        enrollment_date > paid_students[account_key]:\n",
    "            paid_students[account_key] = enrollment_date\n",
    "        # paid_students 명단에 없거나\n",
    "        # paid_students 명단에 이미 있는 data의 join date보다 더 recent할 때 \n",
    "        # 그 join_date로 갱신하기!\n",
    "\n",
    "\n",
    "len(paid_students) "
   ]
  },
  {
   "cell_type": "markdown",
   "metadata": {},
   "source": [
    "#### Getting Data from First week"
   ]
  },
  {
   "cell_type": "code",
   "execution_count": 31,
   "metadata": {
    "collapsed": true
   },
   "outputs": [],
   "source": [
    "# Takes a student's join date and the date of a specific engagement record,\n",
    "# and returns True if that engagement record happened within one week\n",
    "# of the student joining.\n",
    "def within_one_week(join_date, engagement_date):\n",
    "    time_delta = engagement_date - join_date\n",
    "    return time_delta.days < 7 and time_delta.days >= 0"
   ]
  },
  {
   "cell_type": "code",
   "execution_count": 32,
   "metadata": {
    "collapsed": true
   },
   "outputs": [],
   "source": [
    "# enrollment, engagement, submission data에서 paid_student에 포함되는 student들만 \n",
    "# 남기고 나머지는 삭제하기 위해 아래와 같은 함수 만듦!\n",
    "\n",
    "def remove_free_trial_cancels(data):\n",
    "    new_data = []\n",
    "    for data_point in data:\n",
    "        if data_point['account_key'] in paid_students:\n",
    "            new_data.append(data_point)\n",
    "    return new_data"
   ]
  },
  {
   "cell_type": "code",
   "execution_count": 33,
   "metadata": {
    "collapsed": false
   },
   "outputs": [
    {
     "name": "stdout",
     "output_type": "stream",
     "text": [
      "1293\n",
      "134549\n",
      "3618\n"
     ]
    }
   ],
   "source": [
    "paid_enrollments = remove_free_trial_cancels(non_udacity_enrollments)\n",
    "paid_engagement = remove_free_trial_cancels(non_udacity_engagement)\n",
    "paid_submissions = remove_free_trial_cancels(non_udacity_submissions)\n",
    "\n",
    "print(len(paid_enrollments))\n",
    "print(len(paid_engagement))\n",
    "print(len(paid_submissions))"
   ]
  },
  {
   "cell_type": "code",
   "execution_count": 34,
   "metadata": {
    "collapsed": true
   },
   "outputs": [],
   "source": [
    "for engagement_record in paid_engagement:\n",
    "    if engagement_record['num_courses_visited'] > 0:\n",
    "        engagement_record['has_visited'] = 1\n",
    "    else:\n",
    "        engagement_record['has_visited'] = 0"
   ]
  },
  {
   "cell_type": "code",
   "execution_count": 35,
   "metadata": {
    "collapsed": false
   },
   "outputs": [
    {
     "data": {
      "text/plain": [
       "6920"
      ]
     },
     "execution_count": 35,
     "metadata": {},
     "output_type": "execute_result"
    }
   ],
   "source": [
    "paid_engagement_in_first_week = []\n",
    "\n",
    "for engagement_record in paid_engagement:\n",
    "    account_key = engagement_record['account_key']\n",
    "    join_date = paid_students[account_key]\n",
    "    engagement_record_date = engagement_record['utc_date']\n",
    "    \n",
    "    if within_one_week(join_date, engagement_record_date):\n",
    "        paid_engagement_in_first_week.append(engagement_record)\n",
    "\n",
    "len(paid_engagement_in_first_week)"
   ]
  },
  {
   "cell_type": "markdown",
   "metadata": {
    "collapsed": true
   },
   "source": [
    "#### Investigating(Exploring) first week data : Analyzing minutes spent in classroom during first week"
   ]
  },
  {
   "cell_type": "raw",
   "metadata": {},
   "source": [
    "Question : Average Minutes spent in classroom during their first week\n",
    "\n",
    "1. separate out engagement records for each student (dictionary mapping \"account keys\" to \"lists of engagement records\")\n",
    "2. Calculate total number of minutes spent in the classroom by each student\n",
    "3. Calculate average of those total numbers"
   ]
  },
  {
   "cell_type": "code",
   "execution_count": 36,
   "metadata": {
    "collapsed": true
   },
   "outputs": [],
   "source": [
    "from collections import defaultdict\n",
    "\n",
    "engagement_by_account = defaultdict(list)\n",
    "for engagement_record in paid_engagement_in_first_week:\n",
    "    account_key = engagement_record['account_key']\n",
    "    engagement_by_account[account_key].append(engagement_record)"
   ]
  },
  {
   "cell_type": "code",
   "execution_count": 37,
   "metadata": {
    "collapsed": true
   },
   "outputs": [],
   "source": [
    "# account별(학생별) total minutes spent in classroom in first week\n",
    "\n",
    "total_minutes_by_account = {}\n",
    "for account_key, engagement_for_student in engagement_by_account.items():\n",
    "    total_minutes = 0\n",
    "    for engagement_record in engagement_for_student:\n",
    "        total_minutes += engagement_record['total_minutes_visited']\n",
    "    total_minutes_by_account[account_key] = total_minutes"
   ]
  },
  {
   "cell_type": "code",
   "execution_count": 38,
   "metadata": {
    "collapsed": false
   },
   "outputs": [
    {
     "name": "stdout",
     "output_type": "stream",
     "text": [
      "Mean: 305.414718908\n",
      "Standard deviation: 405.91261032\n",
      "Minimum: 0.0\n",
      "Maximum: 3564.7332645\n"
     ]
    }
   ],
   "source": [
    "import numpy as np\n",
    "\n",
    "# Summarize the data about minutes spent in the classroom\n",
    "total_minutes = total_minutes_by_account.values()\n",
    "print('Mean:', np.mean(list(total_minutes)))\n",
    "print('Standard deviation:', np.std(list(total_minutes)))\n",
    "print('Minimum:', np.min(list(total_minutes)))\n",
    "print('Maximum:', np.max(list(total_minutes)))\n",
    "\n",
    "# 그냥 np.mean(total_minutes) 로 print하면 dict_value에 대해서 mean 값 구할 수 없다는 error 메세지 뜸...\n",
    "# 따라서 list로 바꿔서 구해야 mean, std 등의 값이 정상적으로 출력된다"
   ]
  },
  {
   "cell_type": "raw",
   "metadata": {},
   "source": [
    "근데 위의 결과값들을 보면 maximum 값이 1주일을 분으로 환산했을 때의 수치(10080분) 보다도 큰 10568로 말도 안되게 크다는 사실을 알 수 있다. 여기 Data에도 무슨 문제가 있다는 사실을 알 수 있다 => 나중에 bug 수정되고 나서는 max 값이 3564.xxx\n",
    "\n",
    "Debugging Data Problems\n",
    "1. Identify surprising data points\n",
    "2. Print out one or a few surprising points\n",
    "3. Fix any problems you find"
   ]
  },
  {
   "cell_type": "code",
   "execution_count": 39,
   "metadata": {
    "collapsed": false
   },
   "outputs": [
    {
     "data": {
      "text/plain": [
       "3564.7332644989997"
      ]
     },
     "execution_count": 39,
     "metadata": {},
     "output_type": "execute_result"
    }
   ],
   "source": [
    "student_with_max_minutes = None\n",
    "max_minutes = 0\n",
    "\n",
    "for student, total_minutes in total_minutes_by_account.items():\n",
    "    if total_minutes > max_minutes:\n",
    "        max_minutes = total_minutes\n",
    "        student_with_max_minutes = student\n",
    "max_minutes # to check if the maximum total minutes is correct (10568.1008673)"
   ]
  },
  {
   "cell_type": "code",
   "execution_count": 40,
   "metadata": {
    "collapsed": false
   },
   "outputs": [
    {
     "name": "stdout",
     "output_type": "stream",
     "text": [
      "{'total_minutes_visited': 850.519339666, 'account_key': '163', 'projects_completed': 0, 'lessons_completed': 4, 'utc_date': datetime.datetime(2015, 7, 9, 0, 0), 'num_courses_visited': 4, 'has_visited': 1}\n",
      "{'total_minutes_visited': 872.633923334, 'account_key': '163', 'projects_completed': 0, 'lessons_completed': 6, 'utc_date': datetime.datetime(2015, 7, 10, 0, 0), 'num_courses_visited': 6, 'has_visited': 1}\n",
      "{'total_minutes_visited': 777.018903666, 'account_key': '163', 'projects_completed': 0, 'lessons_completed': 6, 'utc_date': datetime.datetime(2015, 7, 11, 0, 0), 'num_courses_visited': 2, 'has_visited': 1}\n",
      "{'total_minutes_visited': 294.568774, 'account_key': '163', 'projects_completed': 0, 'lessons_completed': 2, 'utc_date': datetime.datetime(2015, 7, 12, 0, 0), 'num_courses_visited': 1, 'has_visited': 1}\n",
      "{'total_minutes_visited': 471.2139785, 'account_key': '163', 'projects_completed': 0, 'lessons_completed': 1, 'utc_date': datetime.datetime(2015, 7, 13, 0, 0), 'num_courses_visited': 3, 'has_visited': 1}\n",
      "{'total_minutes_visited': 298.778345333, 'account_key': '163', 'projects_completed': 0, 'lessons_completed': 1, 'utc_date': datetime.datetime(2015, 7, 14, 0, 0), 'num_courses_visited': 2, 'has_visited': 1}\n",
      "{'total_minutes_visited': 0.0, 'account_key': '163', 'projects_completed': 0, 'lessons_completed': 0, 'utc_date': datetime.datetime(2015, 7, 15, 0, 0), 'num_courses_visited': 0, 'has_visited': 0}\n"
     ]
    }
   ],
   "source": [
    "# print out the maximum time student's engagement records\n",
    "\n",
    "for engagement_record in paid_engagement_in_first_week:\n",
    "    if engagement_record['account_key'] == student_with_max_minutes:\n",
    "        print(engagement_record)"
   ]
  },
  {
   "cell_type": "raw",
   "metadata": {},
   "source": [
    "total minutes가 max인 student의 engagement record를 print해보니 무엇인가 이상하다. 1주일치 data에서 뽑아온 것임에도 불구하고 위 결과에 data가 몇 십개씩이나 있고 date도 균등하지 못하다. 왜 일까? \n",
    "\n",
    "이는 위의 \"within_one_week\" function에 문제가 있다는 것을 유추할 수 있게 하는 대목이다.\n",
    "\n",
    "def within_one_week(join_date, engagement_date):\n",
    "    time_delta = engagement_date - join_date\n",
    "    return time_delta.days < 7 \n",
    "\n",
    "여기에서 engagement_date이 join_date 이후라는 것을 명시하지 않았다.... 따라서 time_delta가 < 0 가 되게 하는 데이터들도 다 포함해버린 것이다. 이 함수를 다음과 같이 고치면 된다...\n",
    "\n",
    "def within_one_week(join_date, engagement_date):\n",
    "    time_delta = engagement_date - join_date\n",
    "    return time_delta.days < 7 and time_delta.days >= 0"
   ]
  },
  {
   "cell_type": "markdown",
   "metadata": {},
   "source": [
    "#### Investigating(Exploring) first week data : Analyzing \"lessons_completed\" in First Week"
   ]
  },
  {
   "cell_type": "raw",
   "metadata": {
    "collapsed": true
   },
   "source": [
    "Question : Average Minutes spent in classroom during their first week\n",
    "\n",
    "Analyze \"lessons_completed\" in their first week instead of minutes spent\n",
    "\n",
    "mean, standard deviation, minimum, maximum\n",
    "\n",
    "1. separate out engagement records for each student (dictionary mapping \"account keys\" to \"lists of engagement records\") (이 과정은 이미 위에서 한 번 해놓아서 그거 가져다 사용하면 됨)\n",
    "2. Calculate total number of lessons completed in the classroom by each student\n",
    "3. Calculate average of those total numbers\n",
    "\n",
    "# instructor는 위 과정을 일반적인 함수로 만들어서 깔끔하게 실행하는 방법 사용"
   ]
  },
  {
   "cell_type": "code",
   "execution_count": 41,
   "metadata": {
    "collapsed": true
   },
   "outputs": [],
   "source": [
    "from collections import defaultdict\n",
    "\n",
    "def group_data(data, key_name):\n",
    "    grouped_data = defaultdict(list)\n",
    "    for data_point in data:\n",
    "        key = data_point[key_name]\n",
    "        grouped_data[key].append(data_point)\n",
    "    return grouped_data"
   ]
  },
  {
   "cell_type": "code",
   "execution_count": 42,
   "metadata": {
    "collapsed": false
   },
   "outputs": [],
   "source": [
    "def sum_grouped_items(grouped_data, field_name):\n",
    "    summed_data = {}\n",
    "\n",
    "    for key, data_points in grouped_data.items():\n",
    "        total = 0\n",
    "        for data_point in data_points:\n",
    "            total += data_point[field_name]\n",
    "        summed_data[key] = total\n",
    "\n",
    "    return summed_data"
   ]
  },
  {
   "cell_type": "code",
   "execution_count": 43,
   "metadata": {
    "collapsed": false
   },
   "outputs": [],
   "source": [
    "import numpy as np\n",
    "\n",
    "def describe_data(data):\n",
    "    print('Mean:', np.mean(list(data)))\n",
    "    print('Standard deviation:', np.std(list(data)))\n",
    "    print('Minimum:', np.min(list(data)))\n",
    "    print('Maximum:', np.max(list(data)))"
   ]
  },
  {
   "cell_type": "code",
   "execution_count": 44,
   "metadata": {
    "collapsed": false
   },
   "outputs": [
    {
     "name": "stdout",
     "output_type": "stream",
     "text": [
      "Mean: 1.63216080402\n",
      "Standard deviation: 3.00140182563\n",
      "Minimum: 0\n",
      "Maximum: 36\n"
     ]
    }
   ],
   "source": [
    "lessons_completed_by_account = sum_grouped_items(engagement_by_account, 'lessons_completed')\n",
    "\n",
    "describe_data(lessons_completed_by_account.values())"
   ]
  },
  {
   "cell_type": "markdown",
   "metadata": {},
   "source": [
    "#### Investigating(Exploring) first week data : Analyzing \"num_courses_visited\" in First Week"
   ]
  },
  {
   "cell_type": "raw",
   "metadata": {
    "collapsed": true
   },
   "source": [
    "num_courses_visited 를 위의 두 개의 경우(num of minutes, num of lessons completed)와 동일하게 분석하면 문제가 발생한다. 예를 들어 한 학생이 1일차에 course 3개, 2일차에 0개, 3일차에 course 1개를 방문했다면 total은 4개가 된다. 그러나 4개라는 수치는 그 학생이 course를 방문한 일수인 2일(2일차에는 아예 course 방문한게 0개이므로)과 일치하지도 않고 num of \"unique\" courses visited(3개 혹은 4개 : 1일차에 방문한 course 3개 중에 3일차에 방문한 course 1개와 동일한 course 있는지 여부에 따라)와도 항상 일치하지 않는다\n",
    "\n",
    "대신 \"total number of days each student visited the classroom\" 을 analyze하는 편이 보다 유의미한 결과를 얻는데 도움이 될 것이다. \n",
    "(1) Change the sum_grouped_items function 혹은 그와 유사한 다른 function을 만들기\n",
    "(2) Create a field \"has_visited\" either 1 or 0 (이렇게 하면 sum_grouped_items function 수정하지 않고 그대로 사용할 수 있게 된다)"
   ]
  },
  {
   "cell_type": "raw",
   "metadata": {
    "collapsed": false
   },
   "source": [
    "(2) 방법을 사용하면... 다음과 같은 code를 짤 수 있고 대신 위의 paid_engagement_in_first_week 이전에 넣는 것이 적당할 것이다\n",
    "\n",
    "for engagement_record in paid_engagement:\n",
    "    if engagement_record['num_courses_visited'] > 0:\n",
    "        engagement_record['has_visited'] = 1\n",
    "    else:\n",
    "        engagement_record['has_visited'] = 0"
   ]
  },
  {
   "cell_type": "code",
   "execution_count": 45,
   "metadata": {
    "collapsed": false
   },
   "outputs": [
    {
     "name": "stdout",
     "output_type": "stream",
     "text": [
      "Mean: 2.91256281407\n",
      "Standard deviation: 2.22037005491\n",
      "Minimum: 0\n",
      "Maximum: 7\n"
     ]
    }
   ],
   "source": [
    "days_visited_by_account = sum_grouped_items(engagement_by_account, 'has_visited')\n",
    "\n",
    "describe_data(days_visited_by_account.values())"
   ]
  },
  {
   "cell_type": "markdown",
   "metadata": {},
   "source": [
    "#### Splitting out students who passed the subway project (\"project_submissions\")"
   ]
  },
  {
   "cell_type": "code",
   "execution_count": 46,
   "metadata": {
    "collapsed": false
   },
   "outputs": [
    {
     "name": "stdout",
     "output_type": "stream",
     "text": [
      "647\n"
     ]
    }
   ],
   "source": [
    "subway_project_lesson_keys = ['746169184', '3176718735']\n",
    "# These two numbers are the project keys for the subway project\n",
    "\n",
    "pass_subway_project = set()\n",
    "\n",
    "for submission in paid_submissions:\n",
    "    project = submission['lesson_key']\n",
    "    rating = submission['assigned_rating']\n",
    "    \n",
    "    if project in subway_project_lesson_keys and (rating=='PASSED' or rating == 'DISTINCTION'):\n",
    "        pass_subway_project.add(submission['account_key'])\n",
    "\n",
    "print(len(pass_subway_project))"
   ]
  },
  {
   "cell_type": "code",
   "execution_count": 47,
   "metadata": {
    "collapsed": false
   },
   "outputs": [
    {
     "name": "stdout",
     "output_type": "stream",
     "text": [
      "4528\n",
      "2392\n"
     ]
    }
   ],
   "source": [
    "passing_engagement = []\n",
    "non_passing_engagement = []\n",
    "\n",
    "for engagement_record in paid_engagement_in_first_week:\n",
    "    if engagement_record['account_key'] in pass_subway_project:\n",
    "        passing_engagement.append(engagement_record)\n",
    "    else:\n",
    "        non_passing_engagement.append(engagement_record)\n",
    "        \n",
    "print(len(passing_engagement))\n",
    "print(len(non_passing_engagement))"
   ]
  },
  {
   "cell_type": "markdown",
   "metadata": {},
   "source": [
    "#### Comparing two groups of students (Ones who passed the subway project & others who didn't)"
   ]
  },
  {
   "cell_type": "raw",
   "metadata": {},
   "source": [
    "Comparing students who pass the subway project to those who don't\n",
    "\n",
    "Calculate some metrics for both groups of students\n",
    "\n",
    "Ex) - Minutes spent, num of lessons completed, num of days visited\n",
    "- Are these students more likely to complete other projects\n",
    "- Look at the more granular data in daily_engagement_full.csv\n",
    "- Be creative!\n",
    "\n",
    "Which metric has the most interesting difference?"
   ]
  },
  {
   "cell_type": "code",
   "execution_count": 48,
   "metadata": {
    "collapsed": false
   },
   "outputs": [],
   "source": [
    "passing_engagement_by_account = group_data(passing_engagement, 'account_key')\n",
    "non_passing_engagement_by_account = group_data(non_passing_engagement, 'account_key')"
   ]
  },
  {
   "cell_type": "code",
   "execution_count": 49,
   "metadata": {
    "collapsed": false
   },
   "outputs": [
    {
     "name": "stdout",
     "output_type": "stream",
     "text": [
      "non-passing students:\n",
      "Mean: 145.399341866\n",
      "Standard deviation: 268.97150373\n",
      "Minimum: 0.0\n",
      "Maximum: 1768.52274933\n",
      "passing students:\n",
      "Mean: 391.481722325\n",
      "Standard deviation: 439.653061726\n",
      "Minimum: 0.0\n",
      "Maximum: 3564.7332645\n"
     ]
    }
   ],
   "source": [
    "# comparison of num of minutes spent \n",
    "\n",
    "print('non-passing students:')\n",
    "non_passing_minutes = sum_grouped_items(non_passing_engagement_by_account, 'total_minutes_visited')\n",
    "describe_data(non_passing_minutes.values())\n",
    "\n",
    "print('passing students:')\n",
    "passing_minutes = sum_grouped_items(passing_engagement_by_account, 'total_minutes_visited')\n",
    "describe_data(passing_minutes.values())"
   ]
  },
  {
   "cell_type": "code",
   "execution_count": 50,
   "metadata": {
    "collapsed": false
   },
   "outputs": [
    {
     "name": "stdout",
     "output_type": "stream",
     "text": [
      "non-passing students:\n",
      "Mean: 0.867816091954\n",
      "Standard deviation: 2.54833703959\n",
      "Minimum: 0\n",
      "Maximum: 27\n",
      "passing students:\n",
      "Mean: 2.04327666151\n",
      "Standard deviation: 3.1428602763\n",
      "Minimum: 0\n",
      "Maximum: 36\n"
     ]
    }
   ],
   "source": [
    "# comparison of num of lessons completed\n",
    "\n",
    "print('non-passing students:')\n",
    "non_passing_lessons = sum_grouped_items(non_passing_engagement_by_account, 'lessons_completed')\n",
    "describe_data(non_passing_lessons.values())\n",
    "\n",
    "print('passing students:')\n",
    "passing_lessons = sum_grouped_items(passing_engagement_by_account, 'lessons_completed')\n",
    "describe_data(passing_lessons.values())"
   ]
  },
  {
   "cell_type": "code",
   "execution_count": 51,
   "metadata": {
    "collapsed": false,
    "scrolled": false
   },
   "outputs": [
    {
     "name": "stdout",
     "output_type": "stream",
     "text": [
      "non-passing students:\n",
      "Mean: 1.95114942529\n",
      "Standard deviation: 1.88929952676\n",
      "Minimum: 0\n",
      "Maximum: 7\n",
      "passing students:\n",
      "Mean: 3.42967542504\n",
      "Standard deviation: 2.21298340866\n",
      "Minimum: 0\n",
      "Maximum: 7\n"
     ]
    }
   ],
   "source": [
    "# num of days visited\n",
    "\n",
    "print('non-passing students:')\n",
    "non_passing_visits = sum_grouped_items(non_passing_engagement_by_account, 'has_visited')\n",
    "describe_data(non_passing_visits.values())\n",
    "\n",
    "print('passing students:')\n",
    "passing_visits = sum_grouped_items(passing_engagement_by_account, 'has_visited')\n",
    "describe_data(passing_visits.values())"
   ]
  },
  {
   "cell_type": "markdown",
   "metadata": {},
   "source": [
    "### Visualization"
   ]
  },
  {
   "cell_type": "code",
   "execution_count": 52,
   "metadata": {
    "collapsed": false
   },
   "outputs": [],
   "source": [
    "%matplotlib inline\n",
    "import matplotlib\n",
    "import matplotlib.pyplot as plt"
   ]
  },
  {
   "cell_type": "code",
   "execution_count": 53,
   "metadata": {
    "collapsed": false
   },
   "outputs": [
    {
     "data": {
      "text/plain": [
       "(array([ 290.,   32.,   13.,    5.,    1.,    5.,    2.]),\n",
       " array([    0.        ,   252.64610705,   505.29221409,   757.93832114,\n",
       "         1010.58442819,  1263.23053524,  1515.87664228,  1768.52274933]),\n",
       " <a list of 7 Patch objects>)"
      ]
     },
     "execution_count": 53,
     "metadata": {},
     "output_type": "execute_result"
    },
    {
     "data": {
      "image/png": "[encoded data removed]",
      "text/plain": [
       "<matplotlib.figure.Figure at 0xcb20ac8>"
      ]
     },
     "metadata": {},
     "output_type": "display_data"
    }
   ],
   "source": [
    "plt.hist(list(non_passing_minutes.values()), bins=7)"
   ]
  },
  {
   "cell_type": "code",
   "execution_count": 54,
   "metadata": {
    "collapsed": false
   },
   "outputs": [
    {
     "data": {
      "text/plain": [
       "(array([ 457.,  141.,   35.,    8.,    3.,    2.,    1.]),\n",
       " array([    0.        ,   509.24760921,  1018.49521843,  1527.74282764,\n",
       "         2036.99043686,  2546.23804607,  3055.48565528,  3564.7332645 ]),\n",
       " <a list of 7 Patch objects>)"
      ]
     },
     "execution_count": 54,
     "metadata": {},
     "output_type": "execute_result"
    },
    {
     "data": {
      "image/png": "[encoded data removed]",
      "text/plain": [
       "<matplotlib.figure.Figure at 0xc95b470>"
      ]
     },
     "metadata": {},
     "output_type": "display_data"
    }
   ],
   "source": [
    "plt.hist(list(passing_minutes.values()), bins=7)"
   ]
  },
  {
   "cell_type": "code",
   "execution_count": 55,
   "metadata": {
    "collapsed": false
   },
   "outputs": [
    {
     "data": {
      "text/plain": [
       "(array([ 317.,   17.,    6.,    4.,    1.,    1.,    0.,    1.,    0.,    1.]),\n",
       " array([  0. ,   2.7,   5.4,   8.1,  10.8,  13.5,  16.2,  18.9,  21.6,\n",
       "         24.3,  27. ]),\n",
       " <a list of 10 Patch objects>)"
      ]
     },
     "execution_count": 55,
     "metadata": {},
     "output_type": "execute_result"
    },
    {
     "data": {
      "image/png": "[encoded data removed]",
      "text/plain": [
       "<matplotlib.figure.Figure at 0xc9169b0>"
      ]
     },
     "metadata": {},
     "output_type": "display_data"
    }
   ],
   "source": [
    "plt.hist(list(non_passing_lessons.values()))"
   ]
  },
  {
   "cell_type": "code",
   "execution_count": 56,
   "metadata": {
    "collapsed": false
   },
   "outputs": [
    {
     "data": {
      "text/plain": [
       "(array([ 518.,   95.,   23.,    4.,    3.,    3.,    0.,    0.,    0.,    1.]),\n",
       " array([  0. ,   3.6,   7.2,  10.8,  14.4,  18. ,  21.6,  25.2,  28.8,\n",
       "         32.4,  36. ]),\n",
       " <a list of 10 Patch objects>)"
      ]
     },
     "execution_count": 56,
     "metadata": {},
     "output_type": "execute_result"
    },
    {
     "data": {
      "image/png": "[encoded data removed]",
      "text/plain": [
       "<matplotlib.figure.Figure at 0xc8c8b38>"
      ]
     },
     "metadata": {},
     "output_type": "display_data"
    }
   ],
   "source": [
    "plt.hist(list(passing_lessons.values()))"
   ]
  },
  {
   "cell_type": "code",
   "execution_count": 57,
   "metadata": {
    "collapsed": false
   },
   "outputs": [
    {
     "data": {
      "text/plain": [
       "(array([ 89.,  93.,  59.,  42.,  16.,  24.,  17.,   8.]),\n",
       " array([ 0.   ,  0.875,  1.75 ,  2.625,  3.5  ,  4.375,  5.25 ,  6.125,  7.   ]),\n",
       " <a list of 8 Patch objects>)"
      ]
     },
     "execution_count": 57,
     "metadata": {},
     "output_type": "execute_result"
    },
    {
     "data": {
      "image/png": "[encoded data removed]",
      "text/plain": [
       "<matplotlib.figure.Figure at 0xc89ed30>"
      ]
     },
     "metadata": {},
     "output_type": "display_data"
    }
   ],
   "source": [
    "plt.hist(list(non_passing_visits.values()),bins=8)"
   ]
  },
  {
   "cell_type": "code",
   "execution_count": 58,
   "metadata": {
    "collapsed": false
   },
   "outputs": [
    {
     "data": {
      "text/plain": [
       "(array([ 76.,  83.,  81.,  96.,  80.,  86.,  79.,  66.]),\n",
       " array([ 0.   ,  0.875,  1.75 ,  2.625,  3.5  ,  4.375,  5.25 ,  6.125,  7.   ]),\n",
       " <a list of 8 Patch objects>)"
      ]
     },
     "execution_count": 58,
     "metadata": {},
     "output_type": "execute_result"
    },
    {
     "data": {
      "image/png": "[encoded data removed]",
      "text/plain": [
       "<matplotlib.figure.Figure at 0xc88a940>"
      ]
     },
     "metadata": {},
     "output_type": "display_data"
    }
   ],
   "source": [
    "plt.hist(list(passing_visits.values()),bins=8)"
   ]
  },
  {
   "cell_type": "markdown",
   "metadata": {
    "collapsed": true
   },
   "source": [
    "### Drawing Conclusions Phase"
   ]
  },
  {
   "cell_type": "raw",
   "metadata": {},
   "source": [
    "Tentative conclusion : Students who pass the subway project spend more minutes in the classroom during their first week\n",
    "\n",
    "But is this a true difference, or due to \"noise\" in the data?\n",
    "Check this using \"statistics\""
   ]
  },
  {
   "cell_type": "markdown",
   "metadata": {},
   "source": [
    "#### \"Correlation doesn't always imply causation\""
   ]
  },
  {
   "cell_type": "raw",
   "metadata": {
    "collapsed": true
   },
   "source": [
    "Correlation: Students who pass the first project are more likely to visit the classroom multiple times in their first week\n",
    "\n",
    "Causation: Does visiting the classroom multiple times cause students to pass their project? Not always. \n",
    "\n",
    "Third factors that could cause visiting the classroom and passing projects:\n",
    "- Level of Interest(Not interested, so don't visit classroom that often and eventually fail the course)\n",
    "- Background knowledge(Some students don't have background knowledge of computer science, so stuck in the course without being being able to move forward and finish projects)\n",
    "\n",
    "To find out, run \"A/B testing:"
   ]
  },
  {
   "cell_type": "markdown",
   "metadata": {
    "collapsed": true
   },
   "source": [
    "#### Making Predictions"
   ]
  },
  {
   "cell_type": "raw",
   "metadata": {
    "collapsed": true
   },
   "source": [
    "Which students are likely to pass their first project?\n",
    "\n",
    "Could take a first pass using heuristics, but getting a really good prediction this way could be difficult\n",
    "- Lots of different pieces of information to look at\n",
    "- These features can have complex interaction with one another\n",
    "\n",
    "\"Machine Learning\" can make predictions automatically"
   ]
  },
  {
   "cell_type": "markdown",
   "metadata": {},
   "source": [
    "### Communication Phase"
   ]
  },
  {
   "cell_type": "raw",
   "metadata": {},
   "source": [
    "What findings are most interesting?\n",
    "- Different in total minutes\n",
    "- Difference in days visited \n",
    "\n",
    "How will you present them?\n",
    "- Report average minutes\n",
    "- Show histograms : Polish any visualizations"
   ]
  },
  {
   "cell_type": "markdown",
   "metadata": {},
   "source": [
    "#### polishing prior visualizations"
   ]
  },
  {
   "cell_type": "code",
   "execution_count": 62,
   "metadata": {
    "collapsed": false
   },
   "outputs": [
    {
     "data": {
      "text/plain": [
       "<matplotlib.text.Text at 0xc7dddd8>"
      ]
     },
     "execution_count": 62,
     "metadata": {},
     "output_type": "execute_result"
    },
    {
     "data": {
      "image/png": "[encoded data removed]",
      "text/plain": [
       "<matplotlib.figure.Figure at 0xc7f2d30>"
      ]
     },
     "metadata": {},
     "output_type": "display_data"
    }
   ],
   "source": [
    "# import seaborn as sns (ImportError : 원인 아직 모르겠음;;;;)\n",
    "\n",
    "plt.hist(list(passing_visits.values()), bins=8)\n",
    "# visit_days in range of 0~7, so eight bins\n",
    "\n",
    "plt.xlabel('Number of days')\n",
    "plt.title('Distribution of classroom visits in the first week' + ' '+ \\\n",
    "'for students who pass the subway project')"
   ]
  },
  {
   "cell_type": "code",
   "execution_count": 63,
   "metadata": {
    "collapsed": false
   },
   "outputs": [
    {
     "data": {
      "text/plain": [
       "<matplotlib.text.Text at 0xc7b27f0>"
      ]
     },
     "execution_count": 63,
     "metadata": {},
     "output_type": "execute_result"
    },
    {
     "data": {
      "image/png": "[encoded data removed]",
      "text/plain": [
       "<matplotlib.figure.Figure at 0xc7c8400>"
      ]
     },
     "metadata": {},
     "output_type": "display_data"
    }
   ],
   "source": [
    "plt.hist(list(non_passing_visits.values()), bins=8)\n",
    "\n",
    "plt.xlabel('Number of days')\n",
    "plt.title('Distribution of classroom visits in the first week' + ' '+ \\\n",
    "'for students who do not pass the subway project')"
   ]
  },
  {
   "cell_type": "markdown",
   "metadata": {},
   "source": [
    "#### Data Analysis and Related Terms"
   ]
  },
  {
   "cell_type": "raw",
   "metadata": {},
   "source": [
    "Data Science\n",
    "- Similar to data analysis\n",
    "- More foundation on building systems (e.g. ranking algorith, recommendation system etc)\n",
    "- May require more experience\n",
    "\n",
    "Data Engineeering\n",
    "- More focused on Data Wrangling (making data pipelines and insure that data collection is fault tolerant and scales well)\n",
    "- More involved in storing and processing data and less involved in drawing conclusions based on the data\n",
    "\n",
    "Big Data\n",
    "- Fuzzy term for \"a lot\" of data (e.g. pegabytes)\n",
    "- Data analysts, scientists and engineers can all work with big data"
   ]
  }
 ],
 "metadata": {
  "anaconda-cloud": {},
  "kernelspec": {
   "display_name": "Python 3",
   "language": "python",
   "name": "python3"
  },
  "language_info": {
   "codemirror_mode": {
    "name": "ipython",
    "version": 3
   },
   "file_extension": ".py",
   "mimetype": "text/x-python",
   "name": "python",
   "nbconvert_exporter": "python",
   "pygments_lexer": "ipython3",
   "version": "3.5.3"
  }
 },
 "nbformat": 4,
 "nbformat_minor": 0
}
