{
 "cells": [
  {
   "cell_type": "code",
   "execution_count": 1,
   "metadata": {
    "collapsed": true
   },
   "outputs": [],
   "source": [
    "import pandas as pd\n",
    "import numpy as np"
   ]
  },
  {
   "cell_type": "code",
   "execution_count": 2,
   "metadata": {
    "collapsed": true
   },
   "outputs": [],
   "source": [
    "df = pd.read_csv('fb441e62df2d58994928907a91895ec62c2c42e6cd075c2700843b89.csv')"
   ]
  },
  {
   "cell_type": "markdown",
   "metadata": {},
   "source": [
    "- id : station identification code\n",
    "- date : date in YYYY-MM-DD format (e.g. 2012-01-24 = January 24, 2012)\n",
    "- element : indicator of element type\n",
    "- TMAX : Maximum temperature (tenths of degrees C)\n",
    "- TMIN : Minimum temperature (tenths of degrees C)\n",
    "- value : data value for element (tenths of degrees C)"
   ]
  },
  {
   "cell_type": "markdown",
   "metadata": {},
   "source": [
    "1. Read the documentation and familiarize yourself with the dataset, then write some python code which returns a line graph of the record high and record low temperatures by day of the year over the period 2005-2015. The area between the record high and record low temperatures for each day should be shaded.\n",
    "\n",
    "2. Make the visual nice! Leverage principles from the first module in this course when developing your solution. Consider issues such as legends, labels, and chart junk."
   ]
  },
  {
   "cell_type": "code",
   "execution_count": 3,
   "metadata": {
    "collapsed": false,
    "scrolled": true
   },
   "outputs": [
    {
     "name": "stdout",
     "output_type": "stream",
     "text": [
      "<class 'pandas.core.frame.DataFrame'>\n",
      "RangeIndex: 165085 entries, 0 to 165084\n",
      "Data columns (total 4 columns):\n",
      "ID            165085 non-null object\n",
      "Date          165085 non-null object\n",
      "Element       165085 non-null object\n",
      "Data_Value    165085 non-null int64\n",
      "dtypes: int64(1), object(3)\n",
      "memory usage: 5.0+ MB\n"
     ]
    }
   ],
   "source": [
    "df.info()"
   ]
  },
  {
   "cell_type": "code",
   "execution_count": 4,
   "metadata": {
    "collapsed": false,
    "scrolled": false
   },
   "outputs": [
    {
     "data": {
      "text/html": [
       "<div>\n",
       "<table border=\"1\" class=\"dataframe\">\n",
       "  <thead>\n",
       "    <tr style=\"text-align: right;\">\n",
       "      <th></th>\n",
       "      <th>ID</th>\n",
       "      <th>Date</th>\n",
       "      <th>Element</th>\n",
       "      <th>Data_Value</th>\n",
       "    </tr>\n",
       "  </thead>\n",
       "  <tbody>\n",
       "    <tr>\n",
       "      <th>0</th>\n",
       "      <td>USW00094889</td>\n",
       "      <td>2014-11-12</td>\n",
       "      <td>TMAX</td>\n",
       "      <td>22</td>\n",
       "    </tr>\n",
       "    <tr>\n",
       "      <th>1</th>\n",
       "      <td>USC00208972</td>\n",
       "      <td>2009-04-29</td>\n",
       "      <td>TMIN</td>\n",
       "      <td>56</td>\n",
       "    </tr>\n",
       "    <tr>\n",
       "      <th>2</th>\n",
       "      <td>USC00200032</td>\n",
       "      <td>2008-05-26</td>\n",
       "      <td>TMAX</td>\n",
       "      <td>278</td>\n",
       "    </tr>\n",
       "    <tr>\n",
       "      <th>3</th>\n",
       "      <td>USC00205563</td>\n",
       "      <td>2005-11-11</td>\n",
       "      <td>TMAX</td>\n",
       "      <td>139</td>\n",
       "    </tr>\n",
       "    <tr>\n",
       "      <th>4</th>\n",
       "      <td>USC00200230</td>\n",
       "      <td>2014-02-27</td>\n",
       "      <td>TMAX</td>\n",
       "      <td>-106</td>\n",
       "    </tr>\n",
       "  </tbody>\n",
       "</table>\n",
       "</div>"
      ],
      "text/plain": [
       "            ID        Date Element  Data_Value\n",
       "0  USW00094889  2014-11-12    TMAX          22\n",
       "1  USC00208972  2009-04-29    TMIN          56\n",
       "2  USC00200032  2008-05-26    TMAX         278\n",
       "3  USC00205563  2005-11-11    TMAX         139\n",
       "4  USC00200230  2014-02-27    TMAX        -106"
      ]
     },
     "execution_count": 4,
     "metadata": {},
     "output_type": "execute_result"
    }
   ],
   "source": [
    "df.head()"
   ]
  },
  {
   "cell_type": "code",
   "execution_count": 5,
   "metadata": {
    "collapsed": true
   },
   "outputs": [],
   "source": [
    "df['Date'] =\\\n",
    "pd.to_datetime(df['Date'])"
   ]
  },
  {
   "cell_type": "code",
   "execution_count": 6,
   "metadata": {
    "collapsed": false,
    "scrolled": true
   },
   "outputs": [],
   "source": [
    "df['Year'] =\\\n",
    "df['Date'].dt.year"
   ]
  },
  {
   "cell_type": "code",
   "execution_count": 7,
   "metadata": {
    "collapsed": false
   },
   "outputs": [],
   "source": [
    "df_high = df.groupby('Year')['Data_Value'].max()\n",
    "df_low = df.groupby('Year')['Data_Value'].min()"
   ]
  },
  {
   "cell_type": "code",
   "execution_count": 8,
   "metadata": {
    "collapsed": true
   },
   "outputs": [],
   "source": [
    "import matplotlib as mpl\n",
    "import matplotlib.pyplot as plt\n",
    "%matplotlib inline"
   ]
  },
  {
   "cell_type": "code",
   "execution_count": 9,
   "metadata": {
    "collapsed": false
   },
   "outputs": [
    {
     "data": {
      "image/png": "[encoded data removed]",
      "text/plain": [
       "<matplotlib.figure.Figure at 0x14e3297a6d8>"
      ]
     },
     "metadata": {},
     "output_type": "display_data"
    }
   ],
   "source": [
    "df_high.plot()\n",
    "df_low.plot()\n",
    "\n",
    "plt.scatter(df_high.index.values, df_high.values)\n",
    "plt.scatter(df_low.index.values, df_low.values)\n",
    "\n",
    "plt.style.use('ggplot')\n",
    "\n",
    "ax = plt.gca()\n",
    "\n",
    "x = ax.xaxis\n",
    "\n",
    "# rotate the tick labels for the x axis so that the letters don't overlap\n",
    "for item in x.get_ticklabels():\n",
    "    item.set_rotation(45)\n",
    "    \n",
    "# adjust the subplot so the text doesn't run off the image\n",
    "plt.subplots_adjust(bottom=0.25)\n",
    "\n",
    "# setting y-abel and title\n",
    "ax.set_ylabel('Temperature')\n",
    "ax.set_title('05-15 Record High Temp vs. Record Low Temp')\n",
    "\n",
    "# changing the number x ticks so that all data can be shown clearly\n",
    "plt.xticks(np.arange(2005, 2016, 1))\n",
    "\n",
    "# fill the area with some color between the record high and record low temp\n",
    "ax.fill_between(np.arange(2005, 2016, 1), df_high, df_low,facecolor='pink', alpha=0.5)\n",
    "\n",
    "# settings for legend\n",
    "plt.legend(['Record High Temp', 'Record Low Temp'], loc=2, frameon=False)\n",
    "\n",
    "# removing unnecessary tick lines and leaving just the left and bottom labels\n",
    "plt.tick_params(top='off', bottom='off', left='off', right='off', \n",
    "                labelleft='on', labelbottom='on')\n",
    "\n",
    "# removing frame frame chart\n",
    "for spine in plt.gca().spines.values():\n",
    "    spine.set_visible(False)"
   ]
  }
 ],
 "metadata": {
  "kernelspec": {
   "display_name": "Python 3",
   "language": "python",
   "name": "python3"
  },
  "language_info": {
   "codemirror_mode": {
    "name": "ipython",
    "version": 3
   },
   "file_extension": ".py",
   "mimetype": "text/x-python",
   "name": "python",
   "nbconvert_exporter": "python",
   "pygments_lexer": "ipython3",
   "version": "3.5.3"
  }
 },
 "nbformat": 4,
 "nbformat_minor": 0
}
