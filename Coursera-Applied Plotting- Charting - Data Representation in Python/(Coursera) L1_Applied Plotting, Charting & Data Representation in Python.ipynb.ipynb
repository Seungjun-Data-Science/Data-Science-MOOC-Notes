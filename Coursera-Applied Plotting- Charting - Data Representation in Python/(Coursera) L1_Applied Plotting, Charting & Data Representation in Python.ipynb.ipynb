{
 "cells": [
  {
   "cell_type": "markdown",
   "metadata": {},
   "source": [
    "## (Coursera) Week 1_Applied Plotting, Charting & Data Representation in Python"
   ]
  },
  {
   "cell_type": "markdown",
   "metadata": {},
   "source": [
    "### Visualization Wheel Dimensions"
   ]
  },
  {
   "cell_type": "markdown",
   "metadata": {},
   "source": [
    "#### Albert Cairo\n",
    "http://infovis.fh-potsdam.de/readings/Cairo2015.pdf"
   ]
  },
  {
   "cell_type": "markdown",
   "metadata": {},
   "source": [
    "- Abstraction - Figuration\n",
    "  - Boxes and charts (abstraction) or real-world physical objects (figuration)\n",
    "- Functionality - Decoration\n",
    "  - No embellishments (functionality) or artistic embellishments (decoration)\n",
    "- Density - Lightness\n",
    "  - Must be studied in depth (density) or understandable at a glance (lightness)\n",
    "- Multidimensional - Unidimensional\n",
    "  - Different aspects of phenomena (multidimensional) or single or few items of phenomena (unidimensional)\n",
    "- Originality - Familiarity\n",
    "  - Novel methods of visualization (originality) or established and well understood methods of visualization (familiarity)\n",
    "- Novelty - Redundancy\n",
    "  - Explaining each item once (novelty) or encoding multiple explanations of the same phenomena (redundancy)"
   ]
  },
  {
   "cell_type": "markdown",
   "metadata": {},
   "source": [
    "### Graphical Heuristics (Edward Tufte)"
   ]
  },
  {
   "cell_type": "markdown",
   "metadata": {},
   "source": [
    "##### Heuristic\n",
    "\n",
    "A process or rule that is meant to guide you in decision making. Is by definition not known to be optimal or perfect, but to be practical in nature. Heuristics are meant to be followed until you've a reason to deviate from them."
   ]
  },
  {
   "cell_type": "markdown",
   "metadata": {},
   "source": [
    "##### Data-Ink (one type of heuristic)\n",
    "\n",
    "non-erasable core of a graphic. The non-redundant ink arranged in response to variation in the numbers represented. In other words, the data-ink is essential to the sense-making process for a given variable.\n",
    "\n",
    "- Data-ink ratio = data-ink / total ink required to print the graphic\n",
    "- Data-ink ration reduction : getting rid of redundant ink that doesn't add new value or provide new information on the graph"
   ]
  },
  {
   "cell_type": "markdown",
   "metadata": {},
   "source": [
    "< Darkhorse Analytics >\n",
    "\n",
    "Best known examples showing data-ink reduction Data ink reduction\n",
    "\n",
    "- Remove redundant labels\n",
    "- Reduce colors\n",
    "- Remove special effects\n",
    "- Lighten labels\n",
    "- and so on..."
   ]
  },
  {
   "cell_type": "markdown",
   "metadata": {},
   "source": [
    "JPG file showing an example of Data-ink reduction \n",
    "<img src=\"data-ink reduction example.JPG\">"
   ]
  },
  {
   "cell_type": "markdown",
   "metadata": {},
   "source": [
    "##### Chart Junk (Another type of heuristic)"
   ]
  },
  {
   "cell_type": "markdown",
   "metadata": {},
   "source": [
    "- unintended optical art\n",
    "  - excessive shading or patterning of chart features\n",
    "  - moiré pattern : excessive patterns make human eyes jump and cause visual fatigue\n",
    "  - Instead of patterning this content, one is better off labeling the chart graphics \"directly\"\n",
    "\n",
    "- Grid\n",
    "  - causes competition with the actual data being shared\n",
    "  - Instead of being overwhelmed by the number of lines on the page, \"thinning, removing or dsaturating grid lines\" makes it easier to see data\n",
    "  - Direct labeling is also a good solution\n",
    "\n",
    "- Duck\n",
    "  - non-data creative graphics\n",
    "  - Very flashy\n",
    "\n",
    "Nigel Holmes(graphic artist)\n",
    "- Used the duck to display data in a way which is memorable yet aesthetically interesting. \n",
    "- Diamonds Were a Girl's Best Friend : One of the most memorable images he's created. Showed up in a Times Magazine in 1982. This graphic shows the trend of the price of diamonds from 1978 to 1982, and while the dollar amounts are easily forgotten, it's easy to remember that the trend have a spike because of the shape of the woman's leg\n",
    "- Test conducted to groups of people: No recall difference when tested immediately, recall after two to three weeks was significantly better for the Holmes Charts, which showed the duck chartjunk. Further subjects indicated subjectively that the Holmes Charts were more enjoyable, more attractive, easier to remember, and easier to remember details of."
   ]
  },
  {
   "cell_type": "markdown",
   "metadata": {},
   "source": [
    "##### Spark Lines"
   ]
  },
  {
   "cell_type": "markdown",
   "metadata": {},
   "source": [
    "Example of spark lines. The last row of the chart on the right has lines that show the overall changes of each column. Easier to get a wholistic picture.\n",
    "<img src=\"Spark Line Example.JPG\">"
   ]
  },
  {
   "cell_type": "markdown",
   "metadata": {},
   "source": [
    "- Sparklines could not only be represented directly in text, but also could be embedded in tables along with the data they describe.\n",
    "- Customized interfaces, such as video games, are a great example\n",
    "- Sparktweet : A modern take on sparklines. Where Unicode block characters are used to display a bar graph inside the 140 characters allotted by Twitter. Example below.\n",
    "\n",
    "<img src=\"Twitter Sparktweet Example.JPG\">"
   ]
  },
  {
   "cell_type": "markdown",
   "metadata": {},
   "source": [
    "##### Lie Factor"
   ]
  },
  {
   "cell_type": "markdown",
   "metadata": {},
   "source": [
    "- size of an effect shown in the graphic / size of the effect actually in the data\n",
    "- It's often done unconsciously, to try and help tell a narrative, however, it's misleading to the observers. \n",
    "- Example : Time Magazine in 1979 article\n",
    "  - In it, various barrels of oil are shown, showing the price of oil over six years. But it's unclear to the viewer what the size of one barrel means in relation to the others, in part because there's an element of perspective here. Are the barrels different sizes, or do they just appear to be so because some are in front of the others?  Is it the volume of the barrel that represents the growth of the cost, or the height of the barrel? \n",
    "\n",
    "<img src='lie factor example.JPG'>"
   ]
  },
  {
   "cell_type": "markdown",
   "metadata": {},
   "source": [
    "### Albert Cairo : The Truthful Art"
   ]
  },
  {
   "cell_type": "markdown",
   "metadata": {},
   "source": [
    "##### Truthful\n",
    "\n",
    "- We have to be honest with ourselves when we clean and summarize data. Are the activities we're engaging in likely to obscure a message because of the limitations that we've applied? \n",
    "- Skepticism to oneself needed\n",
    "- If we omit the ability of the reader to explore the phenomena more fully, this will generate doubt and cast distrust"
   ]
  },
  {
   "cell_type": "markdown",
   "metadata": {},
   "source": [
    "<img src='Truthfulness of Visualization Example.JPG'>\n",
    "\n",
    "- The title of the chart alone, was intended to draw the reader to the conclusion, less regulation means more industry investment\n",
    "- It's unclear whether the monies are adjusted for inflation, which is a big issue when providing charts of financial data\n",
    "- The time spans for the two bars are different. One covers a span of three years, while the other covers a span of four years. \n",
    "- There seems to be a bunch of missing data from years 1997 and 1998. And the chart stops in the year 2003, but the information was tweeted in 2014.\n",
    "- Cairo tracked this down, and provided a line graph. We can see that after regulation, there were in fact years of sustained industry investment. We see a slight drop after deregulation, then a massive spike in spending. And then a significant fall from the period post 2002, much of which is excluded from the original chart. While it's unclear whether the dollar values are in fact corrected for inflation, seems pretty unreasonable to suggest from this data alone that regulations stems cable company investment and infrastructure."
   ]
  },
  {
   "cell_type": "markdown",
   "metadata": {},
   "source": [
    "##### Functional\n",
    "\n",
    "Direct Labeling"
   ]
  },
  {
   "cell_type": "markdown",
   "metadata": {},
   "source": [
    "##### Beautiful\n",
    "\n",
    "The third quality of visualization, Cairo shares is whether it is beautiful or not. "
   ]
  },
  {
   "cell_type": "markdown",
   "metadata": {},
   "source": [
    "###### insightful\n",
    "\n",
    "They shouldn't just replicate data in tables, but they should draw the viewer in such that the viewer has an aha or eureka moment. "
   ]
  },
  {
   "cell_type": "markdown",
   "metadata": {},
   "source": [
    "##### enlightening\n",
    "\n",
    "Cairo argues that this quality is composed of the previous four, truthful, functional, beautiful and insightful. But he separates and then adds a social responsibility dimension. "
   ]
  }
 ],
 "metadata": {
  "kernelspec": {
   "display_name": "Python 3",
   "language": "python",
   "name": "python3"
  },
  "language_info": {
   "codemirror_mode": {
    "name": "ipython",
    "version": 3
   },
   "file_extension": ".py",
   "mimetype": "text/x-python",
   "name": "python",
   "nbconvert_exporter": "python",
   "pygments_lexer": "ipython3",
   "version": "3.5.3"
  }
 },
 "nbformat": 4,
 "nbformat_minor": 0
}
