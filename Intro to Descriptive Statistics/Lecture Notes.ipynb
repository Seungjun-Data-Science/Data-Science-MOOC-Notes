{
 "cells": [
  {
   "cell_type": "markdown",
   "metadata": {},
   "source": [
    "# Research Questions"
   ]
  },
  {
   "cell_type": "markdown",
   "metadata": {},
   "source": [
    "Construct: If we already have a method of measurement and possibly the unit of meausurement, it's not a construct. On the other hand, if we have to come up with some measurement, it's a construct. Examples are:\n",
    "\n",
    "- Intelligence\n",
    "- Effort\n",
    "- Age\n",
    "- Hunger\n",
    "- Itchiness"
   ]
  },
  {
   "cell_type": "markdown",
   "metadata": {},
   "source": [
    "Operational Definition\n",
    "\n",
    "- A way of turning constructs into variables we can measure\n",
    "- A way of describing a variable in terms of the way we measure it"
   ]
  },
  {
   "cell_type": "markdown",
   "metadata": {},
   "source": [
    "randomness: Every sample has a equal chance of being selected"
   ]
  },
  {
   "cell_type": "markdown",
   "metadata": {},
   "source": [
    "Correlation doesn't prove Causation. Have to consider \"lurking variables\".\n",
    "- Show relationships: observation studies / survey\n",
    "- Show causation: controlled experiment"
   ]
  },
  {
   "cell_type": "markdown",
   "metadata": {},
   "source": [
    "Survey Benefits\n",
    "\n",
    "- Easy way to get info from population\n",
    "- Relatively inexpensive\n",
    "- Conducted remotely\n",
    "- Anyone can access & analyze the survey results"
   ]
  },
  {
   "cell_type": "markdown",
   "metadata": {},
   "source": [
    "Survey Downsides\n",
    "\n",
    "- Untruthful responses\n",
    "- Biases responses\n",
    "- Respondents not understanding the questions (Response Bias)\n",
    "- Respondents refusing to answer (Non-Response Bias)"
   ]
  },
  {
   "cell_type": "markdown",
   "metadata": {},
   "source": [
    "Controlled Experiments\n",
    "\n",
    "- Blinding: Not letting the participants know which treatment they received is called blinding\n",
    "- Placebo: Inactive and fake treatment so that the control group is unaware that they are treated differently\n",
    "- Double Blinding: Both Researchers and participants don't know which treatment the participants got\n",
    "- Within Subject design: Giving two different treatments on the same person (using same person for two different treatments)"
   ]
  },
  {
   "cell_type": "markdown",
   "metadata": {
    "collapsed": true
   },
   "source": [
    "# Visualizing Data"
   ]
  },
  {
   "cell_type": "markdown",
   "metadata": {},
   "source": [
    "- Frequency Table\n",
    "- Relative Frequency Table\n",
    "- Bin Size: It depends on the context and how you want to group different people"
   ]
  },
  {
   "cell_type": "markdown",
   "metadata": {},
   "source": [
    "Histogram & Bar Plot\n",
    "\n",
    "- Histogram: X-axis represents \"numerical\" values. May change bin size. Bins should be in ORDER.\n",
    "- Bar plot: X-axis represents \"categorical\" variables. Each of the bar represents a \"category\", so NOT liable to change. Order or bars does not matter."
   ]
  },
  {
   "cell_type": "markdown",
   "metadata": {},
   "source": [
    "Frequency table and Histogram\n",
    "\n",
    "- Frequency Table: Good for calculating the total number in the sample/population\n",
    "- Histogram: Good for visualizing shape of distribution, can always be created if you have frequency table (but reverse is not true)"
   ]
  },
  {
   "cell_type": "markdown",
   "metadata": {
    "collapsed": true
   },
   "source": [
    "# Central Tendency"
   ]
  },
  {
   "cell_type": "markdown",
   "metadata": {},
   "source": [
    "Mode, Median and Average?"
   ]
  },
  {
   "cell_type": "markdown",
   "metadata": {},
   "source": [
    "#### Mode: Value or range of values with highest frequency in the distribution"
   ]
  },
  {
   "cell_type": "markdown",
   "metadata": {},
   "source": [
    "- Uniform distribution doesn't have mode\n",
    "- Multimodal distributions have two or more modes"
   ]
  },
  {
   "cell_type": "markdown",
   "metadata": {},
   "source": [
    "- The mode can be used to describe any type of data we have, whether its numerical or categorical\n",
    "- Not all scores in the dataset affect the mode\n",
    "- If we take a lot of samples from the same population , there is no guarantee that the mode will be the same in each sample\n",
    "- There is no equation for mode because mode can change if we change the bin size"
   ]
  },
  {
   "cell_type": "markdown",
   "metadata": {},
   "source": [
    "#### Mean: Average value"
   ]
  },
  {
   "cell_type": "markdown",
   "metadata": {},
   "source": [
    "#### mean = $(\\sum x) / n$"
   ]
  },
  {
   "cell_type": "markdown",
   "metadata": {
    "collapsed": true
   },
   "source": [
    "- All scores in the distribution affect the mean\n",
    "- The mean can be described with a formula\n",
    "- Many samples from the sample population will have similar means\n",
    "- The mean of a sample can be used to make inferences about the population it came from"
   ]
  },
  {
   "cell_type": "markdown",
   "metadata": {},
   "source": [
    "#### Median : Center Value"
   ]
  },
  {
   "cell_type": "markdown",
   "metadata": {},
   "source": [
    "- Median is robust measure when distribution is skewed\n",
    "- If distribution is very right skewed, most likely going to be mode < median < mean\n",
    "- If data is normally distributed, mode = median = mean"
   ]
  },
  {
   "cell_type": "markdown",
   "metadata": {},
   "source": [
    "- Has a simple equation : Mean\n",
    "- Will always change if any data value changes: Mean\n",
    "- Not affected by change in bin size: Mean, Median\n",
    "- Not affected severely by outliers: Median, Mode\n",
    "- Easy to find on a histogram: Mode"
   ]
  },
  {
   "cell_type": "markdown",
   "metadata": {},
   "source": [
    "# Variability"
   ]
  },
  {
   "cell_type": "markdown",
   "metadata": {},
   "source": [
    "#### Range = Max value in the distribution - Min value in the distribution"
   ]
  },
  {
   "cell_type": "markdown",
   "metadata": {},
   "source": [
    "Range changes when we add new data to the dataset - sometimes"
   ]
  },
  {
   "cell_type": "markdown",
   "metadata": {},
   "source": [
    "#### IQR (Interquartile Range)"
   ]
  },
  {
   "cell_type": "markdown",
   "metadata": {},
   "source": [
    "Outlier if (data < Q1  - 1.5 * IQR) or (data > Q3 + 1.5 * IQR)"
   ]
  },
  {
   "cell_type": "markdown",
   "metadata": {},
   "source": [
    "Most viable option for measuring variability using all data values : Find the average distance between each data value and the mean (Deviation)\n",
    "- Absolute Deviation: Average Absolute Deviation = $\\sum(|xi - mean|) / n$\n",
    "- Squared Deviation: Average Squared Deviation = Mean of squared deviations = Sum of squared deviations divided by n"
   ]
  },
  {
   "cell_type": "markdown",
   "metadata": {},
   "source": [
    "#### Standard Deviation (SD)"
   ]
  },
  {
   "cell_type": "markdown",
   "metadata": {},
   "source": [
    "$\\sigma =  \\sqrt{[(xi - mean)^2] / n}$"
   ]
  },
  {
   "cell_type": "markdown",
   "metadata": {},
   "source": [
    "- Bessel's Correction: Dividing by n-1 instead of n / Get a bigger SD and variance\n",
    "- why? : If we have a sample, using n-1 is what we do to approximate the true population"
   ]
  },
  {
   "cell_type": "markdown",
   "metadata": {
    "collapsed": true
   },
   "source": [
    "# Standardizing"
   ]
  },
  {
   "cell_type": "markdown",
   "metadata": {},
   "source": [
    "If we are concerned with the proportion less than or greater than a certain value on a distribution, what should we do?\n",
    "- Use Relative Frequencies!\n",
    "- Relative Frequency Histogram: BUT can't really look at detail. For more detail, need \"smaller bin size\""
   ]
  },
  {
   "cell_type": "markdown",
   "metadata": {},
   "source": [
    "Normal Distribution\n",
    "- One SD away from mean: 68%\n",
    "- Two SD away from mean: 95%\n",
    "- Z Score = $(m - x) / SD$\n",
    "- Standardized Normal Distribution: Mean 0, SD 1"
   ]
  },
  {
   "cell_type": "markdown",
   "metadata": {},
   "source": [
    "# Sampling Distribution"
   ]
  },
  {
   "cell_type": "markdown",
   "metadata": {},
   "source": [
    "How do we compare a sample in a population to other samples in that population?\n",
    "- By finding the \"mean\" of the sample\n",
    "- By finding the means of other samples in this population\n",
    "- By comparing the mean of this sample to the others"
   ]
  },
  {
   "cell_type": "markdown",
   "metadata": {},
   "source": [
    "Distribution of sample means = SAMPLING DISTRIBUTION"
   ]
  },
  {
   "cell_type": "markdown",
   "metadata": {},
   "source": [
    "- Ratio of population SD to SE of sample distribution = Square root of sample size\n",
    "- $SE = SD / \\sqrt n $"
   ]
  },
  {
   "cell_type": "markdown",
   "metadata": {},
   "source": [
    "Central Limit Theorem"
   ]
  },
  {
   "cell_type": "markdown",
   "metadata": {},
   "source": [
    "As sample size increases, the standard error decreases (shape of distribution becomes skinnier)"
   ]
  }
 ],
 "metadata": {
  "kernelspec": {
   "display_name": "Python 3",
   "language": "python",
   "name": "python3"
  },
  "language_info": {
   "codemirror_mode": {
    "name": "ipython",
    "version": 3
   },
   "file_extension": ".py",
   "mimetype": "text/x-python",
   "name": "python",
   "nbconvert_exporter": "python",
   "pygments_lexer": "ipython3",
   "version": "3.6.3"
  }
 },
 "nbformat": 4,
 "nbformat_minor": 2
}
