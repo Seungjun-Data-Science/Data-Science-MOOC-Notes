{
 "cells": [
  {
   "cell_type": "markdown",
   "metadata": {},
   "source": [
    "### Testing Automatically Using doctest"
   ]
  },
  {
   "cell_type": "code",
   "execution_count": 1,
   "metadata": {
    "collapsed": true
   },
   "outputs": [],
   "source": [
    "def collect_vowels(s):\n",
    "    \"\"\" (str) -> str\n",
    "    Return the vowels (a,e,i,o and u) from s.\n",
    "    >>> collect_vowels('Happy Anniversary')\n",
    "    'aAiea'\n",
    "    >>> collect_vowels('xyz')\n",
    "    ''\n",
    "    \"\"\"\n",
    "    vowels = ''\n",
    "    for char in s:\n",
    "        if char in 'aeiouAEIOU':\n",
    "            vowels = vowels + char\n",
    "    return vowels\n",
    "\n",
    "def count_vowels(s):\n",
    "    \"\"\" (str) -> int\n",
    "    Return the number of vowels (a,e,i,o, and u) in s.\n",
    "    >>> count_vowels('Happy Anniversary!')\n",
    "    5\n",
    "    >>> count_vowels('xyz')\n",
    "    0\n",
    "    \"\"\"\n",
    "    num_vowels = 0\n",
    "    for char in s:\n",
    "        if char in 'aeiouAEIOU':\n",
    "            num_vowels = num_vowels + 1\n",
    "    return num_vowels"
   ]
  },
  {
   "cell_type": "code",
   "execution_count": 2,
   "metadata": {
    "collapsed": false
   },
   "outputs": [
    {
     "data": {
      "text/plain": [
       "'aAiea'"
      ]
     },
     "execution_count": 2,
     "metadata": {},
     "output_type": "execute_result"
    }
   ],
   "source": [
    "collect_vowels('Happy Anniversary')"
   ]
  },
  {
   "cell_type": "code",
   "execution_count": 3,
   "metadata": {
    "collapsed": false
   },
   "outputs": [
    {
     "data": {
      "text/plain": [
       "''"
      ]
     },
     "execution_count": 3,
     "metadata": {},
     "output_type": "execute_result"
    }
   ],
   "source": [
    "collect_vowels('xyz')"
   ]
  },
  {
   "cell_type": "code",
   "execution_count": 4,
   "metadata": {
    "collapsed": false
   },
   "outputs": [
    {
     "data": {
      "text/plain": [
       "5"
      ]
     },
     "execution_count": 4,
     "metadata": {},
     "output_type": "execute_result"
    }
   ],
   "source": [
    "count_vowels('Happy Anniversary')"
   ]
  },
  {
   "cell_type": "code",
   "execution_count": 5,
   "metadata": {
    "collapsed": false
   },
   "outputs": [
    {
     "data": {
      "text/plain": [
       "0"
      ]
     },
     "execution_count": 5,
     "metadata": {},
     "output_type": "execute_result"
    }
   ],
   "source": [
    "count_vowels('xyz')"
   ]
  },
  {
   "cell_type": "code",
   "execution_count": 6,
   "metadata": {
    "collapsed": false
   },
   "outputs": [
    {
     "data": {
      "text/plain": [
       "TestResults(failed=0, attempted=4)"
      ]
     },
     "execution_count": 6,
     "metadata": {},
     "output_type": "execute_result"
    }
   ],
   "source": [
    "import doctest\n",
    "doctest.testmod()"
   ]
  },
  {
   "cell_type": "code",
   "execution_count": 7,
   "metadata": {
    "collapsed": true
   },
   "outputs": [],
   "source": [
    "def get_divisors(num, possible_divisors):\n",
    "    \"\"\" (int, list of int) -> list of int\n",
    "    \n",
    "    Return a list of the values from possible_divisors\n",
    "    that are divisors of num.\n",
    "    \n",
    "    >>> get_divisors(8, [1, 2, 3])\n",
    "    [1, 2]\n",
    "    >>> get_divisors(4, [-2, 0, 2])\n",
    "    [-2, 2]\n",
    "    \"\"\"\n",
    "    \n",
    "    divisors = []\n",
    "    for item in possible_divisors:\n",
    "        if item != 0 and num % item == 0:\n",
    "            divisors.append(item)\n",
    "    return divisors"
   ]
  },
  {
   "cell_type": "markdown",
   "metadata": {},
   "source": [
    "Lazy evaluation\n",
    "\n",
    "In the first operand in an \"and\" expression is False, the \"and\" expression evaluates to False. The second operand is not evaluated"
   ]
  },
  {
   "cell_type": "code",
   "execution_count": 8,
   "metadata": {
    "collapsed": false
   },
   "outputs": [
    {
     "data": {
      "text/plain": [
       "TestResults(failed=0, attempted=6)"
      ]
     },
     "execution_count": 8,
     "metadata": {},
     "output_type": "execute_result"
    }
   ],
   "source": [
    "doctest.testmod()"
   ]
  },
  {
   "cell_type": "markdown",
   "metadata": {
    "collapsed": true
   },
   "source": [
    "### Writing a 'main' program"
   ]
  },
  {
   "cell_type": "markdown",
   "metadata": {},
   "source": [
    "##### Python's __name__ Variable"
   ]
  },
  {
   "cell_type": "raw",
   "metadata": {
    "collapsed": true
   },
   "source": [
    "If the function call print(I am ', __name__) is included in palindrome_v1, then when the module is executed, I am __main__ will be printed. However, if palindrome_v1 is imported into palindrome_v2, then executing palindrome_v2, will print I am palindrome_v1.\n",
    "\n",
    "In other words, __name__ will refer to \"__main__\" only if it is referenced inside the module being run. In all other cases, __name__ will refer a string containing the module name."
   ]
  },
  {
   "cell_type": "markdown",
   "metadata": {
    "collapsed": true
   },
   "source": [
    "###### Using if __name__ == '__main__'"
   ]
  },
  {
   "cell_type": "raw",
   "metadata": {},
   "source": [
    "We can use an if statement to check whether a module is the main one being executed (as opposed to being imported by another module), and only if it is, run certain lines of code.\n",
    "\n",
    "if __name__ == '__main__':\n",
    "    print('This line is being executed because this is the main module being executed.')\n",
    "\t\n",
    "For the code above, if variable __name__ does not refer to \"__main__\", then the code in the body of the if statement will not be executed."
   ]
  },
  {
   "cell_type": "markdown",
   "metadata": {},
   "source": [
    "### Creating Own Types"
   ]
  },
  {
   "cell_type": "code",
   "execution_count": 9,
   "metadata": {
    "collapsed": true
   },
   "outputs": [],
   "source": [
    "# inherits all the methods of str\n",
    "class WordplayStr(str):\n",
    "    \"\"\"A string that can report whether \n",
    "    it has interesting properties.\"\"\""
   ]
  },
  {
   "cell_type": "code",
   "execution_count": 10,
   "metadata": {
    "collapsed": true
   },
   "outputs": [],
   "source": [
    "s = WordplayStr('abracadabra')"
   ]
  },
  {
   "cell_type": "code",
   "execution_count": 11,
   "metadata": {
    "collapsed": false
   },
   "outputs": [
    {
     "data": {
      "text/plain": [
       "11"
      ]
     },
     "execution_count": 11,
     "metadata": {},
     "output_type": "execute_result"
    }
   ],
   "source": [
    "len(s)"
   ]
  },
  {
   "cell_type": "code",
   "execution_count": 12,
   "metadata": {
    "collapsed": false
   },
   "outputs": [
    {
     "data": {
      "text/plain": [
       "True"
      ]
     },
     "execution_count": 12,
     "metadata": {},
     "output_type": "execute_result"
    }
   ],
   "source": [
    "s.startswith('abra')"
   ]
  },
  {
   "cell_type": "code",
   "execution_count": 13,
   "metadata": {
    "collapsed": false
   },
   "outputs": [
    {
     "data": {
      "text/plain": [
       "__main__.WordplayStr"
      ]
     },
     "execution_count": 13,
     "metadata": {},
     "output_type": "execute_result"
    }
   ],
   "source": [
    "type(s)"
   ]
  },
  {
   "cell_type": "code",
   "execution_count": 14,
   "metadata": {
    "collapsed": true
   },
   "outputs": [],
   "source": [
    "# wordplay.py\n",
    "\n",
    "class WordplayStr(str):\n",
    "    \"\"\" A string that can report whether it has \n",
    "    interesting properties.\"\"\"\n",
    "    \n",
    "    def same_start_and_end(self):\n",
    "        \"\"\" (WordplayStr) -> bool\n",
    "\n",
    "        Precondition: len(self) != 0\n",
    "\n",
    "        Return whether self starts and ends with the same letter.\n",
    "\n",
    "        >>> s = WordplayStr('abracadabra')\n",
    "        >>> s.same_start_and_end()\n",
    "        True\n",
    "        >>> s = WordplayStr('canoe')\n",
    "        >>> s.same_start_and_end()\n",
    "        False\n",
    "        \"\"\"\n",
    "\n",
    "        return self[0] == self[-1]\n",
    "\n",
    "if __name__ == '__main__':\n",
    "    import doctest\n",
    "    doctest.testmod()"
   ]
  },
  {
   "cell_type": "markdown",
   "metadata": {},
   "source": [
    "### Testing Automatically Using unittest"
   ]
  },
  {
   "cell_type": "code",
   "execution_count": 15,
   "metadata": {
    "collapsed": false
   },
   "outputs": [],
   "source": [
    "def get_divisors(num, possible_divisors):\n",
    "    ''' (int, list of int) -> list of int\n",
    "\n",
    "    Return a list of the values from possible_divisors\n",
    "    that are divisors of num.\n",
    "\n",
    "    >>> get_divisors(8, [1, 2, 3])\n",
    "    [1, 2]\n",
    "    >>> get_divisors(4, [-2, 0, 2])\n",
    "    [-2, 2]\n",
    "    '''\n",
    "\n",
    "    divisors = []\n",
    "    for item in possible_divisors:\n",
    "        # if item != 0 and num % item == 0:\n",
    "        if (item != 0) and (num % item) == 0:\n",
    "            divisors.append(item)\n",
    "\n",
    "    return divisors\n",
    "\n",
    "\n",
    "if __name__ == '__main__':\n",
    "    import doctest\n",
    "    doctest.testmod()"
   ]
  },
  {
   "cell_type": "code",
   "execution_count": 16,
   "metadata": {
    "collapsed": false
   },
   "outputs": [
    {
     "name": "stderr",
     "output_type": "stream",
     "text": [
      "E\n",
      "======================================================================\n",
      "ERROR: C:\\Users\\Seungjun\\AppData\\Roaming\\jupyter\\runtime\\kernel-2e4a3475-6500-4f82-92a8-10e2051cc04e (unittest.loader._FailedTest)\n",
      "----------------------------------------------------------------------\n",
      "AttributeError: module '__main__' has no attribute 'C:\\Users\\Seungjun\\AppData\\Roaming\\jupyter\\runtime\\kernel-2e4a3475-6500-4f82-92a8-10e2051cc04e'\n",
      "\n",
      "----------------------------------------------------------------------\n",
      "Ran 1 test in 0.004s\n",
      "\n",
      "FAILED (errors=1)\n"
     ]
    }
   ],
   "source": [
    "import unittest\n",
    "import divisors\n",
    "\n",
    "class TestDivisors(unittest.TestCase):\n",
    "    \"\"\"Example unittest test methods for get_divisors.\"\"\"\n",
    "\n",
    "class TestDivisors(unittest.TestCase):\n",
    "    \"\"\"Example unittest test methods for get_divisors.\"\"\"\n",
    "\n",
    "    def test_divisors_example_1(self):\n",
    "        \"\"\"Test get_divisors with 8 and [1, 2, 3].\"\"\"\n",
    "\n",
    "        actual = divisors.get_divisors(8, [1, 2, 3])\n",
    "        expected = [1, 2]\n",
    "        self.assertEqual(expected, actual)\n",
    "\n",
    "    def test_divisors_example_2(self):\n",
    "        \"\"\"Test get_divisors with 4 and [-2, 0, 2].\"\"\"\n",
    "\n",
    "        actual = divisors.get_divisors(4, [-2, 0, 2])\n",
    "        expected = [-2, 2]\n",
    "        self.assertEqual(expected, actual)\n",
    "\n",
    "if __name__ == '__main__':\n",
    "    unittest.main(exit=False)\n"
   ]
  },
  {
   "cell_type": "markdown",
   "metadata": {},
   "source": [
    "### Choosing Test Cases"
   ]
  },
  {
   "cell_type": "code",
   "execution_count": 17,
   "metadata": {
    "collapsed": true
   },
   "outputs": [],
   "source": [
    "def count_lowercase_vowels(s):\n",
    "    \"\"\" (str) -> int\n",
    "\n",
    "    Return the number of vowels (a, e, i, o, and u) in s.\n",
    "\n",
    "    >>> count_lowercase_vowels('Happy Anniversary!')\n",
    "    4\n",
    "    >>> count_lowercase_vowels('xyz')\n",
    "    0\n",
    "    \"\"\"\n",
    "\n",
    "    num_vowels = 0\n",
    "\n",
    "    for char in s:\n",
    "        if char in 'aeiou':\n",
    "            num_vowels += 1\n",
    "    return num_vowels"
   ]
  },
  {
   "cell_type": "raw",
   "metadata": {},
   "source": [
    "We will make a table of the test cases with the following 3 columns:\n",
    "\n",
    "- value of the argument to the function\n",
    "- expected return value of the function\n",
    "- A description of the test case\n",
    "\n",
    "s\t Expected Value\t    Description\n",
    "\n",
    "''\t       0\t        empty string\n",
    "\n",
    "'a'\t       1\t       single char, vowel\n",
    "\n",
    "'b'\t       0\t        single char, non-vowel\n",
    "\n",
    "'pfffft'   0\t       several chars, no vowels\n",
    "\n",
    "'bandit'   2\t       several chars, some vowels\n",
    "\n",
    "'aeioua'   6\t       several chars, all vowels*\n",
    "\n",
    "* we included all 5 vowels to ensure each one is properly counted."
   ]
  },
  {
   "cell_type": "code",
   "execution_count": 18,
   "metadata": {
    "collapsed": true
   },
   "outputs": [],
   "source": [
    "def is_palindrome(s):\n",
    "    \"\"\" (str) -> bool\n",
    "\n",
    "    Return True if and only if s is a palindrome.\n",
    "\n",
    "    >>> is_palindrome('noon')\n",
    "    True\n",
    "    >>> is_palindrome('racecar')\n",
    "    True\n",
    "    >>> is_palindrome('dented')\n",
    "    False\n",
    "    \"\"\""
   ]
  },
  {
   "cell_type": "raw",
   "metadata": {},
   "source": [
    "Test Cases\n",
    "\n",
    "s\t      Expected Value\tDescription\n",
    "\n",
    "''\t         True\t        empty string\n",
    "'a'\t         True\t        single character\n",
    "'aa'\t     True\t        2 chars, palindrome\n",
    "'ab'\t     False\t        2 chars, not palindrome\n",
    "'aba'\t     True\t        3 chars, palindrome\n",
    "'abc'\t     False\t        3 chars, not palindrome\n",
    "'redder'\t True\t        longer, even, palindrome\n",
    "'renter'\t False\t        longer, even, not palindrome\n",
    "'racecar'\t True\t        longer, odd, palindrome\n",
    "'banana'\t False\t        longer, odd, not palindrome"
   ]
  },
  {
   "cell_type": "markdown",
   "metadata": {},
   "source": [
    "#### General Tips\n",
    "\n",
    "When choosing test cases, consider the following factors:\n",
    "\n",
    "###### Size\n",
    "\n",
    "For collections (strings, lists, tuples, dictionaries) test with:\n",
    "- empty collection\n",
    "- a collection with 1 item\n",
    "- smallest interesting case\n",
    "- collection with several items\n",
    "\n",
    "###### Dichotomies\n",
    "\n",
    "Considering the example functions above:\n",
    "\n",
    "For example...\n",
    "\n",
    "- vowels/non-vowels\n",
    "- even/odd\n",
    "- positive/negative\n",
    "- empty/full\n",
    "- etc.\n",
    "\n",
    "###### Boundaries\n",
    "\n",
    "If a function behaves differently for a value near a particular threshold (i.e. an if statement checking when a value is 3; 3 is a threshold), test at that threshold.\n",
    "\n",
    "###### Order\n",
    "\n",
    "If a function behaves differently when the values are in a different order, identify and test each of those orders. There is often overlap between the categories, so one test case may fall into more than 1 category."
   ]
  },
  {
   "cell_type": "markdown",
   "metadata": {},
   "source": [
    "### Testing Functions that Mutate Values"
   ]
  },
  {
   "cell_type": "raw",
   "metadata": {},
   "source": [
    "# duplicates.py\n",
    "\n",
    "def remove_shared(L1, L2):\n",
    "    \"\"\" (list, list) -> NoneType\n",
    "\n",
    "    Remove items from L1 that are in both L1 and L2.\n",
    "\n",
    "    >>> list_1 = [1, 2, 3, 4, 5, 6]\n",
    "    >>> list_2 = [2, 4, 5, 7]\n",
    "    >>> remove_shared(list_1, list_2)\n",
    "    >>> list_1\n",
    "    [1, 3, 6]\n",
    "    >>> list_2\n",
    "    [2, 4, 5, 7]\n",
    "    \"\"\"\n",
    "\n",
    "    for v in L2:\n",
    "        if v in L1:\n",
    "            L1.remove(v)\n",
    "            \n",
    "if __name__ == '__main__':\n",
    "    import doctest\n",
    "    doctest.testmod()"
   ]
  },
  {
   "cell_type": "raw",
   "metadata": {},
   "source": [
    "# test_duplicates.py\n",
    "\n",
    "import unittest\n",
    "import duplicates\n",
    "\n",
    "\n",
    "class TestRemoveShared(unittest.TestCase):\n",
    "    \"\"\"Tests for function duplicates.remove_shared.\"\"\"\n",
    "\n",
    "    def test_general_case(self):\n",
    "        \"\"\"\n",
    "        Test remove_shared where there are items that\n",
    "        appear in both lists, and items that appear in\n",
    "        only one or the other list.\n",
    "        \"\"\"\n",
    "\n",
    "        list_1 = [1, 2, 3, 4, 5, 6]\n",
    "        list_2 = [2, 4, 5, 7]\n",
    "        list_1_expected = [1, 3, 6]\n",
    "        list_2_expected = [2, 4, 5, 7]\n",
    "\n",
    "        duplicates.remove_shared(list_1, list_2)\n",
    "\n",
    "        self.assertEqual(list_1, list_1_expected)\n",
    "        self.assertEqual(list_2, list_2_expected)\n",
    "\n",
    "if __name__ == '__main__':\n",
    "    unittest.main(exit=False)"
   ]
  }
 ],
 "metadata": {
  "kernelspec": {
   "display_name": "Python 3",
   "language": "python",
   "name": "python3"
  },
  "language_info": {
   "codemirror_mode": {
    "name": "ipython",
    "version": 3
   },
   "file_extension": ".py",
   "mimetype": "text/x-python",
   "name": "python",
   "nbconvert_exporter": "python",
   "pygments_lexer": "ipython3",
   "version": "3.5.3"
  }
 },
 "nbformat": 4,
 "nbformat_minor": 0
}
