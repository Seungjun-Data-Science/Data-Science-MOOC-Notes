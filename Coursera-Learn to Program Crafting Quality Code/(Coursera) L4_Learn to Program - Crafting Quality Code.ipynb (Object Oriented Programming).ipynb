{
 "cells": [
  {
   "cell_type": "markdown",
   "metadata": {},
   "source": [
    "### Creating a New Type"
   ]
  },
  {
   "cell_type": "raw",
   "metadata": {},
   "source": [
    "Let's say we want to make a cash register system with python \n",
    "\n",
    "A cash register with 5 loonies ($1), 5 toonies ($2), 5 fives ($5), 5 tens ($10), and 5 twenties ($20), for a total of $190.\n",
    "\n",
    "register = CashRegister(5, 5, 5, 5, 5)\n",
    "\n",
    "print(register.get_total())\n",
    "\n",
    "- register.add(3, 'toonies')\n",
    "- register.remove(2, 'twenties')\n",
    "\n",
    "print(register.get_total())\n",
    "\n",
    "The code above creates a cash register with 5 loonies, 5 toonies, 5 fives, 5 tens, and 5 twenties, prints the total amount ($190) in the cash register, adds 3 toonies ($2 coins) to the cash register, removes 2 twenties ($20 bills) from the cash register, and prints the total amount ($156) in the cash register."
   ]
  },
  {
   "cell_type": "code",
   "execution_count": 1,
   "metadata": {
    "collapsed": false
   },
   "outputs": [],
   "source": [
    "class CashRegister:\n",
    "    \"\"\"A cash register.\"\"\"\n",
    "\n",
    "    def __init__(self, loonies, toonies, fives, tens, twenties):\n",
    "        \"\"\" (CashRegister, int, int, int, int, int) -> NoneType\n",
    "\n",
    "        A CashRegister with loonies, toonies, fives, tens, and twenties.\n",
    "        \n",
    "        >>> register = CashRegister(5, 5, 5, 5, 5)\n",
    "        >>> register.loonies\n",
    "        5\n",
    "        >>> register.toonies\n",
    "        5\n",
    "        >>> register.fives\n",
    "        5\n",
    "        >>> register.tens\n",
    "        5\n",
    "        >>> register.twenties\n",
    "        5\n",
    "        \"\"\"\n",
    "        # These variables in objects are called \"instance variables\"\n",
    "        self.loonies = loonies\n",
    "        self.toonies = toonies\n",
    "        self.fives = fives\n",
    "        self.tens = tens\n",
    "        self.twenties = twenties\n",
    "        \n",
    "register = CashRegister(5, 5, 5, 5, 5)"
   ]
  },
  {
   "cell_type": "code",
   "execution_count": 2,
   "metadata": {
    "collapsed": false
   },
   "outputs": [
    {
     "data": {
      "text/plain": [
       "__main__.CashRegister"
      ]
     },
     "execution_count": 2,
     "metadata": {},
     "output_type": "execute_result"
    }
   ],
   "source": [
    "CashRegister"
   ]
  },
  {
   "cell_type": "code",
   "execution_count": 3,
   "metadata": {
    "collapsed": false
   },
   "outputs": [
    {
     "data": {
      "text/plain": [
       "<__main__.CashRegister at 0x1a0b75cf1d0>"
      ]
     },
     "execution_count": 3,
     "metadata": {},
     "output_type": "execute_result"
    }
   ],
   "source": [
    "register"
   ]
  },
  {
   "cell_type": "code",
   "execution_count": 4,
   "metadata": {
    "collapsed": false
   },
   "outputs": [
    {
     "data": {
      "text/plain": [
       "5"
      ]
     },
     "execution_count": 4,
     "metadata": {},
     "output_type": "execute_result"
    }
   ],
   "source": [
    "register.loonies"
   ]
  },
  {
   "cell_type": "code",
   "execution_count": 5,
   "metadata": {
    "collapsed": false
   },
   "outputs": [
    {
     "data": {
      "text/plain": [
       "5"
      ]
     },
     "execution_count": 5,
     "metadata": {},
     "output_type": "execute_result"
    }
   ],
   "source": [
    "register.fives"
   ]
  },
  {
   "cell_type": "code",
   "execution_count": 6,
   "metadata": {
    "collapsed": false
   },
   "outputs": [
    {
     "data": {
      "text/plain": [
       "7"
      ]
     },
     "execution_count": 6,
     "metadata": {},
     "output_type": "execute_result"
    }
   ],
   "source": [
    "register2 = CashRegister(2, 3, 4, 6, 7)\n",
    "register2.twenties"
   ]
  },
  {
   "cell_type": "code",
   "execution_count": 7,
   "metadata": {
    "collapsed": false
   },
   "outputs": [
    {
     "data": {
      "text/plain": [
       "5"
      ]
     },
     "execution_count": 7,
     "metadata": {},
     "output_type": "execute_result"
    }
   ],
   "source": [
    "register.twenties"
   ]
  },
  {
   "cell_type": "code",
   "execution_count": 8,
   "metadata": {
    "collapsed": false
   },
   "outputs": [
    {
     "data": {
      "text/plain": [
       "1789782716880"
      ]
     },
     "execution_count": 8,
     "metadata": {},
     "output_type": "execute_result"
    }
   ],
   "source": [
    "id(register)"
   ]
  },
  {
   "cell_type": "code",
   "execution_count": 9,
   "metadata": {
    "collapsed": false
   },
   "outputs": [
    {
     "data": {
      "text/plain": [
       "1789782630296"
      ]
     },
     "execution_count": 9,
     "metadata": {},
     "output_type": "execute_result"
    }
   ],
   "source": [
    "id(register2)\n",
    "# we can see that register and register2 have been saved\n",
    "# in a different memory!"
   ]
  },
  {
   "cell_type": "code",
   "execution_count": 10,
   "metadata": {
    "collapsed": false
   },
   "outputs": [
    {
     "name": "stdout",
     "output_type": "stream",
     "text": [
      "190\n",
      "156\n"
     ]
    }
   ],
   "source": [
    "class CashRegister:\n",
    "    \"\"\"A cash register.\"\"\"\n",
    "\n",
    "    def __init__(self, loonies, toonies, fives, tens, twenties):\n",
    "        \"\"\" (CashRegister, int, int, int, int, int) -> NoneType\n",
    "\n",
    "        A CashRegister with loonies, toonies, fives, tens, and twenties.\n",
    "        \n",
    "        >>> register = CashRegister(5, 5, 5, 5, 5)\n",
    "        >>> register.loonies\n",
    "        5\n",
    "        >>> register.toonies\n",
    "        5\n",
    "        >>> register.fives\n",
    "        5\n",
    "        >>> register.tens\n",
    "        5\n",
    "        >>> register.twenties\n",
    "        5\n",
    "        \"\"\"\n",
    "        # These variables in objects are called \"instance variables\"\n",
    "        self.loonies = loonies\n",
    "        self.toonies = toonies\n",
    "        self.fives = fives\n",
    "        self.tens = tens\n",
    "        self.twenties = twenties\n",
    "        \n",
    "    def get_total(self):\n",
    "        \"\"\" (CashRegister) -> int\n",
    "\n",
    "        Return the total amount of cash in the register.\n",
    "        \n",
    "        >>> register = CashRegister(5, 5, 5, 5, 5)\n",
    "        >>> register.get_total()\n",
    "        190\n",
    "        \"\"\"\n",
    "\n",
    "        return self.loonies + self.toonies * 2 + self.fives * 5 + \\\n",
    "               self.tens * 10 + self.twenties * 20\n",
    "    \n",
    "    def add(self, count, denomination):\n",
    "        \"\"\" (CashRegister, int, str) -> NoneType\n",
    "\n",
    "        Add count items of denomination to the register.\n",
    "        denomination is one of 'loonies', 'toonies',\n",
    "        'fives', 'tens', and 'twenties'.\n",
    "        \n",
    "        >>> register = CashRegister(5, 5, 5, 5, 5)\n",
    "        >>> register.add(2, 'toonies')\n",
    "        >>> register.toonies\n",
    "        7\n",
    "        >>> register.add(1, 'tens')\n",
    "        >>> register.tens\n",
    "        6\n",
    "        \"\"\"\n",
    "\n",
    "        if denomination == 'loonies':\n",
    "            self.loonies += count\n",
    "        elif denomination == 'toonies':\n",
    "            self.toonies += count\n",
    "        elif denomination == 'fives':\n",
    "            self.fives += count\n",
    "        elif denomination == 'tens':\n",
    "            self.tens += count\n",
    "        elif denomination == 'twenties':\n",
    "            self.twenties += count\n",
    "\n",
    "\n",
    "    def remove(self, count, denomination):\n",
    "        \"\"\" (CashRegister, int, str) -> NoneType\n",
    "\n",
    "        Remove count items of denomination from the register.\n",
    "        denomination is one of 'loonies', 'toonies',\n",
    "        'fives', 'tens', and 'twenties'.\n",
    "        \n",
    "        >>> register = CashRegister(5, 5, 5, 5, 5)\n",
    "        >>> register.remove(2, 'toonies')\n",
    "        >>> register.toonies\n",
    "        3\n",
    "        >>> register.remove(1, 'tens')\n",
    "        >>> register.tens\n",
    "        4\n",
    "        \"\"\"\n",
    "\n",
    "        if denomination == 'loonies':\n",
    "            self.loonies -= count\n",
    "        elif denomination == 'toonies':\n",
    "            self.toonies -= count\n",
    "        elif denomination == 'fives':\n",
    "            self.fives -= count\n",
    "        elif denomination == 'tens':\n",
    "            self.tens -= count\n",
    "        elif denomination == 'twenties':\n",
    "            self.twenties -= count\n",
    "\n",
    "if __name__ == '__main__':\n",
    "    # A cash register with 5 loonies, 5 toonies, 5 fives, 5 tens, and 5 twenties,\n",
    "    # for a total of $190.\n",
    "    register = CashRegister(5, 5, 5, 5, 5)\n",
    "    print(register.get_total())\n",
    "\n",
    "    register.add(3, 'toonies')\n",
    "    register.remove(2, 'twenties')\n",
    "\n",
    "    print(register.get_total())"
   ]
  },
  {
   "cell_type": "markdown",
   "metadata": {},
   "source": [
    "### Plugging into Python Syntax"
   ]
  },
  {
   "cell_type": "code",
   "execution_count": 11,
   "metadata": {
    "collapsed": false
   },
   "outputs": [
    {
     "name": "stdout",
     "output_type": "stream",
     "text": [
      "Help on class object in module builtins:\n",
      "\n",
      "class object\n",
      " |  The most base type\n",
      "\n"
     ]
    }
   ],
   "source": [
    "help(object)"
   ]
  },
  {
   "cell_type": "code",
   "execution_count": 12,
   "metadata": {
    "collapsed": false,
    "scrolled": false
   },
   "outputs": [
    {
     "data": {
      "text/plain": [
       "['__class__',\n",
       " '__delattr__',\n",
       " '__dir__',\n",
       " '__doc__',\n",
       " '__eq__',\n",
       " '__format__',\n",
       " '__ge__',\n",
       " '__getattribute__',\n",
       " '__gt__',\n",
       " '__hash__',\n",
       " '__init__',\n",
       " '__le__',\n",
       " '__lt__',\n",
       " '__ne__',\n",
       " '__new__',\n",
       " '__reduce__',\n",
       " '__reduce_ex__',\n",
       " '__repr__',\n",
       " '__setattr__',\n",
       " '__sizeof__',\n",
       " '__str__',\n",
       " '__subclasshook__']"
      ]
     },
     "execution_count": 12,
     "metadata": {},
     "output_type": "execute_result"
    }
   ],
   "source": [
    "dir(object)"
   ]
  },
  {
   "cell_type": "code",
   "execution_count": 13,
   "metadata": {
    "collapsed": false
   },
   "outputs": [
    {
     "name": "stdout",
     "output_type": "stream",
     "text": [
      "Help on wrapper_descriptor:\n",
      "\n",
      "__str__(self, /)\n",
      "    Return str(self).\n",
      "\n"
     ]
    }
   ],
   "source": [
    "help(object.__str__)"
   ]
  },
  {
   "cell_type": "code",
   "execution_count": 14,
   "metadata": {
    "collapsed": false
   },
   "outputs": [
    {
     "name": "stdout",
     "output_type": "stream",
     "text": [
      "Help on wrapper_descriptor:\n",
      "\n",
      "__eq__(self, value, /)\n",
      "    Return self==value.\n",
      "\n"
     ]
    }
   ],
   "source": [
    "help(object.__eq__)"
   ]
  },
  {
   "cell_type": "code",
   "execution_count": 15,
   "metadata": {
    "collapsed": false
   },
   "outputs": [
    {
     "name": "stdout",
     "output_type": "stream",
     "text": [
      "True\n",
      "False\n"
     ]
    }
   ],
   "source": [
    "class CashRegister_eq:\n",
    "    \"\"\"A cash register.\"\"\"\n",
    "\n",
    "    def __init__(self, loonies, toonies, fives, tens, twenties):\n",
    "        \"\"\" (CashRegister, int, int, int, int, int) -> NoneType\n",
    "\n",
    "        A CashRegister with loonies, toonies, fives, tens, and twenties.\n",
    "        \"\"\"\n",
    "\n",
    "        self.loonies = loonies\n",
    "        self.toonies = toonies\n",
    "        self.fives = fives\n",
    "        self.tens = tens\n",
    "        self.twenties = twenties\n",
    "\n",
    "    # This is the important part!\n",
    "    def __eq__(self, other):\n",
    "        \"\"\" (CashRegister, CashRegister) -> bool\n",
    "\n",
    "        Return True if this CashRegister has the same amount of money as other.\n",
    "        \n",
    "        >>> reg1 = CashRegister(2, 0, 0, 0, 0)\n",
    "        >>> reg2 = CashRegister(0, 1, 0, 0, 0)\n",
    "        >>> reg1 == reg2\n",
    "        True\n",
    "        \"\"\"\n",
    "\n",
    "        return self.get_total() == other.get_total()\n",
    "\n",
    "    def get_total(self):\n",
    "        \"\"\" (CashRegister) -> int\n",
    "\n",
    "        Return the total amount of cash in the register.\n",
    "        \"\"\"\n",
    "\n",
    "        return self.loonies + self.toonies * 2 + self.fives * 5 + \\\n",
    "               self.tens * 10 + self.twenties * 20\n",
    "    \n",
    "    def add(self, count, denomination):\n",
    "        \"\"\" (CashRegister, int, str) -> NoneType\n",
    "\n",
    "        Add count items of denomination to the register.\n",
    "        denomination is one of 'loonies', 'toonies',\n",
    "        'fives', 'tens', and 'twenties'.\n",
    "        \"\"\"\n",
    "\n",
    "        if denomination == 'loonies':\n",
    "            self.loonies += count\n",
    "        elif denomination == 'toonies':\n",
    "            self.toonies += count\n",
    "        elif denomination == 'fives':\n",
    "            self.fives += count\n",
    "        elif denomination == 'tens':\n",
    "            self.tens += count\n",
    "        elif denomination == 'twenties':\n",
    "            self.twenties += count\n",
    "\n",
    "\n",
    "    def remove(self, count, denomination):\n",
    "        \"\"\" (CashRegister, int, str) -> NoneType\n",
    "\n",
    "        Remove count items of denomination from the register.\n",
    "        denomination is one of 'loonies', 'toonies',\n",
    "        'fives', 'tens', and 'twenties'.\n",
    "        \"\"\"\n",
    "\n",
    "        if denomination == 'loonies':\n",
    "            self.loonies -= count\n",
    "        elif denomination == 'toonies':\n",
    "            self.toonies -= count\n",
    "        elif denomination == 'fives':\n",
    "            self.fives -= count\n",
    "        elif denomination == 'tens':\n",
    "            self.tens -= count\n",
    "        elif denomination == 'twenties':\n",
    "            self.twenties -= count\n",
    "\n",
    "\n",
    "if __name__ == '__main__':\n",
    "\n",
    "    cr1 = CashRegister_eq(2, 0, 0, 0, 0)\n",
    "    cr2 = CashRegister_eq(0, 1, 0, 0, 0)\n",
    "    cr3 = CashRegister_eq(1, 1, 0, 0, 0)\n",
    "    print(cr1 == cr2)\n",
    "    print(cr3 == cr2)"
   ]
  },
  {
   "cell_type": "markdown",
   "metadata": {},
   "source": [
    "### Writing Special Method str"
   ]
  },
  {
   "cell_type": "code",
   "execution_count": 16,
   "metadata": {
    "collapsed": false
   },
   "outputs": [
    {
     "name": "stdout",
     "output_type": "stream",
     "text": [
      "CashRegister: $2 ($1x2, $2x0, $5x0, $10x0, $20x0)\n",
      "CashRegister: $2 ($1x0, $2x1, $5x0, $10x0, $20x0)\n",
      "True\n",
      "False\n"
     ]
    }
   ],
   "source": [
    "class CashRegister_complete:\n",
    "    \"\"\"A cash register.\"\"\"\n",
    "\n",
    "    def __init__(self, loonies, toonies, fives, tens, twenties):\n",
    "        \"\"\" (CashRegister_complete, int, int, int, int, int) -> NoneType\n",
    "\n",
    "        A CashRegister with loonies, toonies, fives, tens, and twenties.\n",
    "        \"\"\"\n",
    "\n",
    "        self.loonies = loonies\n",
    "        self.toonies = toonies\n",
    "        self.fives = fives\n",
    "        self.tens = tens\n",
    "        self.twenties = twenties\n",
    "\n",
    "    def __str__(self):\n",
    "        \"\"\" (CashRegister_complete) -> str\n",
    "\n",
    "        Return a string representation of this CashRegister.\n",
    "        \n",
    "        >>> reg1 = CashRegister(1, 2, 3, 4, 5)\n",
    "        >>> reg1.__str__()\n",
    "        CashRegister: $160 ($1x1, $2x2, $5x3, $10x4, $20x5)\n",
    "        \"\"\"\n",
    "\n",
    "        return 'CashRegister: ' + \\\n",
    "               '${} ($1x{}, $2x{}, $5x{}, $10x{}, $20x{})'.format(\n",
    "                   self.get_total(), self.loonies, self.toonies,\n",
    "                   self.fives, self.tens, self.twenties)\n",
    "\n",
    "    def __eq__(self, other):\n",
    "        \"\"\" (CashRegister_complete, CashRegister_complete) -> bool\n",
    "\n",
    "        Return True iff this CashRegister has the same amount of money as other.\n",
    "        \n",
    "        >>> reg1 = CashRegister_complete(2, 0, 0, 0, 0)\n",
    "        >>> reg2 = CashRegister_complete(0, 1, 0, 0, 0)\n",
    "        >>> reg1 == reg2\n",
    "        True\n",
    "        \"\"\"\n",
    "\n",
    "        return self.get_total() == other.get_total()\n",
    "\n",
    "    def get_total(self):\n",
    "        \"\"\" (CashRegister) -> int\n",
    "\n",
    "        Return the total amount of cash in the register.\n",
    "        \"\"\"\n",
    "\n",
    "        return self.loonies + self.toonies * 2 + self.fives * 5 + \\\n",
    "               self.tens * 10 + self.twenties * 20\n",
    "    \n",
    "    def add(self, count, denomination):\n",
    "        \"\"\" (CashRegister, int, str) -> NoneType\n",
    "\n",
    "        Add count items of denomination to the register.\n",
    "        denomination is one of 'loonies', 'toonies',\n",
    "        'fives', 'tens', and 'twenties'.\n",
    "        \"\"\"\n",
    "\n",
    "        if denomination == 'loonies':\n",
    "            self.loonies += count\n",
    "        elif denomination == 'toonies':\n",
    "            self.toonies += count\n",
    "        elif denomination == 'fives':\n",
    "            self.fives += count\n",
    "        elif denomination == 'tens':\n",
    "            self.tens += count\n",
    "        elif denomination == 'twenties':\n",
    "            self.twenties += count\n",
    "\n",
    "\n",
    "    def remove(self, count, denomination):\n",
    "        \"\"\" (CashRegister_complete, int, str) -> NoneType\n",
    "\n",
    "        Remove count items of denomination from the register.\n",
    "        denomination is one of 'loonies', 'toonies',\n",
    "        'fives', 'tens', and 'twenties'.\n",
    "        \"\"\"\n",
    "\n",
    "        if denomination == 'loonies':\n",
    "            self.loonies -= count\n",
    "        elif denomination == 'toonies':\n",
    "            self.toonies -= count\n",
    "        elif denomination == 'fives':\n",
    "            self.fives -= count\n",
    "        elif denomination == 'tens':\n",
    "            self.tens -= count\n",
    "        elif denomination == 'twenties':\n",
    "            self.twenties -= count\n",
    "\n",
    "\n",
    "if __name__ == '__main__':\n",
    "\n",
    "    cr1 = CashRegister_complete(2, 0, 0, 0, 0)\n",
    "    cr2 = CashRegister_complete(0, 1, 0, 0, 0)\n",
    "    cr3 = CashRegister_complete(1, 1, 0, 0, 0)\n",
    "    print(cr1)\n",
    "    print(cr2)\n",
    "    # If we don't use __str__, the print statements above will only print\n",
    "    # what type objects cr1 and cr2 are (__main__.CashRegister_complete object)\n",
    "    \n",
    "    print(cr1 == cr2)\n",
    "    print(cr3 == cr2)"
   ]
  },
  {
   "cell_type": "markdown",
   "metadata": {},
   "source": [
    "### Writing Classes that Interact"
   ]
  },
  {
   "cell_type": "code",
   "execution_count": 17,
   "metadata": {
    "collapsed": false
   },
   "outputs": [
    {
     "name": "stdout",
     "output_type": "stream",
     "text": [
      "Neil Young, Harvest Moon (5:03)\n",
      "Serena Ryder, Stompa (3:15)\n"
     ]
    }
   ],
   "source": [
    "class Song:\n",
    "    \"\"\"A song.\"\"\"\n",
    "\n",
    "    def __init__(self, artist, title, minutes, seconds):\n",
    "        \"\"\" (Song, str, str, int, int) -> NoneType\n",
    "\n",
    "        A Song with an artist, title, minutes, and seconds.\n",
    "\n",
    "        >>> song = Song('Neil Young', 'Harvest Moon', 5, 3)\n",
    "        >>> song.artist\n",
    "        'Neil Young'\n",
    "        >>> song.title\n",
    "        'Harvest Moon'\n",
    "        >>> song.minutes\n",
    "        5\n",
    "        >>> song.seconds\n",
    "        3\n",
    "        \"\"\"\n",
    "\n",
    "        self.title = title\n",
    "        self.artist = artist\n",
    "        self.minutes = minutes\n",
    "        self.seconds = seconds\n",
    "\n",
    "    def __str__(self):\n",
    "        \"\"\" (Song) -> str\n",
    "\n",
    "        Return a string representation of this song.\n",
    "\n",
    "        >>> song = Song('Neil Young', 'Harvest Moon', 5, 3)\n",
    "        >>> str(song)\n",
    "        'Neil Young, Harvest Moon (5:03)'\n",
    "        \"\"\"\n",
    "\n",
    "        return self.artist + ', ' + self.title + ' (' + str(self.minutes) \\\n",
    "            + ':' + str(self.seconds).rjust(2, '0') + ')'\n",
    "        # rjust : fill with the given string from the right\n",
    "        # and if there is space left, fill it will fillchar (Here it is '0')\n",
    "\n",
    "if __name__ == '__main__':\n",
    "\n",
    "    s1 = Song(\"Neil Young\", \"Harvest Moon\", 5, 3)\n",
    "    s2 = Song(\"Serena Ryder\", \"Stompa\", 3, 15)\n",
    "\n",
    "    print(s1)\n",
    "    print(s2)"
   ]
  },
  {
   "cell_type": "code",
   "execution_count": 18,
   "metadata": {
    "collapsed": false
   },
   "outputs": [
    {
     "name": "stdout",
     "output_type": "stream",
     "text": [
      "Canadian Artists (10:35)\n",
      "1. Neil Young, Harvest Moon (5:03)\n",
      "2. Serena Ryder, Stompa (3:15)\n",
      "3. Stompin' Tom Connors, The Hockey Song (2:17)\n"
     ]
    }
   ],
   "source": [
    "import song\n",
    "\n",
    "class Playlist:\n",
    "\n",
    "    def __init__(self, title):\n",
    "        \"\"\" (Playlist, str) -> NoneType\n",
    "\n",
    "        >>> playlist = Playlist('Canadian Artists')\n",
    "        >>> playlist.title\n",
    "        'Canadian Artists'\n",
    "        >>> playlist.songs\n",
    "        []\n",
    "        \"\"\"\n",
    " \n",
    "        self.title = title\n",
    "        self.songs = []\n",
    "\n",
    "    def add(self, song):\n",
    "        \"\"\" (Playlist, Song) -> NoneType\n",
    "\n",
    "        Add song to this playlist.\n",
    "\n",
    "        >>> stompa = song.Song(\"Serena Ryder\", \"Stompa\", 3, 15)\n",
    "        >>> playlist = Playlist('Canadian Artists')\n",
    "        >>> playlist.add(stompa)\n",
    "        >>> playlist.songs\n",
    "        [stompa]\n",
    "        \"\"\"\n",
    "\n",
    "        self.songs.append(song)\n",
    "\n",
    "    def get_duration(self):\n",
    "        \"\"\" (Playlist) -> (int, int)\n",
    "\n",
    "        Return the duration of this playlist as tuple of minutes and\n",
    "        seconds.\n",
    "\n",
    "        >>> playlist = Playlist('Canadian Artists')\n",
    "        >>> playlist.add(song.Song('Neil Young', 'Harvest Moon', 5, 3))\n",
    "        >>> playlist.add(song.Song('Serena Ryder', 'Stompa', 3, 15)\n",
    "        >>> playlist.duration()\n",
    "        (8, 18)\n",
    "        \"\"\"\n",
    "\n",
    "        total_minutes = 0\n",
    "        total_seconds = 0\n",
    "\n",
    "        for song in self.songs:\n",
    "            total_minutes += song.minutes\n",
    "            total_seconds += song.seconds\n",
    "\n",
    "        return (total_minutes + total_seconds // 60,  total_seconds % 60)\n",
    "\n",
    "    def __str__(self):\n",
    "        \"\"\" (Song) -> str\n",
    "\n",
    "        Return a string representation of this playlist.\n",
    "\n",
    "        >>> playlist = Playlist('Canadian Artists')\n",
    "        >>> playlist.add(song.Song('Neil Young', 'Harvest Moon', 5, 3))\n",
    "        >>> playlist.add(song.Song('Serena Ryder', 'Stompa', 3, 15)\n",
    "        '''Canadian Artists (8:18)\n",
    "        Neil Young, Harvest Moon (5:03)\n",
    "        Serena Ryder, Stompa (3:15)'''\n",
    "        \"\"\"\n",
    "\n",
    "        duration = self.get_duration()\n",
    "        minutes = str(duration[0])\n",
    "        seconds = str(duration[1]).rjust(2, '0')\n",
    "\n",
    "        result = self.title + ' (' + minutes + ':' + seconds + ')'\n",
    "\n",
    "        # Append the songs in the playlist.\n",
    "        i = 1\n",
    "        for song in self.songs:\n",
    "            result += '\\n' + str(i) + '. ' + str(song)\n",
    "            i += 1\n",
    "\n",
    "        return result\n",
    "\n",
    "\n",
    "if __name__ == '__main__':\n",
    "\n",
    "    playlist = Playlist('Canadian Artists')\n",
    "    playlist.add(song.Song(\"Neil Young\", \"Harvest Moon\", 5, 3))\n",
    "    playlist.add(song.Song(\"Serena Ryder\", \"Stompa\", 3, 15))\n",
    "    playlist.add(song.Song(\"Stompin' Tom Connors\", \"The Hockey Song\", 2, 17))\n",
    "\n",
    "    print(playlist)"
   ]
  }
 ],
 "metadata": {
  "kernelspec": {
   "display_name": "Python 3",
   "language": "python",
   "name": "python3"
  },
  "language_info": {
   "codemirror_mode": {
    "name": "ipython",
    "version": 3
   },
   "file_extension": ".py",
   "mimetype": "text/x-python",
   "name": "python",
   "nbconvert_exporter": "python",
   "pygments_lexer": "ipython3",
   "version": "3.5.3"
  }
 },
 "nbformat": 4,
 "nbformat_minor": 0
}
