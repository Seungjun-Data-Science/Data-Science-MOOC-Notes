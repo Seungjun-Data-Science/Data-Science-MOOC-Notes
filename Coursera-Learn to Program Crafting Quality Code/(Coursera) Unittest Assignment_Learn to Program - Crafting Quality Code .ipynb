{
 "cells": [
  {
   "cell_type": "markdown",
   "metadata": {},
   "source": [
    "#### Unittest Assignment\n",
    "\n",
    "The following are three functions with starting code. Finish the function and fill the docstring with some examples of your own. Lastly, run unittests on all three of the functions on seperate files"
   ]
  },
  {
   "cell_type": "code",
   "execution_count": 5,
   "metadata": {
    "collapsed": false
   },
   "outputs": [],
   "source": [
    "def num_buses(n):\n",
    "    \"\"\" (int) -> int\n",
    "\n",
    "    Precondition: n >= 0\n",
    "\n",
    "    Return the minimum number of buses required to transport n people.\n",
    "    Each bus can hold 50 people.\n",
    "    \"\"\""
   ]
  },
  {
   "cell_type": "code",
   "execution_count": 6,
   "metadata": {
    "collapsed": false
   },
   "outputs": [],
   "source": [
    "def stock_price_summary(price_changes):\n",
    "    \"\"\" (list of number) -> (number, number) tuple\n",
    "\n",
    "    price_changes contains a list of stock price changes. Return a 2-item\n",
    "    tuple where the first item is the sum of the gains in price_changes and\n",
    "    the second is the sum of the losses in price_changes.\n",
    "    \"\"\""
   ]
  },
  {
   "cell_type": "code",
   "execution_count": 7,
   "metadata": {
    "collapsed": false
   },
   "outputs": [],
   "source": [
    "def swap_k(L, k):\n",
    "    \"\"\" (list, int) -> NoneType\n",
    "\n",
    "    Precondtion: 0 <= k <= len(L) // 2\n",
    "\n",
    "    Swap the first k items of L with the last k items of L.\n",
    "    \"\"\""
   ]
  },
  {
   "cell_type": "markdown",
   "metadata": {},
   "source": [
    "#### Finishing the function"
   ]
  },
  {
   "cell_type": "code",
   "execution_count": 9,
   "metadata": {
    "collapsed": false
   },
   "outputs": [],
   "source": [
    "# a1.py\n",
    "\n",
    "def num_buses(n):\n",
    "    \"\"\" (int) -> int\n",
    "\n",
    "    Precondition: n >= 0\n",
    "\n",
    "    Return the minimum number of buses required to transport n people.\n",
    "    Each bus can hold 50 people.\n",
    "\n",
    "    >>> num_buses(75)\n",
    "    1\n",
    "    >>> num_buses(150)\n",
    "    3\n",
    "    >>> num_buses(235)\n",
    "    4\n",
    "    >>> num_buses(-3)\n",
    "    0\n",
    "    >>>\n",
    "    \"\"\"\n",
    "    if n >= 0:\n",
    "        return n // 50\n",
    "    return 0\n",
    "\n",
    "def stock_price_summary(price_changes):\n",
    "    \"\"\" (list of number) -> (number, number) tuple\n",
    "\n",
    "    price_changes contains a list of stock price changes. Return a 2-item\n",
    "    tuple where the first item is the sum of the gains in price_changes and\n",
    "    the second is the sum of the losses in price_changes.\n",
    "\n",
    "    >>> stock_price_summary([0.01, 0.03, -0.02, -0.14, 0, 0, 0.10, -0.01])\n",
    "    (0.14, -0.17)\n",
    "    >>> stock_price_summary([-0.3, -0.23, 0.5, 0.02, -0.12, 0, 0.47])\n",
    "    (0.99,-0.05)\n",
    "    \"\"\"\n",
    "    price_chang_gain = []\n",
    "    price_chang_loss = []\n",
    "\n",
    "    for i in price_changes:\n",
    "        if i >= 0:\n",
    "            price_chang_gain.append(i)\n",
    "        elif i < 0:\n",
    "            price_chang_loss.append(i)\n",
    "    return (sum(price_chang_gain), sum(price_chang_loss))\n",
    "            \n",
    "\n",
    "def swap_k(L, k):\n",
    "    \"\"\" (list, int) -> NoneType\n",
    "\n",
    "    Precondtion: 0 <= k <= len(L) // 2\n",
    "\n",
    "    Swap the first k items of L with the last k items of L.\n",
    "\n",
    "    >>> nums = [1, 2, 3, 4, 5, 6]\n",
    "    >>> swap_k(nums, 2)\n",
    "    >>> nums\n",
    "    [5, 6, 3, 4, 1, 2]\n",
    "    >>> nums = [10, 13, 7, 9]\n",
    "    >>> swap_k(nums, 2)\n",
    "    >>> nums\n",
    "    [7, 9, 10, 13]\n",
    "    \"\"\"\n",
    "    if (k > len(L) // 2) or (k < 0):\n",
    "        return L\n",
    "    \n",
    "    if (k>= 0) and (k <= len(L)//2):\n",
    "        lst = []\n",
    "        for i in L[-k:]:\n",
    "            lst.append(i)\n",
    "        for i in L[k:(len(L)-k)]:\n",
    "            lst.append(i)\n",
    "        for i in L[:k]:\n",
    "            lst.append(i)\n",
    "        return lst"
   ]
  },
  {
   "cell_type": "code",
   "execution_count": 10,
   "metadata": {
    "collapsed": false
   },
   "outputs": [
    {
     "name": "stderr",
     "output_type": "stream",
     "text": [
      "E\n",
      "======================================================================\n",
      "ERROR: C:\\Users\\Seungjun\\AppData\\Roaming\\jupyter\\runtime\\kernel-e027b7a8-5023-4c87-8068-d3f2605c9835 (unittest.loader._FailedTest)\n",
      "----------------------------------------------------------------------\n",
      "AttributeError: module '__main__' has no attribute 'C:\\Users\\Seungjun\\AppData\\Roaming\\jupyter\\runtime\\kernel-e027b7a8-5023-4c87-8068-d3f2605c9835'\n",
      "\n",
      "----------------------------------------------------------------------\n",
      "Ran 1 test in 0.002s\n",
      "\n",
      "FAILED (errors=1)\n"
     ]
    }
   ],
   "source": [
    "# test_num_buses.py\n",
    "\n",
    "import a1\n",
    "import unittest\n",
    "\n",
    "\n",
    "class TestNumBuses(unittest.TestCase):\n",
    "    \"\"\" Test class for function a1.num_buses. \"\"\"\n",
    "\n",
    "    def test_general_case(self):\n",
    "        \"\"\"\n",
    "        Test num_buses. Returns number of minimum buses required to\n",
    "        transport n people.\n",
    "        \"\"\"\n",
    "\n",
    "        actual1 = a1.num_buses(75)\n",
    "        expected1 = 1\n",
    "        \n",
    "        actual2 = a1.num_buses(150)\n",
    "        expected2 = 3\n",
    "        \n",
    "        actual3 = a1.num_buses(235)\n",
    "        expected3 = 4\n",
    "        \n",
    "        actual4 = a1.num_buses(-3)\n",
    "        expected4 = 0\n",
    "        \n",
    "        self.assertEqual(actual1, expected1)\n",
    "        self.assertEqual(actual2, expected2)\n",
    "        self.assertEqual(actual3, expected3)\n",
    "        self.assertEqual(actual4, expected4)\n",
    "\n",
    "\n",
    "if __name__ == '__main__':\n",
    "    unittest.main(exit=False)"
   ]
  },
  {
   "cell_type": "code",
   "execution_count": 11,
   "metadata": {
    "collapsed": false
   },
   "outputs": [
    {
     "name": "stderr",
     "output_type": "stream",
     "text": [
      "E\n",
      "======================================================================\n",
      "ERROR: C:\\Users\\Seungjun\\AppData\\Roaming\\jupyter\\runtime\\kernel-e027b7a8-5023-4c87-8068-d3f2605c9835 (unittest.loader._FailedTest)\n",
      "----------------------------------------------------------------------\n",
      "AttributeError: module '__main__' has no attribute 'C:\\Users\\Seungjun\\AppData\\Roaming\\jupyter\\runtime\\kernel-e027b7a8-5023-4c87-8068-d3f2605c9835'\n",
      "\n",
      "----------------------------------------------------------------------\n",
      "Ran 1 test in 0.000s\n",
      "\n",
      "FAILED (errors=1)\n"
     ]
    }
   ],
   "source": [
    "# test_stock_price_summary.py\n",
    "\n",
    "import a1\n",
    "import unittest\n",
    "\n",
    "\n",
    "class TestStockPriceSummary(unittest.TestCase):\n",
    "    \"\"\" Test class for function a1.stock_price_summary. \"\"\"\n",
    "\n",
    "    def stock_price_summary_test_1(self):\n",
    "        \"\"\"Test stock_price_summary with\n",
    "        [0.01, 0.03, -0.02, -0.14, 0, 0, 0.10, -0.01].\n",
    "        \"\"\"\n",
    "\n",
    "        actual1 = a1.stock_price_summary([0.01, 0.03, -0.02, -0.14, 0, 0, 0.10, -0.01])\n",
    "        expected1 = (0.14, -0.17)\n",
    "        self.assertEqual(expected1, actual1)\n",
    "\n",
    "    def stock_price_summary_test2(self):\n",
    "        \"\"\"Test stock_price_summary with\n",
    "        [-0.3, -0.23, 0.5, 0.02, -0.12, 0, 0.47].\"\"\"\n",
    "\n",
    "        actual2 = a1.stock_price_summary([-0.3, -0.23, 0.5, 0.02, -0.12, 0, 0.47])\n",
    "        expected2 = (0.99,-0.05)\n",
    "        self.assertEqual(expected2, actual2)\n",
    "        \n",
    "\n",
    "if __name__ == '__main__':\n",
    "    unittest.main(exit=False)\n"
   ]
  },
  {
   "cell_type": "code",
   "execution_count": 12,
   "metadata": {
    "collapsed": false
   },
   "outputs": [
    {
     "name": "stderr",
     "output_type": "stream",
     "text": [
      "E\n",
      "======================================================================\n",
      "ERROR: C:\\Users\\Seungjun\\AppData\\Roaming\\jupyter\\runtime\\kernel-e027b7a8-5023-4c87-8068-d3f2605c9835 (unittest.loader._FailedTest)\n",
      "----------------------------------------------------------------------\n",
      "AttributeError: module '__main__' has no attribute 'C:\\Users\\Seungjun\\AppData\\Roaming\\jupyter\\runtime\\kernel-e027b7a8-5023-4c87-8068-d3f2605c9835'\n",
      "\n",
      "----------------------------------------------------------------------\n",
      "Ran 1 test in 0.001s\n",
      "\n",
      "FAILED (errors=1)\n"
     ]
    }
   ],
   "source": [
    "# test_swap_k.py\n",
    "\n",
    "import a1\n",
    "import unittest\n",
    "\n",
    "\n",
    "class TestSwapK(unittest.TestCase):\n",
    "    \"\"\" Test class for function a1.swap_k. \"\"\"\n",
    "    \n",
    "\n",
    "    def test_divisors_example_1(self):\n",
    "        \"\"\"Test swap_k with [1, 2, 3, 4, 5, 6] and 2\"\"\"\n",
    "\n",
    "        actual1 = a1.swap_k([1, 2, 3, 4, 5, 6], 2)\n",
    "        expected1 = [5, 6, 3, 4, 1, 2]\n",
    "        self.assertEqual(expected1, actual1)\n",
    "\n",
    "    def test_divisors_example_2(self):\n",
    "        \"\"\"Test swap_k with [10, 13, 7, 9] and 2.\"\"\"\n",
    "\n",
    "        actual2 = a1.swap_k([10, 13, 7, 9], 2)\n",
    "        expected2 = [7, 9, 10, 13]\n",
    "        self.assertEqual(expected2, actual2)\n",
    "    \n",
    "\n",
    "if __name__ == '__main__':\n",
    "    unittest.main(exit=False)\n"
   ]
  }
 ],
 "metadata": {
  "kernelspec": {
   "display_name": "Python 3",
   "language": "python",
   "name": "python3"
  },
  "language_info": {
   "codemirror_mode": {
    "name": "ipython",
    "version": 3
   },
   "file_extension": ".py",
   "mimetype": "text/x-python",
   "name": "python",
   "nbconvert_exporter": "python",
   "pygments_lexer": "ipython3",
   "version": "3.5.3"
  }
 },
 "nbformat": 4,
 "nbformat_minor": 0
}
