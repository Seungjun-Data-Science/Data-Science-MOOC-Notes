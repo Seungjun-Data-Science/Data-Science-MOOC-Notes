{
 "cells": [
  {
   "cell_type": "markdown",
   "metadata": {},
   "source": [
    "### Analyzing Algorithms"
   ]
  },
  {
   "cell_type": "markdown",
   "metadata": {},
   "source": [
    "###### Linear Running Time Functions\n",
    "\n",
    "We evaluate the number of steps required to implement the algorithm\n",
    "\n",
    "Function 1:\n",
    "\n",
    "def print_ints(n):\n",
    "    \"\"\" (int) -> NoneType\n",
    "\n",
    "    Print the integers from 1 to n, inclusive.\n",
    "    \"\"\"\n",
    "\n",
    "    for i in range(1, n + 1):\n",
    "        print(i)\n",
    "\n",
    "Output:\n",
    "\n",
    "print_ints(10)\n",
    "\n",
    "- 1\n",
    "- 2\n",
    "- 3\n",
    "- 4\n",
    "- 5\n",
    "- 6\n",
    "- 7\n",
    "- 8\n",
    "- 9\n",
    "- 10\n",
    "\n",
    "n = 10, 10 steps (prints 10 integers)\n",
    "\n",
    "n = 20, 20 steps (prints 20 integers)\n",
    "\n",
    "n = 40, 40 steps (prints 40 integers)\n",
    "\n",
    "The number of steps is linearly proportional to n. \n",
    "\n",
    "Function 2:\n",
    "\n",
    "def print_odd_ints(n):\n",
    "    \"\"\" (int) -> NoneType\n",
    "\n",
    "    Print the odd values from 1 to n, inclusive.\n",
    "    \"\"\"\n",
    "\n",
    "    for i in range(1, n + 1, 2):\n",
    "        print(i)\n",
    "\n",
    "Output:\n",
    "\n",
    "print_odd_ints(10)\t\t\n",
    "- 1\n",
    "- 3\n",
    "- 5\n",
    "- 7\n",
    "- 9\n",
    "\n",
    "n = 10, 5 steps (prints 5 integers)\n",
    "\n",
    "n = 20, 10 steps (prints 10 integers)\n",
    "\n",
    "n = 40, 20 steps (prints 20 integers)\n",
    "\n",
    "The number of steps is linearly proportional to n. \n",
    "\n",
    "Both function 1 and 2 are linear functions: the runtime grows linearly with respect to the size of input."
   ]
  },
  {
   "cell_type": "markdown",
   "metadata": {},
   "source": [
    "### Quadratic Functions"
   ]
  },
  {
   "cell_type": "markdown",
   "metadata": {},
   "source": [
    "Function 3:\n",
    "\n",
    "def print_pairs(n):\n",
    "    \"\"\" (int) -> NoneType\n",
    "\n",
    "    Print all combinations of pairs of integers 1 to n,\n",
    "\tinclusive.\n",
    "    \"\"\"\n",
    "\n",
    "    for i in range(1, n + 1):\n",
    "        for j in range(1, n + 1):\n",
    "            print(i, j)\n",
    "\n",
    "Output 1:\n",
    "print_pairs(2)\n",
    "- 1 1\n",
    "- 1 2\n",
    "- 2 1\n",
    "- 2 2\n",
    "\n",
    "The function call above prints 4 pairs of integers.\n",
    "\n",
    "Output 2:\n",
    "print_pairs(3)\n",
    "- 1 1\n",
    "- 1 2\n",
    "- 1 3\n",
    "- 2 1\n",
    "- 2 2\n",
    "- 2 3\n",
    "- 3 1\n",
    "- 3 2\n",
    "- 3 3\n",
    "\n",
    "The function call above prints 9 pairs of integers.\n",
    "\n",
    "Output 3:\n",
    "print_pairs(4)\n",
    "- 1 1\n",
    "- 1 2\n",
    "- 1 3\n",
    "- 1 4\n",
    "- 2 1\n",
    "- 2 2\n",
    "- 2 3\n",
    "- 2 4\n",
    "- 3 1\n",
    "- 3 2\n",
    "- 3 3\n",
    "- 3 4\n",
    "- 4 1\n",
    "- 4 2\n",
    "- 4 3\n",
    "- 4 4\n",
    "\n",
    "The function call above prints 16 pairs of integers.\n",
    "\n",
    "n => n^2 steps printed out\n",
    "\n",
    "Function 3 is quadratic: the runtime grows quadratically with respect to the size of input.\n",
    "\n",
    "It is better to run an linear algorithm rather than a quadratic algorithm. More time & memory efficient"
   ]
  },
  {
   "cell_type": "markdown",
   "metadata": {},
   "source": [
    "Logarithmic Functions\n",
    "\n",
    "Function 1\n",
    "\n",
    "def print_double_step(n):\n",
    "    \"\"\" (int) -> NoneType\n",
    "\n",
    "    Print integers from 1 to n inclusive, with an initial\n",
    "    step size of 1 and each subsequent step size being \n",
    "    twice as large as it was previously.    \n",
    "    \"\"\"\n",
    "\n",
    "    i = 1\n",
    "    while i < n + 1:\n",
    "        print(i)\n",
    "        i = i * 2        \n",
    "\n",
    "In this example, the step size varies. It size of the first step is 1, the next step would be 2, then 4, 8, 16, 32...\n",
    "\n",
    "How many values would be printed for different values of n?\n",
    "\n",
    "Output 1:\n",
    "print_double_step(4)\n",
    "- 1\n",
    "- 2\n",
    "- 4\n",
    "\n",
    "n = 4, 3 integers are printed.\n",
    "\n",
    "Output 2:\n",
    "print_double_step(5)\n",
    "- 1\n",
    "- 2\n",
    "- 4\n",
    "\n",
    "n = 5, 3 integers are printed.\n",
    "\n",
    "Output 3:\n",
    "print_double_step(8)\n",
    "- 1\n",
    "- 2\n",
    "- 4\n",
    "- 8\n",
    "\n",
    "n = 8~15, 4 integers printed.\n",
    "\n",
    "n = 16, 5 integers are printed.\n",
    "\n",
    "n = 32, 6 integers are printed.\n",
    "\n",
    "n = 64, 8 integers are printed.\n",
    "\n",
    "Starting with n referring to 1, each time that n is doubled, it prints one extra line.\n",
    "\n",
    "This function is logarithmic and as the input size increases, the running time grows more slowly than for linear and quadratic functions.\n",
    "\n",
    "F(n, steps) = log(n)\n",
    "\n",
    "###### As the side of n grows, the number of steps grows more slowly than it did for  the linear and quadratic algorithms.  "
   ]
  },
  {
   "cell_type": "markdown",
   "metadata": {},
   "source": [
    "### Linear Search"
   ]
  },
  {
   "cell_type": "markdown",
   "metadata": {},
   "source": [
    "In a list named 'L',\n",
    "\n",
    "L = ['a', 'b', 'c', 'a', 'd']\n",
    "\n",
    "L.index('d')\n",
    "4\n",
    "\n",
    "When L.index('d') is executed, it first examines the item at index 0 of L, which is 'a'. Since that is not the value we are looking for, it moves on to index 1, which contains 'b'. Again, this is not what we are looking for, so it moves on. This pattern continues, until it finds 'd' at index 4. \n",
    "\n",
    "###### This way of searching is called \"linear\", which refers to items arranged in a line."
   ]
  },
  {
   "cell_type": "code",
   "execution_count": 1,
   "metadata": {
    "collapsed": true
   },
   "outputs": [],
   "source": [
    "def linear_search(L, v):\n",
    "    \"\"\" (list, object) -> int\n",
    "\n",
    "    Return the index of the first occurrence of v in L, or\n",
    "    return -1 if v is not in L.\n",
    "\n",
    "    >>> linear_search([2, 3, 5, 3], 2)\n",
    "    0\n",
    "    >>> linear_search([2, 3, 5, 3], 5)\n",
    "    2\n",
    "    >>> linear_search([2, 3, 5, 3], 8)\n",
    "    -1\n",
    "    \"\"\"\n",
    "\n",
    "    i = 0\n",
    "    # While loop only breaks when i reaches the end of the list\n",
    "    # or if some value in a certain position equals the value v\n",
    "    while i != len(L) and v != L[i]:\n",
    "        i = i + 1\n",
    "\n",
    "    if i == len(L):\n",
    "        # This means i has reached the end and haven't found v in the list\n",
    "        return -1\n",
    "    else:\n",
    "        return i"
   ]
  },
  {
   "cell_type": "markdown",
   "metadata": {},
   "source": [
    "### Binary Search"
   ]
  },
  {
   "cell_type": "markdown",
   "metadata": {
    "collapsed": true
   },
   "source": [
    "If the list is sorted, then a faster searching algorithm, called binary search, may be used\n",
    "\n",
    "items less than v    |   v\t |  items greater than v \n",
    "\n",
    "if a certain input is larger than v, than items less than v can be eliminated altogether => Faster!!"
   ]
  },
  {
   "cell_type": "code",
   "execution_count": 2,
   "metadata": {
    "collapsed": true
   },
   "outputs": [],
   "source": [
    "def binary_search(L, v):\n",
    "    \"\"\" (list, object) -> int\n",
    "\n",
    "    Precondition: L is sorted from smallest to largest, and\n",
    "    all the items in L can be compared to v.\n",
    "\n",
    "    Return the index of the first occurrence of v in L, or\n",
    "    return -1 if v is not in L.\n",
    "\n",
    "    >>> binary_search([2, 3, 5, 7], 2)\n",
    "    0\n",
    "    >>> binary_search([2, 3, 5, 5], 5)\n",
    "    2\n",
    "    >>> binary_search([2, 3, 5, 7], 8)\n",
    "    -1\n",
    "    \"\"\"\n",
    "    \n",
    "    b = 0\n",
    "    e = len(L) - 1\n",
    "\n",
    "    while b <= e:\n",
    "        m = (b + e) // 2\n",
    "        if L[m] < v:\n",
    "            b = m + 1\n",
    "        else:\n",
    "            e = m - 1\n",
    "\n",
    "    if b == len(L) or L[b] != v:\n",
    "        return -1\n",
    "    else:\n",
    "        return b"
   ]
  },
  {
   "cell_type": "markdown",
   "metadata": {},
   "source": [
    "### Comparing Search Algorithms"
   ]
  },
  {
   "cell_type": "raw",
   "metadata": {},
   "source": [
    "Linear Search\n",
    "\n",
    "\n",
    "items  iters\n",
    "1\t    1\n",
    "2\t    2\n",
    "3\t    3\n",
    "4       4\n",
    "...\n",
    "...\n",
    "..."
   ]
  },
  {
   "cell_type": "raw",
   "metadata": {},
   "source": [
    "Binary Search\n",
    "\n",
    "items  iters\n",
    "1\t    1\n",
    "2\t    2\n",
    "4\t    3\n",
    "8       4\n",
    "16      5\n",
    "32      6\n",
    "64      7\n",
    "128     8\n",
    "...\n",
    "...\n",
    "..."
   ]
  },
  {
   "cell_type": "raw",
   "metadata": {
    "collapsed": true
   },
   "source": [
    "Logarithms\n",
    "\n",
    "n    log_2(n)\n",
    "2\t    1\n",
    "4\t    2\n",
    "8\t    3\n",
    "16      4\n",
    "32      5\n",
    "64      6\n",
    "128     7    \n",
    "...\n",
    "...\n",
    "..."
   ]
  },
  {
   "cell_type": "code",
   "execution_count": 3,
   "metadata": {
    "collapsed": false
   },
   "outputs": [
    {
     "data": {
      "text/plain": [
       "1.0"
      ]
     },
     "execution_count": 3,
     "metadata": {},
     "output_type": "execute_result"
    }
   ],
   "source": [
    "import math\n",
    "\n",
    "math.log(2,2)"
   ]
  },
  {
   "cell_type": "code",
   "execution_count": 4,
   "metadata": {
    "collapsed": false
   },
   "outputs": [
    {
     "data": {
      "text/plain": [
       "2.0"
      ]
     },
     "execution_count": 4,
     "metadata": {},
     "output_type": "execute_result"
    }
   ],
   "source": [
    "math.log(4,2)"
   ]
  },
  {
   "cell_type": "code",
   "execution_count": 5,
   "metadata": {
    "collapsed": false
   },
   "outputs": [
    {
     "data": {
      "text/plain": [
       "29.897352853986263"
      ]
     },
     "execution_count": 5,
     "metadata": {},
     "output_type": "execute_result"
    }
   ],
   "source": [
    "math.log(1000000000, 2)"
   ]
  },
  {
   "cell_type": "markdown",
   "metadata": {},
   "source": [
    "- Linear search on 1 billion items: 1 billion iterations in the worse case\n",
    "- binar search on 1 billion items: Just going to take under 30 iterations of binary search with 1 billion items (example above)"
   ]
  },
  {
   "cell_type": "code",
   "execution_count": 6,
   "metadata": {
    "collapsed": true
   },
   "outputs": [],
   "source": [
    "L = list(range(10000000))"
   ]
  },
  {
   "cell_type": "code",
   "execution_count": 7,
   "metadata": {
    "collapsed": false
   },
   "outputs": [
    {
     "data": {
      "text/plain": [
       "-1"
      ]
     },
     "execution_count": 7,
     "metadata": {},
     "output_type": "execute_result"
    }
   ],
   "source": [
    "binary_search(L, 10000000)"
   ]
  },
  {
   "cell_type": "code",
   "execution_count": 8,
   "metadata": {
    "collapsed": false
   },
   "outputs": [
    {
     "data": {
      "text/plain": [
       "-1"
      ]
     },
     "execution_count": 8,
     "metadata": {},
     "output_type": "execute_result"
    }
   ],
   "source": [
    "linear_search(L, 10000000)"
   ]
  },
  {
   "cell_type": "code",
   "execution_count": 9,
   "metadata": {
    "collapsed": true
   },
   "outputs": [],
   "source": [
    "import cProfile"
   ]
  },
  {
   "cell_type": "code",
   "execution_count": 10,
   "metadata": {
    "collapsed": false
   },
   "outputs": [
    {
     "data": {
      "text/plain": [
       "7"
      ]
     },
     "execution_count": 10,
     "metadata": {},
     "output_type": "execute_result"
    }
   ],
   "source": [
    "exec('x = 3 + 4')\n",
    "\n",
    "x"
   ]
  },
  {
   "cell_type": "code",
   "execution_count": 11,
   "metadata": {
    "collapsed": false
   },
   "outputs": [
    {
     "data": {
      "text/plain": [
       "'3 + 4'"
      ]
     },
     "execution_count": 11,
     "metadata": {},
     "output_type": "execute_result"
    }
   ],
   "source": [
    "exec(\"y = '3 + 4'\")\n",
    "\n",
    "y"
   ]
  },
  {
   "cell_type": "code",
   "execution_count": 12,
   "metadata": {
    "collapsed": false
   },
   "outputs": [
    {
     "data": {
      "text/plain": [
       "10000000"
      ]
     },
     "execution_count": 12,
     "metadata": {},
     "output_type": "execute_result"
    }
   ],
   "source": [
    "len(L)"
   ]
  },
  {
   "cell_type": "code",
   "execution_count": 13,
   "metadata": {
    "collapsed": false,
    "scrolled": true
   },
   "outputs": [
    {
     "name": "stdout",
     "output_type": "stream",
     "text": [
      "         10000006 function calls in 6.309 seconds\n",
      "\n",
      "   Ordered by: standard name\n",
      "\n",
      "   ncalls  tottime  percall  cumtime  percall filename:lineno(function)\n",
      "        1    5.357    5.357    6.309    6.309 <ipython-input-1-785584f87e8a>:1(linear_search)\n",
      "        1    0.000    0.000    6.309    6.309 <string>:1(<module>)\n",
      "        1    0.000    0.000    6.309    6.309 {built-in method builtins.exec}\n",
      " 10000002    0.952    0.000    0.952    0.000 {built-in method builtins.len}\n",
      "        1    0.000    0.000    0.000    0.000 {method 'disable' of '_lsprof.Profiler' objects}\n",
      "\n",
      "\n"
     ]
    }
   ],
   "source": [
    "cProfile.run('linear_search(L, 10000000)')"
   ]
  },
  {
   "cell_type": "markdown",
   "metadata": {},
   "source": [
    "As we can see from the cProfile.run of \"linear_search\", len() takes a lot of time. So, it might be a good idea to modify the linear_search function. Saving the len(L) value to a variable and using that variable in the loop instead of using len(L) itself repeatedly in the loop will reduce the time required to run the function!"
   ]
  },
  {
   "cell_type": "code",
   "execution_count": 14,
   "metadata": {
    "collapsed": false
   },
   "outputs": [
    {
     "name": "stdout",
     "output_type": "stream",
     "text": [
      "         6 function calls in 0.000 seconds\n",
      "\n",
      "   Ordered by: standard name\n",
      "\n",
      "   ncalls  tottime  percall  cumtime  percall filename:lineno(function)\n",
      "        1    0.000    0.000    0.000    0.000 <ipython-input-2-3655e221d1ad>:1(binary_search)\n",
      "        1    0.000    0.000    0.000    0.000 <string>:1(<module>)\n",
      "        1    0.000    0.000    0.000    0.000 {built-in method builtins.exec}\n",
      "        2    0.000    0.000    0.000    0.000 {built-in method builtins.len}\n",
      "        1    0.000    0.000    0.000    0.000 {method 'disable' of '_lsprof.Profiler' objects}\n",
      "\n",
      "\n"
     ]
    }
   ],
   "source": [
    "cProfile.run('binary_search(L, 10000000)')"
   ]
  },
  {
   "cell_type": "markdown",
   "metadata": {},
   "source": [
    "### Bubble Sort Algorithm"
   ]
  },
  {
   "cell_type": "raw",
   "metadata": {},
   "source": [
    "There is a list as follows: \n",
    "L = [7, 3, 5, 2]\n",
    "\n",
    "Start at index i and work towards end of list (index e)\n",
    "\n",
    "<<1st Pass>>\n",
    "\n",
    "i\t \t \te\n",
    "7\t3\t5\t2\n",
    "Compare the item at index i with the item at i + 1. Since 7 is greater than 3, they are swapped.\n",
    "\n",
    " \ti\t \te\n",
    "3\t7\t5\t2\n",
    "Increase i by 1. Compare the item at index i with the item at i + 1. Since 7 is greater than 5, they are swapped.\n",
    "\n",
    " \t \ti\te\n",
    "3\t5\t7\t2\n",
    "Increase i by 1. Compare the item at index i with the item at i + 1. Since 7 is greater than 2, they are swapped.\n",
    "\n",
    " \t \t \te\n",
    "3\t5\t2\t7\n",
    "This pass is complete. The largest item in the list, 7, is in its correct location.\n",
    "\n",
    "<<2nd Pass>>\n",
    "\n",
    "i\t \te\t \t \n",
    "3\t5\t2\t7\t \n",
    " unsorted  sorted\n",
    "i initially refers to 0. Compare the item at index i with the item at i + 1. Since 3 is less than 5, nothing needs to be swapped.\n",
    "\n",
    " \ti\te\t \t \n",
    "3\t5\t2\t7\t \n",
    "unsorted \t sorted\n",
    "Increase i by 1. Compare the item at index i with the item at i + 1. Since 5 is greater than 2, they are swapped.\n",
    "\n",
    " \t \te\t \t \n",
    "3\t2\t5\t7\t \n",
    "unsorted \t sorted\n",
    "This pass is complete. The second largest item in the list, 5, is in its correct location.\n",
    "\n",
    "<<3rd Pass>>\n",
    "\n",
    " \ti\te\t \t \n",
    " \t3\t2\t5\t7\n",
    "  unsorted \tsorted\n",
    "i initially refers to 0. Compare the item at index i with the item at i + 1. Since 3 is greater than 2, they are swapped.\n",
    "\n",
    " \t2\t3\t5\t7\n",
    "This pass is complete. The list is now sorted!"
   ]
  },
  {
   "cell_type": "code",
   "execution_count": 15,
   "metadata": {
    "collapsed": false
   },
   "outputs": [],
   "source": [
    "def bubble_sort(L):\n",
    "    \"\"\" (list) -> NoneType\n",
    "\n",
    "    Sort the items of L from smallest to largest.\n",
    "\n",
    "    >>> L = [7, 3, 5, 2]\n",
    "    >>> bubble_sort(L)\n",
    "    >>> L\n",
    "    [2, 3, 5, 7]\n",
    "    \"\"\"\n",
    "\n",
    "    # The index of the last unsorted item.\n",
    "    end = len(L) - 1\n",
    "\n",
    "    while end != 0:\n",
    "\n",
    "        # Bubble once through the unsorted section to move the largest item\n",
    "        # to index end.\n",
    "        for i in range(end):\n",
    "            if L[i] > L[i + 1]:\n",
    "                L[i], L[i + 1] = L[i + 1], L[i]\n",
    "\n",
    "        end = end - 1"
   ]
  },
  {
   "cell_type": "markdown",
   "metadata": {},
   "source": [
    "### Selection Sort"
   ]
  },
  {
   "cell_type": "raw",
   "metadata": {},
   "source": [
    "Example\n",
    "\n",
    "<<Pass 1>>\n",
    "\n",
    "i\t \t \t \n",
    "3\t7\t2\t5\n",
    "Variable i initially refers to 0. We need to find the smallest value in the list and swap it with item at index i. The smallest value is 2, so it is swapped with the item at i. Increase i by one.\n",
    "\n",
    "2\t7\t3\t5\n",
    "\n",
    "<<Pass 2>>\n",
    "\n",
    "Note that i now refers to the index of the first item in the unsorted part of the list.\n",
    "\n",
    " \t \ti\t \t \n",
    " \t2\t7\t3\t5\n",
    "sorted \tunsorted\n",
    "\n",
    "We need to find the smallest value in the unsorted part of the list and swap it with the item at index i. The smallest value is 3, so it is swapped with the item at i. Increase i by one.\n",
    " \t \t \t \t \n",
    " \t2\t3\t7\t5\n",
    "\n",
    "<<Pass 3>>\n",
    " \t \t \ti\t \t \n",
    " \t2\t3\t7\t5\t \n",
    "   sorted \tunsorted\n",
    "\n",
    "We need to find the smallest value in the unsorted part of the list and swap it with the item at index i. The smallest value is 5, so it is swapped with the item at i. Increase i by one.\n",
    " \t \t \t \t \t \n",
    " \t2\t3\t5\t7\t \n",
    "\n",
    "<<Pass 4>>\n",
    "                i\t \n",
    "    2\t3\t5\t7\t \n",
    "       sorted \tunsorted\n",
    "\n",
    "There is only one item left in the unsorted part, therefore the list is sorted."
   ]
  },
  {
   "cell_type": "code",
   "execution_count": 16,
   "metadata": {
    "collapsed": true
   },
   "outputs": [],
   "source": [
    "# This is a helper function for selection_sort\n",
    "def get_index_of_smallest(L, i):\n",
    "    \"\"\" (list, int) -> int\n",
    "\n",
    "    Return the index of the smallest item in L[i:].\n",
    "\n",
    "    >>> get_index_of_smallest([2, 7, 3, 5], 1)\n",
    "    2\n",
    "    \"\"\"\n",
    "\n",
    "    # The index of the smallest item so far\n",
    "    index_of_smallest = i\n",
    "\n",
    "    for j in range(i + 1, len(L)):\n",
    "        if L[j] < L[index_of_smallest]:\n",
    "            index_of_smallest = j\n",
    "\n",
    "    return index_of_smallest\n",
    "\n",
    "    \n",
    "def selection_sort(L):\n",
    "    \"\"\" (list) -> NoneType\n",
    "\n",
    "    Sort the items of L from smallest to largest.\n",
    "\n",
    "    >>> L = [3, 7, 2, 5]\n",
    "    >>> selection_sort(L)\n",
    "    >>> L\n",
    "    [2, 3, 5, 7]\n",
    "    \"\"\"\n",
    "    \n",
    "    for i in range(len(L)):\n",
    "\n",
    "        # Find the index of the smallest item in L[i:] and swap that\n",
    "        # item with the item at index i.\n",
    "\n",
    "        index_of_smallest = get_index_of_smallest(L, i)\n",
    "        L[index_of_smallest], L[i] = L[i], L[index_of_smallest]"
   ]
  },
  {
   "cell_type": "markdown",
   "metadata": {},
   "source": [
    "### Insertion Sort"
   ]
  },
  {
   "cell_type": "raw",
   "metadata": {},
   "source": [
    "Example\n",
    "\n",
    "<<Pass 1>>\n",
    "    i\t \t \t \n",
    "    3\t7\t2\t5\n",
    "\n",
    "The sorted part of the list is initially empty, so we increment i, and move on to the next item. \n",
    "\n",
    "<<Pass 2>>\n",
    " \t \ti\t \t \n",
    " \t3\t7\t2\t5\n",
    "sorted \tunsorted\n",
    "\n",
    "For this pass, the item at index i is compared with the item at index i - 1. Since 7 is greater than 3, the items are in the correct order and this pass is complete.\n",
    "\n",
    "<<Pass 3>>\n",
    " \t \t \ti\t \t \n",
    " \t3\t7\t2\t5\t \n",
    "    sorted \tunsorted\n",
    "\n",
    "For this pass, the item at i, which is 2, needs to be inserted into the sorted part of the list.\n",
    "\n",
    " \t \t \ti\t \t \n",
    " \t \t \t \t5\t \n",
    "sorted \t        unsorted\n",
    "\n",
    "We know that the value 5 will stay in its current location as we only work with the value at index i and the sorted part of the list.\n",
    "\n",
    " \t \t \ti\t \t \n",
    " \t \t \t7\t5\t \n",
    "sorted \t        unsorted\n",
    "\n",
    "Since the 2 is less than 7, we move the 7 over one position to the right. \n",
    "\n",
    " \t \t \ti\t \t \n",
    " \t \t3\t7\t5\t \n",
    "sorted \t        unsorted\n",
    "\n",
    "Since the 2 is less than 3, we move the 3 over one position to the right.\n",
    "\n",
    " \t \t \ti\t \t \n",
    " \t2\t3\t7\t5\t \n",
    "       sorted \tunsorted\n",
    "\n",
    "Now, the 2 is inserted at index 0. \n",
    "\n",
    "<<Pass 4>>\n",
    " \t \t \ti\t \n",
    "2\t3\t7\t5\t \n",
    "   sorted \tunsorted\n",
    "\n",
    "For this pass, the item at i, which is 5, needs to be inserted into the sorted part of the list.\n",
    "\n",
    " \t \t \ti\t \n",
    "2\t3\t \t7\t \n",
    "\n",
    "Since the 5 is less than 7, we move the 7 over one position to the right.\n",
    "\n",
    " \t \t \ti\t \n",
    "2\t3\t5\t7\t \n",
    "\n",
    "Since 5 is greater than 3, the 5 is inserted after the 3.\n",
    "\n",
    "2\t3\t5\t7\t \n",
    "\n",
    "Our list is now sorted."
   ]
  },
  {
   "cell_type": "code",
   "execution_count": 17,
   "metadata": {
    "collapsed": true
   },
   "outputs": [],
   "source": [
    "def insert(L, i):\n",
    "    \"\"\" (list, int) -> NoneType\n",
    "\n",
    "    Precondition: L[:i] is sorted from smallest to largest.\n",
    "\n",
    "    Move L[i] to where it belongs in L[:i + 1].\n",
    "\n",
    "    >>> L = [7, 3, 5, 2]\n",
    "    >>> insert(L, 1)\n",
    "    >>> L\n",
    "    [3, 7, 5, 2]\n",
    "    \"\"\"\n",
    "\n",
    "    # The value to be inserted into the sorted part of the list.\n",
    "    value = L[i]\n",
    "\n",
    "    # Find the index, j, where the value belongs.\n",
    "    # Make room for the value by shifting.\n",
    "    j = i\n",
    "    while j != 0 and L[j - 1] > value:\n",
    "        # Shift L[j - 1] one position to the right to L[j].\n",
    "        L[j] = L[j - 1]\n",
    "        j = j - 1\n",
    "\n",
    "    # Put the value where it belongs.\n",
    "    L[j] = value    \n",
    "\n",
    "def insertion_sort(L):\n",
    "    \"\"\" (list) -> NoneType\n",
    "\n",
    "    Sort the items of L from smallest to largest.\n",
    "\n",
    "    >>> L = [7, 3, 5, 2]\n",
    "    >>> insertion_sort(L)\n",
    "    >>> L\n",
    "    [2, 3, 5, 7]\n",
    "    \"\"\"\n",
    "\n",
    "    for i in range(len(L)):\n",
    "        insert(L, i)"
   ]
  }
 ],
 "metadata": {
  "kernelspec": {
   "display_name": "Python 3",
   "language": "python",
   "name": "python3"
  },
  "language_info": {
   "codemirror_mode": {
    "name": "ipython",
    "version": 3
   },
   "file_extension": ".py",
   "mimetype": "text/x-python",
   "name": "python",
   "nbconvert_exporter": "python",
   "pygments_lexer": "ipython3",
   "version": "3.5.3"
  }
 },
 "nbformat": 4,
 "nbformat_minor": 0
}
