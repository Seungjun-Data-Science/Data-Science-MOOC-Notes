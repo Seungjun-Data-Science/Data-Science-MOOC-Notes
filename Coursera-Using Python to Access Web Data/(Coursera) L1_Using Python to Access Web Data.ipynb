{
 "cells": [
  {
   "cell_type": "markdown",
   "metadata": {},
   "source": [
    "## Regular Expressions"
   ]
  },
  {
   "cell_type": "markdown",
   "metadata": {},
   "source": [
    "#### Regular Expressions Part I"
   ]
  },
  {
   "cell_type": "markdown",
   "metadata": {},
   "source": [
    "Provides a concise and flexible means for matching strings of text, such as particular characters, words, or patterns of characters. A regular expression is written in a formal language that can be interpreted by a regular expression processor. Really clever \"wild card\" expressions for matching and parsing strings"
   ]
  },
  {
   "cell_type": "raw",
   "metadata": {},
   "source": [
    "^ Matches the \"beginning of a line\n",
    "\n",
    "$ Matches the \"end\" of the line\n",
    "\n",
    ". Matches \"any\" character\n",
    "\n",
    "\\s Matches \"whitespace\"\n",
    "\n",
    "\\S Matches any non-whitespace character\n",
    "\n",
    "* Repeats a character zero or more times\n",
    "\n",
    "*? Repeats a character zero or more times (non-greedy)\n",
    "\n",
    "+ Repeats a character one or more times\n",
    "\n",
    "+? Repeats a character one or more times (non-greedy)\n",
    "\n",
    "[aieou] Matches a single character in the listed set\n",
    "\n",
    "[^XYZ] Matches a single character not in the listed set\n",
    "\n",
    "[a-z0-9] The set of characters can include a range\n",
    "\n",
    "( Indicates where string extraction is to start\n",
    "\n",
    ") Indicates where string extration is to end\n",
    "\n",
    "[] Indicates a set of characters. ^ inside the squared bracket means \"not\""
   ]
  },
  {
   "cell_type": "markdown",
   "metadata": {},
   "source": [
    "###### re.search() \n",
    "To see if a string matches a regular expression, similar to using the find() method for strings. Returns a T/F depending on whether the string matches the regular expression\n",
    "\n",
    "###### re.findall() \n",
    "To extract portions of a string that match your regular expression similar to a combination of find() and slicing. Use this when we actually want the matching strings to be extracted."
   ]
  },
  {
   "cell_type": "markdown",
   "metadata": {},
   "source": [
    "###### Using re.search() like find()"
   ]
  },
  {
   "cell_type": "code",
   "execution_count": 1,
   "metadata": {
    "collapsed": false
   },
   "outputs": [
    {
     "name": "stdout",
     "output_type": "stream",
     "text": [
      "Once deleted, variables cannot be recovered. Proceed (y/[n])? y\n"
     ]
    }
   ],
   "source": [
    "%reset"
   ]
  },
  {
   "cell_type": "code",
   "execution_count": 4,
   "metadata": {
    "collapsed": false
   },
   "outputs": [
    {
     "name": "stdout",
     "output_type": "stream",
     "text": [
      "About a hundred extremists from the Maute group mounted attacks across Marawi.\n",
      "The military said it had rescued 120 people from a school and a hospital.\n",
      "Mujiv Hataman, governor of the Autonomous Region in Mindanao, said the terrorists freed 107 prisoners from the local prison, among them Maute rebels.\n",
      "“Anyone now holding a gun, confronting government with violence, my orders are spare no one, let us solve the problems of Mindanao once and for all,” said Duterte, who is from the island, after cutting short a visit to Russia and returning to Manila.\n"
     ]
    }
   ],
   "source": [
    "with open(r'random-text.txt') as hand:\n",
    "    for line in hand:\n",
    "        line = line.rstrip()\n",
    "        if line.find('from') >= 0:\n",
    "            print(line)\n",
    "            \n",
    "# str.find() : returns the index of the string and -1 otherwise"
   ]
  },
  {
   "cell_type": "code",
   "execution_count": 5,
   "metadata": {
    "collapsed": false,
    "scrolled": true
   },
   "outputs": [
    {
     "name": "stdout",
     "output_type": "stream",
     "text": [
      "About a hundred extremists from the Maute group mounted attacks across Marawi.\n",
      "The military said it had rescued 120 people from a school and a hospital.\n",
      "Mujiv Hataman, governor of the Autonomous Region in Mindanao, said the terrorists freed 107 prisoners from the local prison, among them Maute rebels.\n",
      "“Anyone now holding a gun, confronting government with violence, my orders are spare no one, let us solve the problems of Mindanao once and for all,” said Duterte, who is from the island, after cutting short a visit to Russia and returning to Manila.\n"
     ]
    }
   ],
   "source": [
    "import re\n",
    "\n",
    "with open(r'random-text.txt') as hand:\n",
    "    for line in hand:\n",
    "        line = line.rstrip()\n",
    "        if re.search('from', line):\n",
    "            # True or False\n",
    "            print(line)"
   ]
  },
  {
   "cell_type": "markdown",
   "metadata": {},
   "source": [
    "###### Examples of various re patterns"
   ]
  },
  {
   "cell_type": "code",
   "execution_count": 6,
   "metadata": {
    "collapsed": true
   },
   "outputs": [],
   "source": [
    "with open(r'random-text.txt') as hand:\n",
    "    for line in hand:\n",
    "        line = line.rstrip()\n",
    "        if line.startswith('from'):\n",
    "            print(line)"
   ]
  },
  {
   "cell_type": "code",
   "execution_count": 7,
   "metadata": {
    "collapsed": true
   },
   "outputs": [],
   "source": [
    "import re\n",
    "\n",
    "with open(r'random-text.txt') as hand:\n",
    "    for line in hand:\n",
    "        line = line.rstrip()\n",
    "        if re.search('^from', line):\n",
    "            print(line)"
   ]
  },
  {
   "cell_type": "markdown",
   "metadata": {},
   "source": [
    "^X.*  : Match the character X at the start of the line and the following characters can be anything(dot) that can appear many times \n",
    "\n",
    "(e.g.) X-Sieve CMU Sieve 2.3\n",
    "\n",
    "\n",
    "^X-\\S+ :  Match the character X- at the start of the line and match any non-whitespace character(\\S) one or more times(+)\n",
    "\n",
    "(e.g.) X-DSPAM-Result Innocent"
   ]
  },
  {
   "cell_type": "code",
   "execution_count": 8,
   "metadata": {
    "collapsed": false
   },
   "outputs": [
    {
     "name": "stdout",
     "output_type": "stream",
     "text": [
      "['2', '19', '42']\n"
     ]
    }
   ],
   "source": [
    "import re\n",
    "x = 'My 2 favorite numbers are 19 and 42'\n",
    "y = re.findall('[0-9]+', x)\n",
    "print(y)\n",
    "\n",
    "# [0-9]+  means one more more digits"
   ]
  },
  {
   "cell_type": "code",
   "execution_count": 9,
   "metadata": {
    "collapsed": false
   },
   "outputs": [
    {
     "name": "stdout",
     "output_type": "stream",
     "text": [
      "[]\n"
     ]
    }
   ],
   "source": [
    "z = re.findall('[AEIOU]+', x)\n",
    "print(z)\n",
    "\n",
    "# [AEIOU]+   means one or more uppercase vowels"
   ]
  },
  {
   "cell_type": "code",
   "execution_count": 16,
   "metadata": {
    "collapsed": false
   },
   "outputs": [
    {
     "name": "stdout",
     "output_type": "stream",
     "text": [
      "['From:']\n"
     ]
    }
   ],
   "source": [
    "import re\n",
    "a = 'From: Using the : character'\n",
    "b = re.findall('^F.+?:', a)\n",
    "print(b)\n",
    "\n",
    "# ^F.+?:   means match the character F at the start of the line\n",
    "# followed by one ore more characters but not greedy\n",
    "# Greedy means finding the longest pattern-matching string\n",
    "# If you add question mark(?) it means the matching is not greedy"
   ]
  },
  {
   "cell_type": "code",
   "execution_count": 17,
   "metadata": {
    "collapsed": false
   },
   "outputs": [
    {
     "name": "stdout",
     "output_type": "stream",
     "text": [
      "['stephen.marquard@uct.ac.za']\n"
     ]
    }
   ],
   "source": [
    "m = 'From stephen.marquard@uct.ac.za Sat Jan  5 09:14:16 2008'\n",
    "\n",
    "n = re.findall('\\S+@\\S+', m)\n",
    "print(n)\n",
    "\n",
    "# \\S+@\\S+   means at least one non-whitespace char followed by the @ char \n",
    "# and then again, at least one non-whitespace char (greedy)"
   ]
  },
  {
   "cell_type": "code",
   "execution_count": 18,
   "metadata": {
    "collapsed": false
   },
   "outputs": [
    {
     "name": "stdout",
     "output_type": "stream",
     "text": [
      "['stephen.marquard@uct.ac.za']\n"
     ]
    }
   ],
   "source": [
    "m = 'From stephen.marquard@uct.ac.za Sat Jan  5 09:14:16 2008'\n",
    "\n",
    "p = re.findall('^From (\\S+@\\S+)', m)\n",
    "print(p)\n",
    "\n",
    "# ^From \\S+@\\S+  means find matches that start with \"From\" and a space\n",
    "# and then string extraction occurs only within the part in parenthesis"
   ]
  },
  {
   "cell_type": "markdown",
   "metadata": {},
   "source": [
    "###### Extracting a host name - using find and string slicing (Method 1)"
   ]
  },
  {
   "cell_type": "code",
   "execution_count": 19,
   "metadata": {
    "collapsed": false
   },
   "outputs": [
    {
     "name": "stdout",
     "output_type": "stream",
     "text": [
      "21\n"
     ]
    }
   ],
   "source": [
    "m = 'From stephen.marquard@uct.ac.za Sat Jan  5 09:14:16 2008'\n",
    "atpos = m.find('@')\n",
    "print(atpos)"
   ]
  },
  {
   "cell_type": "code",
   "execution_count": 22,
   "metadata": {
    "collapsed": false
   },
   "outputs": [
    {
     "name": "stdout",
     "output_type": "stream",
     "text": [
      "31\n"
     ]
    }
   ],
   "source": [
    "sppos = m.find(' ',atpos)\n",
    "# starting from index atpos, find space(' ')\n",
    "# str.find(str we want to find, starting index, ending index)\n",
    "\n",
    "print(sppos)"
   ]
  },
  {
   "cell_type": "code",
   "execution_count": 23,
   "metadata": {
    "collapsed": false
   },
   "outputs": [
    {
     "name": "stdout",
     "output_type": "stream",
     "text": [
      "uct.ac.za\n"
     ]
    }
   ],
   "source": [
    "host = m[atpos+1 : sppos]\n",
    "print(host)"
   ]
  },
  {
   "cell_type": "markdown",
   "metadata": {},
   "source": [
    "###### Extracting a host name - using find and string slicing (Method 2)"
   ]
  },
  {
   "cell_type": "code",
   "execution_count": 24,
   "metadata": {
    "collapsed": false
   },
   "outputs": [
    {
     "name": "stdout",
     "output_type": "stream",
     "text": [
      "uct.ac.za\n"
     ]
    }
   ],
   "source": [
    "m = 'From stephen.marquard@uct.ac.za Sat Jan  5 09:14:16 2008'\n",
    "words = m.split() # splitting by space\n",
    "email = words[1] # choosing the second split element\n",
    "pieces = email.split('@') # splitting the split element above by @\n",
    "print(pieces[1])"
   ]
  },
  {
   "cell_type": "markdown",
   "metadata": {},
   "source": [
    "###### Extracting a host name - using find and string slicing (Method 3)"
   ]
  },
  {
   "cell_type": "code",
   "execution_count": 26,
   "metadata": {
    "collapsed": false
   },
   "outputs": [
    {
     "name": "stdout",
     "output_type": "stream",
     "text": [
      "['uct.ac.za']\n"
     ]
    }
   ],
   "source": [
    "import re\n",
    "\n",
    "m = 'From stephen.marquard@uct.ac.za Sat Jan  5 09:14:16 2008'\n",
    "r = re.findall('@([^ ]*)', m)\n",
    "\n",
    "print(r)\n",
    "# @([^ ]*)  means look through the string until you find an @ sign\n",
    "# and then match many of(*) non-blank characters([^ ])"
   ]
  },
  {
   "cell_type": "markdown",
   "metadata": {},
   "source": [
    "###### Extracting a host name - using find and string slicing (Method 4)"
   ]
  },
  {
   "cell_type": "code",
   "execution_count": 29,
   "metadata": {
    "collapsed": false
   },
   "outputs": [
    {
     "name": "stdout",
     "output_type": "stream",
     "text": [
      "['uct.ac.za']\n"
     ]
    }
   ],
   "source": [
    "import re\n",
    "m = 'From stephen.marquard@uct.ac.za Sat Jan  5 09:14:16 2008'\n",
    "i = re.findall('^From .*@([^ ]*)', m)\n",
    "print(i)\n",
    "\n",
    "# ^From .*@([^ ]*)  means match string that starts with \"From\" \n",
    "# followed by space any number of characters until I find an @ sign\n",
    "# then extract any number of non-blank characters"
   ]
  },
  {
   "cell_type": "raw",
   "metadata": {},
   "source": [
    "import re\n",
    "\n",
    "text = open('mbox-short.txt')\n",
    "numlist = list()\n",
    "for line in text:\n",
    "    line = line.rstrip()\n",
    "    stuff = re.findall('^X-DSPAM-Confidence: ([0-9.]+)', line)\n",
    "    if len(stuff) != 1: \n",
    "        continue\n",
    "        num = float(stuff[0])\n",
    "        numlist.append(num)\n",
    "        \n",
    "print('Maximum:', max(numlist))\n",
    "\n",
    "# [0-9.]+  means at least one or more digit or period"
   ]
  },
  {
   "cell_type": "code",
   "execution_count": 32,
   "metadata": {
    "collapsed": false
   },
   "outputs": [
    {
     "name": "stdout",
     "output_type": "stream",
     "text": [
      "['$10.00']\n"
     ]
    }
   ],
   "source": [
    "import re\n",
    "c = 'We just received $10.00 for cookies.'\n",
    "d = re.findall('\\$[0-9.]+', c)\n",
    "print(d)\n",
    "\n",
    "# \\$[0-9.]+  means escaping dollar sign(so matching real dollar sign)\n",
    "# followed by at least one or more digit or period([0-9.]+)"
   ]
  }
 ],
 "metadata": {
  "kernelspec": {
   "display_name": "Python 3",
   "language": "python",
   "name": "python3"
  },
  "language_info": {
   "codemirror_mode": {
    "name": "ipython",
    "version": 3
   },
   "file_extension": ".py",
   "mimetype": "text/x-python",
   "name": "python",
   "nbconvert_exporter": "python",
   "pygments_lexer": "ipython3",
   "version": "3.5.3"
  }
 },
 "nbformat": 4,
 "nbformat_minor": 0
}
