{
 "cells": [
  {
   "cell_type": "markdown",
   "metadata": {},
   "source": [
    "### Networked Programs"
   ]
  },
  {
   "cell_type": "markdown",
   "metadata": {},
   "source": [
    "###### Transport Control Protocol (TCP)\n",
    "\n",
    "- Built on top of IP (Internet Protocol)\n",
    "- Assumes IP might lose some data : stores and retransmits data if it seems to be lost\n",
    "- Handles \"flow control\" using a transmit window\n",
    "- Provides a nice reliable pipe"
   ]
  },
  {
   "cell_type": "markdown",
   "metadata": {},
   "source": [
    "###### Sockets\n",
    "\n",
    "In internet computing, an internet \"socket\" or network socket is an endpoint of a bidirectional inter-process communication flow across an Internet Protocol-based computer network, such as the internet"
   ]
  },
  {
   "cell_type": "markdown",
   "metadata": {},
   "source": [
    "###### TCP Port Numbers\n",
    "- A port is an application-specific or process-specific software communications endpoint\n",
    "- It allows multiple networked applications to coexist on the same server\n",
    "- There a list of well-known TCP port numers"
   ]
  },
  {
   "cell_type": "markdown",
   "metadata": {},
   "source": [
    "###### Common TCP Ports\n",
    "- Telnet(23) : Login\n",
    "- SSH(22): Secure Login\n",
    "- HTTP(80)\n",
    "- HTTPS(443): Secure\n",
    "- SMTP(25): Mail\n",
    "- IMAP(143/220/993) : Mail Retrieval\n",
    "- POP(109/110) : Mail Retrieval\n",
    "- DNS(53): Nomain Name\n",
    "- FTP(21): File Transfer"
   ]
  },
  {
   "cell_type": "markdown",
   "metadata": {},
   "source": [
    "### Sockets and Applications"
   ]
  },
  {
   "cell_type": "code",
   "execution_count": 1,
   "metadata": {
    "collapsed": false
   },
   "outputs": [
    {
     "name": "stdout",
     "output_type": "stream",
     "text": [
      "Once deleted, variables cannot be recovered. Proceed (y/[n])? y\n"
     ]
    }
   ],
   "source": [
    "%reset"
   ]
  },
  {
   "cell_type": "markdown",
   "metadata": {},
   "source": [
    "###### Using \"socket\" module to make connection to a web"
   ]
  },
  {
   "cell_type": "code",
   "execution_count": 2,
   "metadata": {
    "collapsed": true
   },
   "outputs": [],
   "source": [
    "import socket\n",
    "mysock = socket.socket(socket.AF_INET, socket.SOCK_STREAM)\n",
    "mysock.connect(('www.py4inf.com', 80)) # Host and Port"
   ]
  },
  {
   "cell_type": "markdown",
   "metadata": {},
   "source": [
    "###### Application Protocol\n",
    "- Since TCP and Python give us a reliable socket, what do we want to do with the socket? What problem do we want to solve?\n",
    "- Application Protocols\n",
    "  - Mail\n",
    "  - World Wide Web"
   ]
  },
  {
   "cell_type": "markdown",
   "metadata": {},
   "source": [
    "###### HTTP - Hypertext Transport Protocol\n",
    "- The dominant Application Layer Protocol on the internet\n",
    "- Invented for the Web - to Retrieve HTML, Images, Documents etc\n",
    "- Extended to be data in addition to documents - RSS, Web Services, etc.\n",
    "- Basic Concept - Make a connection - Request a document - Retrieve the Document - Close the connection\n",
    "- HTTP is the set of rules to allow browswers to retrieve web documents from servers over the Internet"
   ]
  },
  {
   "cell_type": "markdown",
   "metadata": {},
   "source": [
    "###### What is a protocol?\n",
    "\n",
    "- Uniform Resource Locator(URL)\n",
    "\n",
    "(e.g.) http://www.dr-chuck.com/page1.htm (protocol, host, URL document)\n",
    "\n",
    "- Each time the user clicks on an anchor tag with an href= value to switch to a new page, the browser make a connection to the web server and issues a \"GET\" request - to GET the content of the page at the specified URL\n",
    "- The server returns the HTML document to the browswer, which formats and displays the document to the user"
   ]
  },
  {
   "cell_type": "markdown",
   "metadata": {},
   "source": [
    "###### Request Response Cycle\n",
    "<img src='request response cycle.JPG'>"
   ]
  },
  {
   "cell_type": "markdown",
   "metadata": {},
   "source": [
    "###### Internet Standards\n",
    "- The standards for all of the internet protocols (inner workings) are developed by an organization\n",
    "- Internet Engineering Task Force (IETF)\n",
    "- www.ietf.org\n",
    "- Standards are called \"RFCs\" - \"request for comments\""
   ]
  },
  {
   "cell_type": "markdown",
   "metadata": {},
   "source": [
    "###### Making an HTTP Request\n",
    "- connect to the server like www.dr-chuck.com\n",
    "- request a document (or the default document)\n",
    "  - GET https://www.dr-chuck.com/page1.htm\n",
    "  - GET https://www.mlive.com/ann-arbor\n",
    "  - GET http://www.facebook.com"
   ]
  },
  {
   "cell_type": "markdown",
   "metadata": {},
   "source": [
    "<img src ='socket-webserv.PNG'>"
   ]
  },
  {
   "cell_type": "code",
   "execution_count": 3,
   "metadata": {
    "collapsed": false
   },
   "outputs": [
    {
     "name": "stdout",
     "output_type": "stream",
     "text": [
      "HTTP/1.1 200 OK\r\n",
      "Date: Sun, 28 May 2017 11:49:48 GMT\r\n",
      "Server: Apache/2.4.7 (Ubuntu)\r\n",
      "Last-Modified: Sat, 13 May 2017 11:22:22 GMT\r\n",
      "ETag: \"a7-54f6609245537\"\r\n",
      "Accept-Ranges: bytes\r\n",
      "Content-Length: 167\r\n",
      "Cache-Control: max-age=0, no-cache, no-store, must-revalidate\r\n",
      "Pragma: no-cache\r\n",
      "Expires: Wed, 11 Jan 1984 05:00:00 GMT\r\n",
      "Connection: close\r\n",
      "Content-Type: text/plain\r\n",
      "\r\n",
      "But soft what light through yonder window breaks\n",
      "It is the east and Juliet is the sun\n",
      "Arise fair sun and kill the envious moon\n",
      "Who is already si\n",
      "ck and pale with grief\n",
      "\n"
     ]
    }
   ],
   "source": [
    "import socket\n",
    "mysock = socket.socket(socket.AF_INET, socket.SOCK_STREAM)\n",
    "mysock.connect(('data.pr4e.org', 80))\n",
    "\n",
    "mysock.send(b'GET http://data.pr4e.org/romeo.txt HTTP/1.0\\n\\n')\n",
    "    \n",
    "while True:\n",
    "    data = mysock.recv(512)\n",
    "    if ( len(data) < 1 ) :\n",
    "        break\n",
    "    print(data.decode())\n",
    "\n",
    "mysock.close()"
   ]
  },
  {
   "cell_type": "markdown",
   "metadata": {
    "collapsed": true
   },
   "source": [
    "###### Make HTTP Easier with \"urllib\""
   ]
  },
  {
   "cell_type": "code",
   "execution_count": 7,
   "metadata": {
    "collapsed": false
   },
   "outputs": [
    {
     "name": "stdout",
     "output_type": "stream",
     "text": [
      "But soft what light through yonder window breaks\n",
      "It is the east and Juliet is the sun\n",
      "Arise fair sun and kill the envious moon\n",
      "Who is already sick and pale with grief\n"
     ]
    }
   ],
   "source": [
    "from urllib import request\n",
    "fhand = urllib.request.urlopen('http://data.pr4e.org/romeo.txt')\n",
    "\n",
    "for line in fhand:\n",
    "    print(line.strip().decode())"
   ]
  },
  {
   "cell_type": "code",
   "execution_count": 8,
   "metadata": {
    "collapsed": false
   },
   "outputs": [
    {
     "name": "stdout",
     "output_type": "stream",
     "text": [
      "{'It': 1, 'Juliet': 1, 'window': 1, 'sick': 1, 'sun': 2, 'light': 1, 'through': 1, 'breaks': 1, 'soft': 1, 'fair': 1, 'moon': 1, 'yonder': 1, 'Arise': 1, 'envious': 1, 'the': 3, 'kill': 1, 'Who': 1, 'is': 3, 'east': 1, 'already': 1, 'grief': 1, 'what': 1, 'with': 1, 'pale': 1, 'and': 3, 'But': 1}\n"
     ]
    }
   ],
   "source": [
    "from urllib import request\n",
    "fhand = urllib.request.urlopen('http://data.pr4e.org/romeo.txt')\n",
    "\n",
    "counts = dict()\n",
    "for line in fhand:\n",
    "    words = line.split()\n",
    "    for word in words:\n",
    "        word = word.decode()\n",
    "        counts[word] = counts.get(word,0) + 1\n",
    "print(counts)"
   ]
  }
 ],
 "metadata": {
  "kernelspec": {
   "display_name": "Python 3",
   "language": "python",
   "name": "python3"
  },
  "language_info": {
   "codemirror_mode": {
    "name": "ipython",
    "version": 3
   },
   "file_extension": ".py",
   "mimetype": "text/x-python",
   "name": "python",
   "nbconvert_exporter": "python",
   "pygments_lexer": "ipython3",
   "version": "3.5.3"
  }
 },
 "nbformat": 4,
 "nbformat_minor": 0
}
