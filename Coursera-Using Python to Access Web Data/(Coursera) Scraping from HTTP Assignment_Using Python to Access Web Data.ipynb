{
 "cells": [
  {
   "cell_type": "markdown",
   "metadata": {},
   "source": [
    "##### Assignment 1\n",
    "\n",
    "Read the HTML from the data files below, and parse the data, extracting numbers and compute the sum of the numbers in the file.\n",
    "\n",
    "We provide two files for this assignment. One is a sample file where we give you the sum for your testing and the other is the actual data you need to process for the assignment.\n",
    "\n",
    "Sample data: http://python-data.dr-chuck.net/comments_42.html (Sum=2553)\n",
    "\n",
    "Actual data: http://python-data.dr-chuck.net/comments_360102.html (Sum ends with 3)"
   ]
  },
  {
   "cell_type": "markdown",
   "metadata": {},
   "source": [
    "###### Personal Tips\n",
    "\n",
    "- find_all object.contents[index]\n",
    "  - get content in between the < > and <\\ >\n",
    "\n",
    "- find_all object.get('attribute name')\n",
    "  - get all the things that are next to the specified 'attribute name='\n",
    "\n",
    "- find_all object.attrs\n",
    "  - get all the attribute pairs. e.g. class=[\"comments\"]"
   ]
  },
  {
   "cell_type": "code",
   "execution_count": 1,
   "metadata": {
    "collapsed": false
   },
   "outputs": [
    {
     "name": "stdout",
     "output_type": "stream",
     "text": [
      "2553\n"
     ]
    }
   ],
   "source": [
    "# sample testing\n",
    "\n",
    "from urllib import request\n",
    "from bs4 import *\n",
    "\n",
    "url_one = 'http://python-data.dr-chuck.net/comments_42.html'\n",
    "\n",
    "html_one= request.urlopen(url_one).read()\n",
    "soup_one= BeautifulSoup(html_one, 'html.parser')\n",
    "\n",
    "tags_one= soup_one.find_all('span')\n",
    "\n",
    "num_sum = 0\n",
    "for tag in tags_one:\n",
    "    num = int(tag.contents[0])\n",
    "    num_sum += num\n",
    "print(num_sum)"
   ]
  },
  {
   "cell_type": "code",
   "execution_count": 2,
   "metadata": {
    "collapsed": false
   },
   "outputs": [
    {
     "name": "stdout",
     "output_type": "stream",
     "text": [
      "2403\n"
     ]
    }
   ],
   "source": [
    "# actual testing\n",
    "\n",
    "from urllib import request\n",
    "from bs4 import *\n",
    "\n",
    "url_two = 'http://python-data.dr-chuck.net/comments_360102.html'\n",
    "\n",
    "html_two= request.urlopen(url_two).read()\n",
    "soup_two= BeautifulSoup(html_two, 'html.parser')\n",
    "\n",
    "tags_two= soup_two.find_all('span')\n",
    "\n",
    "num_sum_two = 0\n",
    "for tag in tags_two:\n",
    "    num_two = int(tag.contents[0])\n",
    "    num_sum_two += num_two\n",
    "print(num_sum_two)"
   ]
  },
  {
   "cell_type": "markdown",
   "metadata": {},
   "source": [
    "##### Assignment 2\n",
    "\n",
    "Read the HTML from the data files below, extract the href= values from the anchor tags, scan for a tag that is in a particular position relative to the first name in the list, follow that link and repeat the process a number of times and report the last name you find.\n",
    "\n",
    "We provide two files for this assignment. One is a sample file where we give you the name for your testing and the other is the actual data you need to process for the assignment\n",
    "\n",
    "Sample problem: Start at http://python-data.dr-chuck.net/known_by_Fikret.html \n",
    "\n",
    "Find the link at position 3 (the first name is 1). Follow that link. Repeat this process 4 times. The answer is the last name that you retrieve. Sequence of names: Fikret Montgomery Mhairade Butchi Anayah \n",
    "Last name in sequence: Anayah\n",
    "\n",
    "Actual problem: Start at: http://python-data.dr-chuck.net/known_by_Abhy.html \n",
    "\n",
    "Find the link at position 18 (the first name is 1). Follow that link. Repeat this process 7 times. The answer is the last name that you retrieve. Hint: The first character of the name of the last page that you will load is: T"
   ]
  },
  {
   "cell_type": "code",
   "execution_count": 3,
   "metadata": {
    "collapsed": false
   },
   "outputs": [],
   "source": [
    "# sample testing\n",
    "\n",
    "from urllib import request\n",
    "from bs4 import *\n",
    "import re\n",
    "\n",
    "URL_one = 'http://python-data.dr-chuck.net/known_by_Fikret.html'\n",
    "\n",
    " # subject to change every time the function below is called\n",
    "\n",
    "def link_finder(url, position):\n",
    "    url_list=[]\n",
    "    html= request.urlopen(url).read()\n",
    "    soup = BeautifulSoup(html, 'html.parser')\n",
    "    tags = soup.find_all('a')\n",
    "    \n",
    "    for tag in tags:\n",
    "        url_list.append(tag.get('href'))\n",
    "    return url_list[position-1]"
   ]
  },
  {
   "cell_type": "code",
   "execution_count": 4,
   "metadata": {
    "collapsed": false
   },
   "outputs": [
    {
     "data": {
      "text/plain": [
       "'http://python-data.dr-chuck.net/known_by_Montgomery.html'"
      ]
     },
     "execution_count": 4,
     "metadata": {},
     "output_type": "execute_result"
    }
   ],
   "source": [
    "link_finder('http://python-data.dr-chuck.net/known_by_Fikret.html', 3)"
   ]
  },
  {
   "cell_type": "code",
   "execution_count": 5,
   "metadata": {
    "collapsed": false
   },
   "outputs": [
    {
     "data": {
      "text/plain": [
       "'http://python-data.dr-chuck.net/known_by_Mhairade.html'"
      ]
     },
     "execution_count": 5,
     "metadata": {},
     "output_type": "execute_result"
    }
   ],
   "source": [
    "link_finder('http://python-data.dr-chuck.net/known_by_Montgomery.html', 3)"
   ]
  },
  {
   "cell_type": "code",
   "execution_count": 6,
   "metadata": {
    "collapsed": false
   },
   "outputs": [
    {
     "data": {
      "text/plain": [
       "'http://python-data.dr-chuck.net/known_by_Butchi.html'"
      ]
     },
     "execution_count": 6,
     "metadata": {},
     "output_type": "execute_result"
    }
   ],
   "source": [
    "link_finder('http://python-data.dr-chuck.net/known_by_Mhairade.html', 3)"
   ]
  },
  {
   "cell_type": "code",
   "execution_count": 7,
   "metadata": {
    "collapsed": false
   },
   "outputs": [
    {
     "data": {
      "text/plain": [
       "'http://python-data.dr-chuck.net/known_by_Anayah.html'"
      ]
     },
     "execution_count": 7,
     "metadata": {},
     "output_type": "execute_result"
    }
   ],
   "source": [
    "link_finder('http://python-data.dr-chuck.net/known_by_Butchi.html', 3)"
   ]
  },
  {
   "cell_type": "code",
   "execution_count": 8,
   "metadata": {
    "collapsed": true
   },
   "outputs": [],
   "source": [
    "last_link_one = \\\n",
    "link_finder('http://python-data.dr-chuck.net/known_by_Butchi.html', 3)"
   ]
  },
  {
   "cell_type": "code",
   "execution_count": 9,
   "metadata": {
    "collapsed": false
   },
   "outputs": [
    {
     "data": {
      "text/plain": [
       "'Anayah'"
      ]
     },
     "execution_count": 9,
     "metadata": {},
     "output_type": "execute_result"
    }
   ],
   "source": [
    "re.findall('known_by_(.*).html',last_link_one)[0]"
   ]
  },
  {
   "cell_type": "code",
   "execution_count": 10,
   "metadata": {
    "collapsed": true
   },
   "outputs": [],
   "source": [
    "# actual testing\n",
    "\n",
    "URL_two = 'http://python-data.dr-chuck.net/known_by_Abhy.html'"
   ]
  },
  {
   "cell_type": "code",
   "execution_count": 11,
   "metadata": {
    "collapsed": false
   },
   "outputs": [
    {
     "data": {
      "text/plain": [
       "'http://python-data.dr-chuck.net/known_by_Joanne.html'"
      ]
     },
     "execution_count": 11,
     "metadata": {},
     "output_type": "execute_result"
    }
   ],
   "source": [
    "link_finder(URL_two, 18)"
   ]
  },
  {
   "cell_type": "code",
   "execution_count": 12,
   "metadata": {
    "collapsed": false
   },
   "outputs": [
    {
     "data": {
      "text/plain": [
       "'http://python-data.dr-chuck.net/known_by_Marcy.html'"
      ]
     },
     "execution_count": 12,
     "metadata": {},
     "output_type": "execute_result"
    }
   ],
   "source": [
    "link_finder('http://python-data.dr-chuck.net/known_by_Joanne.html', 18)"
   ]
  },
  {
   "cell_type": "code",
   "execution_count": 13,
   "metadata": {
    "collapsed": false
   },
   "outputs": [
    {
     "data": {
      "text/plain": [
       "'http://python-data.dr-chuck.net/known_by_Rhys.html'"
      ]
     },
     "execution_count": 13,
     "metadata": {},
     "output_type": "execute_result"
    }
   ],
   "source": [
    "link_finder('http://python-data.dr-chuck.net/known_by_Marcy.html', 18)"
   ]
  },
  {
   "cell_type": "code",
   "execution_count": 14,
   "metadata": {
    "collapsed": false
   },
   "outputs": [
    {
     "data": {
      "text/plain": [
       "'http://python-data.dr-chuck.net/known_by_Alexi.html'"
      ]
     },
     "execution_count": 14,
     "metadata": {},
     "output_type": "execute_result"
    }
   ],
   "source": [
    "link_finder('http://python-data.dr-chuck.net/known_by_Rhys.html', 18)"
   ]
  },
  {
   "cell_type": "code",
   "execution_count": 15,
   "metadata": {
    "collapsed": false
   },
   "outputs": [
    {
     "data": {
      "text/plain": [
       "'http://python-data.dr-chuck.net/known_by_Della.html'"
      ]
     },
     "execution_count": 15,
     "metadata": {},
     "output_type": "execute_result"
    }
   ],
   "source": [
    "link_finder('http://python-data.dr-chuck.net/known_by_Alexi.html', 18)"
   ]
  },
  {
   "cell_type": "code",
   "execution_count": 16,
   "metadata": {
    "collapsed": false
   },
   "outputs": [
    {
     "data": {
      "text/plain": [
       "'http://python-data.dr-chuck.net/known_by_Breogan.html'"
      ]
     },
     "execution_count": 16,
     "metadata": {},
     "output_type": "execute_result"
    }
   ],
   "source": [
    "link_finder('http://python-data.dr-chuck.net/known_by_Della.html', 18)"
   ]
  },
  {
   "cell_type": "code",
   "execution_count": 17,
   "metadata": {
    "collapsed": false
   },
   "outputs": [
    {
     "data": {
      "text/plain": [
       "'http://python-data.dr-chuck.net/known_by_Tabetha.html'"
      ]
     },
     "execution_count": 17,
     "metadata": {},
     "output_type": "execute_result"
    }
   ],
   "source": [
    "link_finder('http://python-data.dr-chuck.net/known_by_Breogan.html', 18)"
   ]
  },
  {
   "cell_type": "code",
   "execution_count": 18,
   "metadata": {
    "collapsed": true
   },
   "outputs": [],
   "source": [
    "last_link_two = \\\n",
    "link_finder('http://python-data.dr-chuck.net/known_by_Breogan.html', 18)"
   ]
  },
  {
   "cell_type": "code",
   "execution_count": 19,
   "metadata": {
    "collapsed": false
   },
   "outputs": [
    {
     "data": {
      "text/plain": [
       "'Tabetha'"
      ]
     },
     "execution_count": 19,
     "metadata": {},
     "output_type": "execute_result"
    }
   ],
   "source": [
    "re.findall('known_by_(.*).html',last_link_two)[0]"
   ]
  }
 ],
 "metadata": {
  "kernelspec": {
   "display_name": "Python 3",
   "language": "python",
   "name": "python3"
  },
  "language_info": {
   "codemirror_mode": {
    "name": "ipython",
    "version": 3
   },
   "file_extension": ".py",
   "mimetype": "text/x-python",
   "name": "python",
   "nbconvert_exporter": "python",
   "pygments_lexer": "ipython3",
   "version": "3.5.3"
  }
 },
 "nbformat": 4,
 "nbformat_minor": 0
}
