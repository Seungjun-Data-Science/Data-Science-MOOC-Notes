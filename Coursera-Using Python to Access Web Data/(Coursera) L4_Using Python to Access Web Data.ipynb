{
 "cells": [
  {
   "cell_type": "markdown",
   "metadata": {},
   "source": [
    "###### Data on the Web\n",
    "\n",
    "- With the HTTP Request/Response well understood and well supported, there was a natural move toward exchanging data betwen programs using these protocols\n",
    "- We needed to come up with an agreed way to represent data going between applications and across networks\n",
    "- There are two commonly used formats: XML and JSON"
   ]
  },
  {
   "cell_type": "markdown",
   "metadata": {},
   "source": [
    "###### Wire Format\n",
    "\n",
    "Python => Serialize => \"Wire Format\"(XML, JSON) => De-Serialize => Java"
   ]
  },
  {
   "cell_type": "markdown",
   "metadata": {},
   "source": [
    "###### eXtensible Markup Language\n",
    "\n",
    "Primary purpose of XML is to help information systems share structured data. It started as a simplified subset of the Standard Generalized Markup Language(SGML) and is designed to be relatively human-legible"
   ]
  },
  {
   "cell_type": "raw",
   "metadata": {},
   "source": [
    "- Complex element : Includes other sub-tags in it\n",
    "- Simple element: just one tag with content in it\n",
    "\n",
    "(e.g.) \n",
    "<person>\n",
    " <name>Chuck</name>\n",
    " <phone type=\"intl\">\n",
    " + 1734 303 4456\n",
    " </phone>\n",
    " <email hide=\"yes\" />\n",
    "<person>\n",
    "\n",
    "- <name> : Start tag\n",
    "- </name>: End tag\n",
    "- + 1734 303 4456 : Text Content\n",
    "- type=\"intl\" & hide=\"yes\" : Attribute\n",
    "- <email /> : Self Closing Tag"
   ]
  },
  {
   "cell_type": "markdown",
   "metadata": {},
   "source": [
    "- Tags\n",
    "   - Indicate the beginning and ending of elements\n",
    "\n",
    "- Atrributes\n",
    "  - Keyword/value pairs on the opening tag of XML\n",
    "\n",
    "- Serialize / De-Serialize\n",
    "  - Convert data in one program into a common format that can be stored and/or transmitted between systems in a programming language-independent manner"
   ]
  },
  {
   "cell_type": "markdown",
   "metadata": {},
   "source": [
    "###### XML Schema Contract\n",
    "\n",
    "<img src='XML Schema Contract.JPG'>\n",
    "\n",
    "Many XML Schema Languages \n",
    "\n",
    "- Document Type Definition (DTD)\n",
    "- Standard Generalized Markup Language\n",
    "- XML Schema from W3C - (XSD)"
   ]
  },
  {
   "cell_type": "markdown",
   "metadata": {},
   "source": [
    "###### XSD XML Schema (W3C Spec)\n",
    "- World Wide Web Consortium (W3C) version\n",
    "- More commonly called XSD because the file names end in .xsd"
   ]
  },
  {
   "cell_type": "raw",
   "metadata": {},
   "source": [
    "(e.g.)\n",
    "\n",
    "<xs.complexType name=\"person\">\n",
    " <xs:sequence>\n",
    "  <xs:element name=\"lastname\" type=\"xs:string\"/>\n",
    "  <xs.element name=\"age\" type=\"xs.integer\"/>\n",
    "  <xs.element name=\"dateborn\" type=\"xs:date\"/>\n",
    " </xs.sequence>\n",
    "</xs.complexType>\n",
    "\n",
    "xs:element\n",
    "xs:sequence\n",
    "xs:complexType"
   ]
  },
  {
   "cell_type": "markdown",
   "metadata": {},
   "source": [
    "###### Parsing XML in Python"
   ]
  },
  {
   "cell_type": "code",
   "execution_count": 1,
   "metadata": {
    "collapsed": false
   },
   "outputs": [
    {
     "name": "stdout",
     "output_type": "stream",
     "text": [
      "Name: Chuck\n",
      "Attr: yes\n"
     ]
    }
   ],
   "source": [
    "import xml.etree.ElementTree as ET\n",
    "\n",
    "data = '''\n",
    "<person>\n",
    "  <name>Chuck</name>\n",
    "  <phone type=\"intl\">\n",
    "     +1 734 303 4456\n",
    "   </phone>\n",
    "   <email hide=\"yes\"/>\n",
    "</person>'''\n",
    "\n",
    "tree = ET.fromstring(data)\n",
    "\n",
    "print('Name:',tree.find('name').text) \n",
    "# find tag named \"name\"\n",
    "\n",
    "print('Attr:',tree.find('email').get('hide'))\n",
    "# find tag named \"email\" and get content of attribute \"hide\""
   ]
  },
  {
   "cell_type": "code",
   "execution_count": 2,
   "metadata": {
    "collapsed": false
   },
   "outputs": [
    {
     "name": "stdout",
     "output_type": "stream",
     "text": [
      "[<Element 'user' at 0x000002011EE9C3B8>, <Element 'user' at 0x000002011EE9C278>]\n",
      "User count: 2\n",
      "Name Chuck\n",
      "Id 001\n",
      "Attribute 2\n",
      "Name Brent\n",
      "Id 009\n",
      "Attribute 7\n"
     ]
    }
   ],
   "source": [
    "import xml.etree.ElementTree as ET\n",
    "\n",
    "input_data = '''\n",
    "<stuff>\n",
    "    <users>\n",
    "        <user x=\"2\">\n",
    "            <id>001</id>\n",
    "            <name>Chuck</name>\n",
    "        </user>\n",
    "        <user x=\"7\">\n",
    "            <id>009</id>\n",
    "            <name>Brent</name>\n",
    "            </user>\n",
    "     </users>\n",
    "</stuff>'''\n",
    "\n",
    "stuff = ET.fromstring(input_data)\n",
    "lst = stuff.findall('users/user')\n",
    "print(lst)\n",
    "print('User count:', len(lst))\n",
    "\n",
    "for item in lst:\n",
    "    print('Name', item.find('name').text)\n",
    "    print('Id', item.find('id').text)\n",
    "    print('Attribute', item.get(\"x\"))"
   ]
  }
 ],
 "metadata": {
  "kernelspec": {
   "display_name": "Python 3",
   "language": "python",
   "name": "python3"
  },
  "language_info": {
   "codemirror_mode": {
    "name": "ipython",
    "version": 3
   },
   "file_extension": ".py",
   "mimetype": "text/x-python",
   "name": "python",
   "nbconvert_exporter": "python",
   "pygments_lexer": "ipython3",
   "version": "3.5.3"
  }
 },
 "nbformat": 4,
 "nbformat_minor": 0
}
