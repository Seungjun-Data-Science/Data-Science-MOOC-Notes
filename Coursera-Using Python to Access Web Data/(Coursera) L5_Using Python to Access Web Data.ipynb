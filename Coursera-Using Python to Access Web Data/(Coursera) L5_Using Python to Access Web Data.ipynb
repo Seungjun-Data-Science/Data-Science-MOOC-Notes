{
 "cells": [
  {
   "cell_type": "markdown",
   "metadata": {},
   "source": [
    "### JavaScript Object Notation"
   ]
  },
  {
   "cell_type": "code",
   "execution_count": 1,
   "metadata": {
    "collapsed": false
   },
   "outputs": [
    {
     "name": "stdout",
     "output_type": "stream",
     "text": [
      "Name: Chuck\n",
      "Hide: yes\n"
     ]
    }
   ],
   "source": [
    "import json\n",
    "\n",
    "data = '''\n",
    "{\n",
    "  \"name\" : \"Chuck\",\n",
    "  \"phone\" : {\n",
    "    \"type\" : \"intl\",\n",
    "    \"number\" : \"+1 734 303 4456\"\n",
    "   },\n",
    "   \"email\" : {\n",
    "     \"hide\" : \"yes\"\n",
    "   }\n",
    "}'''\n",
    "\n",
    "info = json.loads(data) # it's a dictionary\n",
    "    \n",
    "print('Name:',info[\"name\"])\n",
    "print('Hide:',info[\"email\"][\"hide\"])"
   ]
  },
  {
   "cell_type": "code",
   "execution_count": 2,
   "metadata": {
    "collapsed": false
   },
   "outputs": [
    {
     "name": "stdout",
     "output_type": "stream",
     "text": [
      "User count: 2\n",
      "Name Chuck\n",
      "Id 001\n",
      "Attribute 2\n",
      "Name Chuck\n",
      "Id 009\n",
      "Attribute 7\n"
     ]
    }
   ],
   "source": [
    "import json\n",
    "\n",
    "# JSON represents data as nested \"lists\" and \"dictionaries\"\n",
    "\n",
    "input_data = '''\n",
    "[\n",
    "  { \"id\" : \"001\",\n",
    "    \"x\" : \"2\",\n",
    "    \"name\" : \"Chuck\"\n",
    "  } ,\n",
    "  { \"id\" : \"009\",\n",
    "    \"x\" : \"7\",\n",
    "    \"name\" : \"Chuck\"\n",
    "  } \n",
    "]'''\n",
    "\n",
    "info_data = json.loads(input_data)\n",
    "print('User count:', len(info_data))\n",
    "\n",
    "for item in info_data:\n",
    "    print('Name', item['name'])\n",
    "    print('Id', item['id'])\n",
    "    print('Attribute', item['x'])"
   ]
  },
  {
   "cell_type": "markdown",
   "metadata": {},
   "source": [
    "### Accessing APIs in Python"
   ]
  },
  {
   "cell_type": "markdown",
   "metadata": {},
   "source": [
    "###### Web Service Technologies\n",
    "\n",
    "SOAP - Simple Object Access Protocol (software)\n",
    "  - Remote programs/code which we use over the network\n",
    "  - Usually overly complex\n",
    "\n",
    "REST - Representational State Transfer (resource focused)\n",
    "  - Remote resources which we create, read, update and delete remotely"
   ]
  },
  {
   "cell_type": "markdown",
   "metadata": {},
   "source": [
    "###### REFERENCE\n",
    "\n",
    "- urllib.parse.urlencode(query, doseq=False, safe='', encoding=None, errors=None, quote_via=quote_plus)\n",
    "\n",
    "Convert a mapping object or a sequence of two-element tuples, which may contain str or bytes objects, to a percent-encoded ASCII text string. If the resultant string is to be used as a data for POST operation with the urlopen() function, then it should be encoded to bytes, otherwise it would result in a TypeError. The resulting string is a series of key=value pairs separated by '&' characters"
   ]
  },
  {
   "cell_type": "code",
   "execution_count": 3,
   "metadata": {
    "collapsed": false,
    "scrolled": false
   },
   "outputs": [
    {
     "name": "stdout",
     "output_type": "stream",
     "text": [
      "Enter location: 63 building\n",
      "Retrieving http://maps.googleapis.com/maps/api/geocode/json?address=63+building&sensor=false\n",
      "Retrieved 2060 characters\n",
      "{\n",
      "    \"results\": [\n",
      "        {\n",
      "            \"geometry\": {\n",
      "                \"viewport\": {\n",
      "                    \"northeast\": {\n",
      "                        \"lng\": 126.9415592802915,\n",
      "                        \"lat\": 37.52072658029149\n",
      "                    },\n",
      "                    \"southwest\": {\n",
      "                        \"lng\": 126.9388613197085,\n",
      "                        \"lat\": 37.5180286197085\n",
      "                    }\n",
      "                },\n",
      "                \"location_type\": \"APPROXIMATE\",\n",
      "                \"location\": {\n",
      "                    \"lng\": 126.9402103,\n",
      "                    \"lat\": 37.5193776\n",
      "                }\n",
      "            },\n",
      "            \"types\": [\n",
      "                \"establishment\",\n",
      "                \"point_of_interest\",\n",
      "                \"premise\"\n",
      "            ],\n",
      "            \"formatted_address\": \"50 63-ro, Yeoui-dong, Yeongdeungpo-gu, Seoul, South Korea\",\n",
      "            \"address_components\": [\n",
      "                {\n",
      "                    \"short_name\": \"50\",\n",
      "                    \"types\": [\n",
      "                        \"political\",\n",
      "                        \"premise\"\n",
      "                    ],\n",
      "                    \"long_name\": \"50\"\n",
      "                },\n",
      "                {\n",
      "                    \"short_name\": \"63-ro\",\n",
      "                    \"types\": [\n",
      "                        \"political\",\n",
      "                        \"sublocality\",\n",
      "                        \"sublocality_level_4\"\n",
      "                    ],\n",
      "                    \"long_name\": \"63-ro\"\n",
      "                },\n",
      "                {\n",
      "                    \"short_name\": \"Yeoui-dong\",\n",
      "                    \"types\": [\n",
      "                        \"political\",\n",
      "                        \"sublocality\",\n",
      "                        \"sublocality_level_2\"\n",
      "                    ],\n",
      "                    \"long_name\": \"Yeoui-dong\"\n",
      "                },\n",
      "                {\n",
      "                    \"short_name\": \"Yeongdeungpo-gu\",\n",
      "                    \"types\": [\n",
      "                        \"political\",\n",
      "                        \"sublocality\",\n",
      "                        \"sublocality_level_1\"\n",
      "                    ],\n",
      "                    \"long_name\": \"Yeongdeungpo-gu\"\n",
      "                },\n",
      "                {\n",
      "                    \"short_name\": \"Seoul\",\n",
      "                    \"types\": [\n",
      "                        \"administrative_area_level_1\",\n",
      "                        \"political\"\n",
      "                    ],\n",
      "                    \"long_name\": \"Seoul\"\n",
      "                },\n",
      "                {\n",
      "                    \"short_name\": \"KR\",\n",
      "                    \"types\": [\n",
      "                        \"country\",\n",
      "                        \"political\"\n",
      "                    ],\n",
      "                    \"long_name\": \"South Korea\"\n",
      "                },\n",
      "                {\n",
      "                    \"short_name\": \"150-763\",\n",
      "                    \"types\": [\n",
      "                        \"postal_code\"\n",
      "                    ],\n",
      "                    \"long_name\": \"150-763\"\n",
      "                }\n",
      "            ],\n",
      "            \"place_id\": \"ChIJn_UiGDyffDURWfZBRKwb5YE\"\n",
      "        }\n",
      "    ],\n",
      "    \"status\": \"OK\"\n",
      "}\n",
      "lat 37.5193776 lng 126.9402103\n",
      "50 63-ro, Yeoui-dong, Yeongdeungpo-gu, Seoul, South Korea\n",
      "Enter location: \n"
     ]
    }
   ],
   "source": [
    "from urllib import request, parse\n",
    "import json\n",
    "\n",
    "serviceurl = 'http://maps.googleapis.com/maps/api/geocode/json?'\n",
    "\n",
    "# serviceurl = 'http://python-data.dr-chuck.net/geojson?'\n",
    "\n",
    "while True:\n",
    "    address = input('Enter location: ')\n",
    "    if len(address) < 1 : break\n",
    "\n",
    "    url = serviceurl + parse.urlencode({'sensor':'false', 'address': address},)\n",
    "    print('Retrieving', url)\n",
    "    uh = request.urlopen(url)\n",
    "    data = uh.read().decode('utf-8')\n",
    "    print('Retrieved',len(data),'characters')\n",
    "\n",
    "    try: js = json.loads(str(data))\n",
    "    except: js = None\n",
    "    if 'status' not in js or js['status'] != 'OK':\n",
    "        print('==== Failure To Retrieve ====')\n",
    "        print(data)\n",
    "        continue\n",
    "\n",
    "    print(json.dumps(js, indent=4))\n",
    "\n",
    "    lat = js[\"results\"][0][\"geometry\"][\"location\"][\"lat\"]\n",
    "    lng = js[\"results\"][0][\"geometry\"][\"location\"][\"lng\"]\n",
    "    print('lat',lat,'lng',lng)\n",
    "    location = js['results'][0]['formatted_address']\n",
    "    print(location)"
   ]
  },
  {
   "cell_type": "markdown",
   "metadata": {
    "collapsed": true
   },
   "source": [
    "### API Security and Rate Limiting"
   ]
  },
  {
   "cell_type": "markdown",
   "metadata": {},
   "source": [
    "- The compute resources to run these APIs are not \"free\"\n",
    "- The data provided by these API is usually valuable\n",
    "- The data providers might limit the number of requests per day, demand an API \"key\", or even charge for usage\n",
    "- They might change the rules as things progress..."
   ]
  },
  {
   "cell_type": "raw",
   "metadata": {},
   "source": [
    "** Inside the file named \"hidden.py\"\n",
    "\n",
    "https://apps.twitter.com/\n",
    "\n",
    "def oauth() :\n",
    "    return { \"consumer_key\" : \"h7Lu...Ng\",\n",
    "        \"consumer_secret\" : \"dNKenAC3New...mmn7Q\",\n",
    "        \"token_key\" : \"10185562-eibxCp9n2...P4GEQQOSGI\",\n",
    "        \"token_secret\" : \"H0ycCFemmC4wyf1...qoIpBo\" }"
   ]
  },
  {
   "cell_type": "code",
   "execution_count": 4,
   "metadata": {
    "collapsed": false
   },
   "outputs": [],
   "source": [
    "# from urllib import request\n",
    "# import oauth\n",
    "# import hidden\n",
    "\n",
    "# def augment(url, parameters) :\n",
    "#     secrets = hidden.oauth()\n",
    "#     consumer = oauth.OAuthConsumer(secrets['consumer_key'], secrets['consumer_secret'])\n",
    "#     token = oauth.OAuthToken(secrets['token_key'],secrets['token_secret'])\n",
    "\n",
    "#     oauth_request = oauth2.OAuthRequest.from_consumer_and_token(consumer, \n",
    "#         token=token, http_method='GET', http_url=url, parameters=parameters)\n",
    "#     oauth_request.sign_request(oauth.OAuthSignatureMethod_HMAC_SHA1(), consumer, token)\n",
    "#     return oauth_request.to_url()\n",
    "\n",
    "\n",
    "# def test_me() :\n",
    "#     print('* Calling Twitter...')\n",
    "#     url = augment('https://api.twitter.com/1.1/statuses/user_timeline.json',\n",
    "#         {'screen_name': 'drchuck', 'count': '2'} )\n",
    "#     print(url)\n",
    "#     connection = request.urlopen(url)\n",
    "#     data = connection.read()\n",
    "#     print(data)\n",
    "#     headers = connection.info().dict\n",
    "#     print(headers)\n",
    "    \n",
    "# test_me()"
   ]
  },
  {
   "cell_type": "code",
   "execution_count": 5,
   "metadata": {
    "collapsed": false
   },
   "outputs": [],
   "source": [
    "# from urllib import request\n",
    "# from twurl import augment\n",
    "\n",
    "# print('* Calling Twitter...')\n",
    "\n",
    "# url = augment('https://api.twitter.com/1.1/statuses/user_timeline.json',\n",
    "#         {'screen_name': 'drchuck', 'count': '2'} )\n",
    "\n",
    "# print(url)\n",
    "\n",
    "# connection = request.urlopen(url)\n",
    "# data = connection.read()\n",
    "\n",
    "# print(data)\n",
    "\n",
    "# headers = connection.info().dict\n",
    "\n",
    "# print(headers)\n"
   ]
  },
  {
   "cell_type": "code",
   "execution_count": 6,
   "metadata": {
    "collapsed": true
   },
   "outputs": [],
   "source": [
    "# import urllib\n",
    "# import twurl\n",
    "\n",
    "# TWITTER_URL = 'https://api.twitter.com/1.1/statuses/user_timeline.json'\n",
    "\n",
    "# while True:\n",
    "#     print ''\n",
    "#     acct = raw_input('Enter Twitter Account:')\n",
    "#     if ( len(acct) < 1 ) : break\n",
    "#     url = twurl.augment(TWITTER_URL,\n",
    "#         {'screen_name': acct, 'count': '2'} )\n",
    "#     print 'Retrieving', url\n",
    "#     connection = urllib.urlopen(url)\n",
    "#     data = connection.read()\n",
    "#     print data[:250]\n",
    "#     headers = connection.info().dict\n",
    "#     # print headers\n",
    "#     print 'Remaining', headers['x-rate-limit-remaining']\n"
   ]
  },
  {
   "cell_type": "code",
   "execution_count": 7,
   "metadata": {
    "collapsed": true
   },
   "outputs": [],
   "source": [
    "# import urllib\n",
    "# import twurl\n",
    "# import json\n",
    "\n",
    "# TWITTER_URL = 'https://api.twitter.com/1.1/friends/list.json'\n",
    "\n",
    "# while True:\n",
    "#     print ''\n",
    "#     acct = raw_input('Enter Twitter Account:')\n",
    "#     if ( len(acct) < 1 ) : break\n",
    "#     url = twurl.augment(TWITTER_URL,\n",
    "#         {'screen_name': acct, 'count': '5'} )\n",
    "#     print 'Retrieving', url\n",
    "#     connection = urllib.urlopen(url)\n",
    "#     data = connection.read()\n",
    "#     headers = connection.info().dict\n",
    "#     print 'Remaining', headers['x-rate-limit-remaining']\n",
    "#     js = json.loads(data)\n",
    "#     print json.dumps(js, indent=4)\n",
    "\n",
    "#     for u in js['users'] :\n",
    "#         print u['screen_name']\n",
    "#         s = u['status']['text']\n",
    "#         print '  ',s[:50]\n"
   ]
  },
  {
   "cell_type": "markdown",
   "metadata": {
    "collapsed": true
   },
   "source": [
    "### Summary\n",
    "\n",
    "- Service Oriented Architecture: Allows an application to be broken into parts and distributed across a network\n",
    "- An Application Program Interface(API) is a contract for interaction\n",
    "- Web Service provide infrastructure for applications cooperating (an API) over a network - SOAP and REST are two styles of web services\n",
    "- XML and JSON are serialization formats"
   ]
  }
 ],
 "metadata": {
  "kernelspec": {
   "display_name": "Python 3",
   "language": "python",
   "name": "python3"
  },
  "language_info": {
   "codemirror_mode": {
    "name": "ipython",
    "version": 3
   },
   "file_extension": ".py",
   "mimetype": "text/x-python",
   "name": "python",
   "nbconvert_exporter": "python",
   "pygments_lexer": "ipython3",
   "version": "3.5.3"
  }
 },
 "nbformat": 4,
 "nbformat_minor": 0
}
